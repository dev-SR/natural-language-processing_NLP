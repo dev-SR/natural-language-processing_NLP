{
 "cells": [
  {
   "cell_type": "markdown",
   "metadata": {},
   "source": [
    "# Assignment-1"
   ]
  },
  {
   "cell_type": "code",
   "execution_count": null,
   "metadata": {},
   "outputs": [],
   "source": [
    "\"\"\"\n",
    "cd .\\03assignment\\\n",
    "jupyter nbconvert --to markdown asng.ipynb --output README.md\n",
    "\"\"\""
   ]
  },
  {
   "cell_type": "markdown",
   "metadata": {},
   "source": [
    "## Load Data"
   ]
  },
  {
   "cell_type": "code",
   "execution_count": 2,
   "metadata": {},
   "outputs": [
    {
     "data": {
      "text/plain": [
       "'Robert C. (Chamblet) Adams'"
      ]
     },
     "execution_count": 2,
     "metadata": {},
     "output_type": "execute_result"
    }
   ],
   "source": [
    "author_name=\"\"\n",
    "with open(\"64171-0.txt\", 'r') as target_file:\n",
    "\tfor num, line in enumerate(target_file.readlines()):\n",
    "\t\tif str(\"Author\") in line:\n",
    "\t\t\tauthor_name = line.split(\":\")[1].strip()\n",
    "author_name"
   ]
  },
  {
   "cell_type": "code",
   "execution_count": 3,
   "metadata": {},
   "outputs": [],
   "source": [
    "out = open(\"64171-0_chapter.txt\", \"w\")\n",
    "with open('64171-0.txt', 'r') as f:\n",
    "\tdata = f.read()\n",
    "\tif \"CHAPTER I.\" in data:\n",
    "\t\tdata = data.replace(\"CHAPTER I.\", \"CHAPTERI.\")\n",
    "\t\tprint(data, file=out)\n",
    "out.close()\n"
   ]
  },
  {
   "cell_type": "code",
   "execution_count": 4,
   "metadata": {},
   "outputs": [],
   "source": [
    "list_of_blocks = []\n",
    "with open('64171-0_chapter.txt', 'r') as f:\n",
    "\tdata = f.read()\n",
    "\t# print(len(data.split()))\n",
    "\ttotal_word = len(data.split())\n",
    "\tdata = data.split()\n",
    "\tindices = []\n",
    "\tfor i, w in enumerate(data):\n",
    "\t\t# start reading from CHAPTER I.\n",
    "\t\tif \"CHAPTERI\" in w:\n",
    "\t\t\tindices.append(i)\n",
    "\tlast = indices[-1]\n",
    "\t# print(last)\n",
    "\tdata = data[last+1:]\n",
    "\n",
    "\tn = 200\n",
    "\tfor i in range(n):\n",
    "\t\ts = round(total_word*i/n)\n",
    "\t\te = round(total_word*(1+i)/n)\n",
    "\t\t# print(s,e)\n",
    "\t\tchunks = data[s:e]\n",
    "\t\tchunks = \" \".join(chunks)\n",
    "\t\t# print(chunks)\n",
    "\t\t# print(100*\"=\")\n",
    "\t\tlist_of_blocks.append(chunks)\n",
    "\n",
    "# print(list_of_blocks)\n"
   ]
  },
  {
   "cell_type": "code",
   "execution_count": 5,
   "metadata": {},
   "outputs": [],
   "source": [
    "import pandas as pd"
   ]
  },
  {
   "cell_type": "code",
   "execution_count": 6,
   "metadata": {},
   "outputs": [],
   "source": [
    "author_list = [author_name]*len(list_of_blocks)\n",
    "# author_list"
   ]
  },
  {
   "cell_type": "code",
   "execution_count": 7,
   "metadata": {},
   "outputs": [
    {
     "data": {
      "text/html": [
       "<div>\n",
       "<style scoped>\n",
       "    .dataframe tbody tr th:only-of-type {\n",
       "        vertical-align: middle;\n",
       "    }\n",
       "\n",
       "    .dataframe tbody tr th {\n",
       "        vertical-align: top;\n",
       "    }\n",
       "\n",
       "    .dataframe thead th {\n",
       "        text-align: right;\n",
       "    }\n",
       "</style>\n",
       "<table border=\"1\" class=\"dataframe\">\n",
       "  <thead>\n",
       "    <tr style=\"text-align: right;\">\n",
       "      <th></th>\n",
       "      <th>data</th>\n",
       "      <th>author</th>\n",
       "    </tr>\n",
       "  </thead>\n",
       "  <tbody>\n",
       "    <tr>\n",
       "      <th>0</th>\n",
       "      <td>In Lloyds Register is recorded:--\"_Rocket_, Bk...</td>\n",
       "      <td>Robert C. (Chamblet) Adams</td>\n",
       "    </tr>\n",
       "    <tr>\n",
       "      <th>1</th>\n",
       "      <td>out. Wishing to choose for myself who should s...</td>\n",
       "      <td>Robert C. (Chamblet) Adams</td>\n",
       "    </tr>\n",
       "    <tr>\n",
       "      <th>2</th>\n",
       "      <td>quiet, but the mate remarked, he thought we ha...</td>\n",
       "      <td>Robert C. (Chamblet) Adams</td>\n",
       "    </tr>\n",
       "    <tr>\n",
       "      <th>3</th>\n",
       "      <td>shore again and you'll never catch me on board...</td>\n",
       "      <td>Robert C. (Chamblet) Adams</td>\n",
       "    </tr>\n",
       "    <tr>\n",
       "      <th>4</th>\n",
       "      <td>lower rigging of the ship, forms the great vol...</td>\n",
       "      <td>Robert C. (Chamblet) Adams</td>\n",
       "    </tr>\n",
       "  </tbody>\n",
       "</table>\n",
       "</div>"
      ],
      "text/plain": [
       "                                                data  \\\n",
       "0  In Lloyds Register is recorded:--\"_Rocket_, Bk...   \n",
       "1  out. Wishing to choose for myself who should s...   \n",
       "2  quiet, but the mate remarked, he thought we ha...   \n",
       "3  shore again and you'll never catch me on board...   \n",
       "4  lower rigging of the ship, forms the great vol...   \n",
       "\n",
       "                       author  \n",
       "0  Robert C. (Chamblet) Adams  \n",
       "1  Robert C. (Chamblet) Adams  \n",
       "2  Robert C. (Chamblet) Adams  \n",
       "3  Robert C. (Chamblet) Adams  \n",
       "4  Robert C. (Chamblet) Adams  "
      ]
     },
     "execution_count": 7,
     "metadata": {},
     "output_type": "execute_result"
    }
   ],
   "source": [
    "df = pd.DataFrame({\n",
    "\t'data': list_of_blocks,\n",
    "\t\"author\": author_list\n",
    "})\n",
    "df.head()\n"
   ]
  },
  {
   "cell_type": "markdown",
   "metadata": {},
   "source": [
    "## Data Pre-Process"
   ]
  },
  {
   "cell_type": "code",
   "execution_count": 8,
   "metadata": {},
   "outputs": [],
   "source": [
    "from nltk.stem.porter import PorterStemmer\n",
    "from nltk.tokenize import word_tokenize\n",
    "from nltk.corpus import stopwords\n",
    "import re\n",
    "ps = PorterStemmer()\n"
   ]
  },
  {
   "cell_type": "code",
   "execution_count": 84,
   "metadata": {},
   "outputs": [],
   "source": [
    "def text_process(msg):\n",
    "\t# Remove Emails\n",
    "\tmsg = re.sub('\\b[\\w\\-.]+?@\\w+?\\.\\w{2,4}\\b', 'emailaddr', msg)\n",
    "\t# Remove url's\n",
    "\tmsg = re.sub('(http[s]?\\S+)|(\\w+\\.[A-Za-z]{2,4}\\S*)', 'httpaddr', msg)\n",
    "\t# Remove Money Symbols\n",
    "\tmsg = re.sub('£|\\$', 'moneysymb', msg)\n",
    "\t# Remove Phone Numbers\n",
    "\tmsg = re.sub(\n",
    "\t\t'\\b(\\+\\d{1,2}\\s?\\d?[\\-(.]?\\d{3}\\)?[\\s.-]?\\d{3}[\\s.-]?\\d{4})\\b', 'phonenumbr', msg)\n",
    "\t# Remove Numbers\n",
    "\tmsg = re.sub('\\d+(\\.\\d+)?', '', msg)\n",
    "\t# Remove Punctuation\n",
    "\tmsg = re.sub('[^\\w\\s]', '', msg)\n",
    "\t# Remove Extra Spaces\n",
    "\tmsg = re.sub('\\s+', ' ', msg)\n",
    "\n",
    "\t# Lower case\n",
    "\tmsg = msg.lower()\n",
    "\n",
    "\t# Tokenize\n",
    "\twords = word_tokenize(msg)\n",
    "\n",
    "\t# Remove Stop Words\n",
    "\tstop_words = set(stopwords.words('english'))\n",
    "\twords = [w for w in words if not w in stop_words]\n",
    "\n",
    "\t# Stemming\n",
    "\tstemmed_words = [ps.stem(w) for w in words]\n",
    "\n",
    "\t# Join the words back into one string separated by space,\n",
    "\tstemmed_sen = ' '.join(stemmed_words)\n",
    "\n",
    "\treturn stemmed_sen\n"
   ]
  },
  {
   "cell_type": "code",
   "execution_count": 85,
   "metadata": {},
   "outputs": [
    {
     "data": {
      "text/html": [
       "<div>\n",
       "<style scoped>\n",
       "    .dataframe tbody tr th:only-of-type {\n",
       "        vertical-align: middle;\n",
       "    }\n",
       "\n",
       "    .dataframe tbody tr th {\n",
       "        vertical-align: top;\n",
       "    }\n",
       "\n",
       "    .dataframe thead th {\n",
       "        text-align: right;\n",
       "    }\n",
       "</style>\n",
       "<table border=\"1\" class=\"dataframe\">\n",
       "  <thead>\n",
       "    <tr style=\"text-align: right;\">\n",
       "      <th></th>\n",
       "      <th>data</th>\n",
       "      <th>author</th>\n",
       "      <th>clean_msg</th>\n",
       "    </tr>\n",
       "  </thead>\n",
       "  <tbody>\n",
       "    <tr>\n",
       "      <th>0</th>\n",
       "      <td>In Lloyds Register is recorded:--\"_Rocket_, Bk...</td>\n",
       "      <td>Robert C. (Chamblet) Adams</td>\n",
       "      <td>lloyd regist recorded_rocket_ bk medford wo ic...</td>\n",
       "    </tr>\n",
       "    <tr>\n",
       "      <th>1</th>\n",
       "      <td>out. Wishing to choose for myself who should s...</td>\n",
       "      <td>Robert C. (Chamblet) Adams</td>\n",
       "      <td>wish choos sail mani month ship master told se...</td>\n",
       "    </tr>\n",
       "    <tr>\n",
       "      <th>2</th>\n",
       "      <td>quiet, but the mate remarked, he thought we ha...</td>\n",
       "      <td>Robert C. (Chamblet) Adams</td>\n",
       "      <td>quiet mate remark thought pretti hard crew wat...</td>\n",
       "    </tr>\n",
       "    <tr>\n",
       "      <th>3</th>\n",
       "      <td>shore again and you'll never catch me on board...</td>\n",
       "      <td>Robert C. (Chamblet) Adams</td>\n",
       "      <td>shore youll never catch board ship morn light ...</td>\n",
       "    </tr>\n",
       "    <tr>\n",
       "      <th>4</th>\n",
       "      <td>lower rigging of the ship, forms the great vol...</td>\n",
       "      <td>Robert C. (Chamblet) Adams</td>\n",
       "      <td>lower rig ship form great volum sound constant...</td>\n",
       "    </tr>\n",
       "  </tbody>\n",
       "</table>\n",
       "</div>"
      ],
      "text/plain": [
       "                                                data  \\\n",
       "0  In Lloyds Register is recorded:--\"_Rocket_, Bk...   \n",
       "1  out. Wishing to choose for myself who should s...   \n",
       "2  quiet, but the mate remarked, he thought we ha...   \n",
       "3  shore again and you'll never catch me on board...   \n",
       "4  lower rigging of the ship, forms the great vol...   \n",
       "\n",
       "                       author  \\\n",
       "0  Robert C. (Chamblet) Adams   \n",
       "1  Robert C. (Chamblet) Adams   \n",
       "2  Robert C. (Chamblet) Adams   \n",
       "3  Robert C. (Chamblet) Adams   \n",
       "4  Robert C. (Chamblet) Adams   \n",
       "\n",
       "                                           clean_msg  \n",
       "0  lloyd regist recorded_rocket_ bk medford wo ic...  \n",
       "1  wish choos sail mani month ship master told se...  \n",
       "2  quiet mate remark thought pretti hard crew wat...  \n",
       "3  shore youll never catch board ship morn light ...  \n",
       "4  lower rig ship form great volum sound constant...  "
      ]
     },
     "execution_count": 85,
     "metadata": {},
     "output_type": "execute_result"
    }
   ],
   "source": [
    "df['clean_msg'] = df.data.apply(text_process)\n",
    "df.head()"
   ]
  },
  {
   "cell_type": "code",
   "execution_count": 86,
   "metadata": {},
   "outputs": [
    {
     "data": {
      "text/plain": [
       "'In Lloyds Register is recorded:--\"_Rocket_, Bk. 384, 135, 25, 16.5, 1851, Medford, W.O., icf.,\" which being interpreted means, Bark _Rocket_, 384 tons, 135 feet long, 25 feet beam, 16-1/2 feet depth of hold, built in 1851, at Medford, of white oak, with iron and copper fastenings. To which may be added, that she was a well known trader to the East Indies, being called in those ports \"the green bark,\" on account of being painted a dark green, or what the painters style tea color. She was a good looking vessel, neatly finished about the decks, and the masts and yards were all scraped bright. The chief peculiarity was that she was narrow in proportion to her length, being compared by an old sailor to \"a plank set on edge.\" This caused her to be reputed, and not undeservedly, a crank vessel, and many a gloomy croaker has uttered the foreboding that like her sister ship, the \"Dauntless,\" she would go to sea sometime--never to return. Yet for many years she had gone and come, and though occasionally threatening to capsize, she had never really performed this undesirable manÅ“uvre. The builder and the subsequent owner were two of the most practical merchants of Boston. She must therefore have been well put together and properly cared for, as there was truth in the remark made, that \"what Nat G----, and Dick B---- didn\\'t know about a ship wasn\\'t worth knowing.\" * * * * * The _Rocket_ was lying at Central Wharf in Boston, loading a cargo for the East Indies. Barrels of beef, pork, tar and pitch were stowed in the bottom; then followed in miscellaneous order, lumber, sewing machines, kerosene oil, flour, biscuits, preserves, ice pitchers, carriages, oars and many other articles. As the sailing day drew near, the important matter of choosing officers and crew had to be considered. The first person who applied was an aspirant to the mate\\'s berth. \"How long have you been to sea?\" was asked. \"Thirty years.\" \"Why! how old are you?\" \"Twenty-nine.\" \"How do you make that out?\" \"Oh, I was born and bred at sea.\" He was thought to be too old a sailor for a young captain to manage, and was not engaged. Soon a young man applied, with more modest demeanor, and he was secured. The rest of the crew were soon picked'"
      ]
     },
     "execution_count": 86,
     "metadata": {},
     "output_type": "execute_result"
    }
   ],
   "source": [
    "df['data'][0]\n"
   ]
  },
  {
   "cell_type": "code",
   "execution_count": 87,
   "metadata": {},
   "outputs": [
    {
     "data": {
      "text/plain": [
       "'lloyd regist recorded_rocket_ bk medford wo icf interpret mean bark _rocket_ ton feet long feet beam feet depth hold built medford white oak iron copper fasten may ad well known trader east indi call port green bark account paint dark green painter style tea color good look vessel neatli finish deck mast yard scrape bright chief peculiar narrow proport length compar old sailor plank set edg caus reput undeservedli crank vessel mani gloomi croaker utter forebod like sister ship dauntless would go sea sometimenev return yet mani year gone come though occasion threaten capsiz never realli perform undesir manåuvr builder subsequ owner two practic merchant boston must therefor well put togeth properli care truth remark made nat g dick b didnt know ship wasnt worth know _rocket_ lie central wharf boston load cargo east indi barrel beef pork tar pitch stow bottom follow miscellan order lumber sew machin kerosen oil flour biscuit preserv ice pitcher carriag oar mani articl sail day drew near import matter choos offic crew consid first person appli aspir mate berth long sea ask thirti year old twentynin make oh born bred sea thought old sailor young captain manag engag soon young man appli modest demeanor secur rest crew soon pick'"
      ]
     },
     "execution_count": 87,
     "metadata": {},
     "output_type": "execute_result"
    }
   ],
   "source": [
    "df['clean_msg'][0]\n"
   ]
  }
 ],
 "metadata": {
  "interpreter": {
   "hash": "8cdb09b0bc1c395d296938b19fe7764d972a7ceeffba4d3ad7ff6a3771581719"
  },
  "kernelspec": {
   "display_name": "Python 3.8.8 64-bit ('ProgramData': virtualenv)",
   "language": "python",
   "name": "python3"
  },
  "language_info": {
   "codemirror_mode": {
    "name": "ipython",
    "version": 3
   },
   "file_extension": ".py",
   "mimetype": "text/x-python",
   "name": "python",
   "nbconvert_exporter": "python",
   "pygments_lexer": "ipython3",
   "version": "3.8.8"
  },
  "orig_nbformat": 2
 },
 "nbformat": 4,
 "nbformat_minor": 2
}
