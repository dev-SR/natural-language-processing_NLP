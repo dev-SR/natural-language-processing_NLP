{
 "cells": [
  {
   "cell_type": "markdown",
   "metadata": {},
   "source": [
    "# MultiClass Text Classification with Multiple Estimators and HyperparameterOptimization"
   ]
  },
  {
   "cell_type": "code",
   "execution_count": 1,
   "metadata": {},
   "outputs": [],
   "source": [
    "\"\"\"\n",
    "cd .\\03multiclass-classification\\\n",
    "jupyter nbconvert --to markdown multiclass.ipynb --output README.md\n",
    "\"\"\"\n"
   ]
  },
  {
   "cell_type": "markdown",
   "metadata": {},
   "source": [
    "## Problem Formulation"
   ]
  },
  {
   "cell_type": "markdown",
   "metadata": {},
   "source": [
    "There are lots of applications of text classification in the commercial world. For example, news stories are typically organized by topics; content or products are often tagged by categories; users can be classified into cohorts based on how they talk about a product or brand online …\n",
    "\n",
    "\n",
    "This project covers multiclass classification on a customer complaints dataset.\n",
    "\n",
    "[customer-complaints-dataset](https://catalog.data.gov/dataset/consumer-complaint-database)\n",
    "\n",
    "**Problem Formulation:**\n",
    "\n",
    "Given a new complaint comes in, we want to assign it to one of 12 categories. The classifier makes the assumption that each new complaint is assigned to one and only one category. This is multi-class text classification problem. I can’t wait to see what we can achieve!\n",
    "\n",
    "For this project, we need only two columns — “Product” and “Consumer complaint narrative”.\n",
    "\n",
    "- Input: Consumer_complaint_narrative\n",
    "  \n",
    "Example: “ I have outdated information on my credit report that I have previously disputed that has yet to be removed this information is more then seven years old and does not meet credit reporting requirements\"\n",
    "\n",
    "- Output: product\n",
    "Example: Credit reporting\n",
    "\n",
    "\n",
    "After preprocessing the data we will build multiple models with different estimator and different hyperparemeters to find the best performing model."
   ]
  },
  {
   "cell_type": "markdown",
   "metadata": {},
   "source": [
    "## Load the Data"
   ]
  },
  {
   "cell_type": "markdown",
   "metadata": {},
   "source": [
    "### Get the data ready"
   ]
  },
  {
   "cell_type": "code",
   "execution_count": 53,
   "metadata": {},
   "outputs": [],
   "source": [
    "import pandas as pd\n",
    "import numpy as np"
   ]
  },
  {
   "cell_type": "code",
   "execution_count": 54,
   "metadata": {},
   "outputs": [
    {
     "data": {
      "text/html": [
       "<div>\n",
       "<style scoped>\n",
       "    .dataframe tbody tr th:only-of-type {\n",
       "        vertical-align: middle;\n",
       "    }\n",
       "\n",
       "    .dataframe tbody tr th {\n",
       "        vertical-align: top;\n",
       "    }\n",
       "\n",
       "    .dataframe thead th {\n",
       "        text-align: right;\n",
       "    }\n",
       "</style>\n",
       "<table border=\"1\" class=\"dataframe\">\n",
       "  <thead>\n",
       "    <tr style=\"text-align: right;\">\n",
       "      <th></th>\n",
       "      <th>Product</th>\n",
       "      <th>Consumer Complaint</th>\n",
       "    </tr>\n",
       "  </thead>\n",
       "  <tbody>\n",
       "    <tr>\n",
       "      <th>0</th>\n",
       "      <td>Mortgage</td>\n",
       "      <td>NaN</td>\n",
       "    </tr>\n",
       "    <tr>\n",
       "      <th>1</th>\n",
       "      <td>Credit reporting</td>\n",
       "      <td>I have outdated information on my credit repor...</td>\n",
       "    </tr>\n",
       "    <tr>\n",
       "      <th>2</th>\n",
       "      <td>Consumer Loan</td>\n",
       "      <td>I purchased a new car on XXXX XXXX. The car de...</td>\n",
       "    </tr>\n",
       "    <tr>\n",
       "      <th>3</th>\n",
       "      <td>Credit card</td>\n",
       "      <td>NaN</td>\n",
       "    </tr>\n",
       "    <tr>\n",
       "      <th>4</th>\n",
       "      <td>Debt collection</td>\n",
       "      <td>NaN</td>\n",
       "    </tr>\n",
       "  </tbody>\n",
       "</table>\n",
       "</div>"
      ],
      "text/plain": [
       "            Product                                 Consumer Complaint\n",
       "0          Mortgage                                                NaN\n",
       "1  Credit reporting  I have outdated information on my credit repor...\n",
       "2     Consumer Loan  I purchased a new car on XXXX XXXX. The car de...\n",
       "3       Credit card                                                NaN\n",
       "4   Debt collection                                                NaN"
      ]
     },
     "execution_count": 54,
     "metadata": {},
     "output_type": "execute_result"
    }
   ],
   "source": [
    "\n",
    "# dataset = pd.read_csv('Consumer_Complaints_min.csv')\n",
    "dataset = pd.read_csv('Consumer_Complaints.csv')\n",
    "# Select only the Product and Consumer Complaint columns  \n",
    "dataset= dataset[['Product', 'Consumer Complaint']]\n",
    "dataset.head()\n"
   ]
  },
  {
   "cell_type": "code",
   "execution_count": 55,
   "metadata": {},
   "outputs": [
    {
     "data": {
      "text/html": [
       "<div>\n",
       "<style scoped>\n",
       "    .dataframe tbody tr th:only-of-type {\n",
       "        vertical-align: middle;\n",
       "    }\n",
       "\n",
       "    .dataframe tbody tr th {\n",
       "        vertical-align: top;\n",
       "    }\n",
       "\n",
       "    .dataframe thead th {\n",
       "        text-align: right;\n",
       "    }\n",
       "</style>\n",
       "<table border=\"1\" class=\"dataframe\">\n",
       "  <thead>\n",
       "    <tr style=\"text-align: right;\">\n",
       "      <th></th>\n",
       "      <th>Product</th>\n",
       "      <th>ConsumerComplaint</th>\n",
       "    </tr>\n",
       "  </thead>\n",
       "  <tbody>\n",
       "    <tr>\n",
       "      <th>1</th>\n",
       "      <td>Credit reporting</td>\n",
       "      <td>I have outdated information on my credit repor...</td>\n",
       "    </tr>\n",
       "    <tr>\n",
       "      <th>2</th>\n",
       "      <td>Consumer Loan</td>\n",
       "      <td>I purchased a new car on XXXX XXXX. The car de...</td>\n",
       "    </tr>\n",
       "    <tr>\n",
       "      <th>7</th>\n",
       "      <td>Credit reporting</td>\n",
       "      <td>An account on my credit report has a mistaken ...</td>\n",
       "    </tr>\n",
       "    <tr>\n",
       "      <th>12</th>\n",
       "      <td>Debt collection</td>\n",
       "      <td>This company refuses to provide me verificatio...</td>\n",
       "    </tr>\n",
       "    <tr>\n",
       "      <th>16</th>\n",
       "      <td>Debt collection</td>\n",
       "      <td>This complaint is in regards to Square Two Fin...</td>\n",
       "    </tr>\n",
       "  </tbody>\n",
       "</table>\n",
       "</div>"
      ],
      "text/plain": [
       "             Product                                  ConsumerComplaint\n",
       "1   Credit reporting  I have outdated information on my credit repor...\n",
       "2      Consumer Loan  I purchased a new car on XXXX XXXX. The car de...\n",
       "7   Credit reporting  An account on my credit report has a mistaken ...\n",
       "12   Debt collection  This company refuses to provide me verificatio...\n",
       "16   Debt collection  This complaint is in regards to Square Two Fin..."
      ]
     },
     "execution_count": 55,
     "metadata": {},
     "output_type": "execute_result"
    }
   ],
   "source": [
    "# Drop rows with missing labels\n",
    "dataset.dropna(subset=[\"Consumer Complaint\"], inplace=True)\n",
    "# Rename column\n",
    "dataset.columns = ['Product', 'ConsumerComplaint']\n",
    "dataset.head()"
   ]
  },
  {
   "cell_type": "code",
   "execution_count": 56,
   "metadata": {},
   "outputs": [
    {
     "data": {
      "text/html": [
       "<div>\n",
       "<style scoped>\n",
       "    .dataframe tbody tr th:only-of-type {\n",
       "        vertical-align: middle;\n",
       "    }\n",
       "\n",
       "    .dataframe tbody tr th {\n",
       "        vertical-align: top;\n",
       "    }\n",
       "\n",
       "    .dataframe thead th {\n",
       "        text-align: right;\n",
       "    }\n",
       "</style>\n",
       "<table border=\"1\" class=\"dataframe\">\n",
       "  <thead>\n",
       "    <tr style=\"text-align: right;\">\n",
       "      <th></th>\n",
       "      <th>Product</th>\n",
       "      <th>ConsumerComplaint</th>\n",
       "    </tr>\n",
       "  </thead>\n",
       "  <tbody>\n",
       "    <tr>\n",
       "      <th>1</th>\n",
       "      <td>Credit reporting</td>\n",
       "      <td>I have outdated information on my credit repor...</td>\n",
       "    </tr>\n",
       "    <tr>\n",
       "      <th>7</th>\n",
       "      <td>Credit reporting</td>\n",
       "      <td>An account on my credit report has a mistaken ...</td>\n",
       "    </tr>\n",
       "    <tr>\n",
       "      <th>12</th>\n",
       "      <td>Debt collection</td>\n",
       "      <td>This company refuses to provide me verificatio...</td>\n",
       "    </tr>\n",
       "    <tr>\n",
       "      <th>16</th>\n",
       "      <td>Debt collection</td>\n",
       "      <td>This complaint is in regards to Square Two Fin...</td>\n",
       "    </tr>\n",
       "    <tr>\n",
       "      <th>25</th>\n",
       "      <td>Mortgage</td>\n",
       "      <td>Started the refinance of home mortgage process...</td>\n",
       "    </tr>\n",
       "  </tbody>\n",
       "</table>\n",
       "</div>"
      ],
      "text/plain": [
       "             Product                                  ConsumerComplaint\n",
       "1   Credit reporting  I have outdated information on my credit repor...\n",
       "7   Credit reporting  An account on my credit report has a mistaken ...\n",
       "12   Debt collection  This company refuses to provide me verificatio...\n",
       "16   Debt collection  This complaint is in regards to Square Two Fin...\n",
       "25          Mortgage  Started the refinance of home mortgage process..."
      ]
     },
     "execution_count": 56,
     "metadata": {},
     "output_type": "execute_result"
    }
   ],
   "source": [
    "# Only include the following products\n",
    "dataset = dataset[dataset['Product'].isin(['Credit reporting',\n",
    "                                           'Debt collection',\n",
    "                                          'Mortgage',\n",
    "                                           'Credit Card',\n",
    "                                           'Student loan',\n",
    "                                           'Bank account or service'])]\n",
    "\n",
    "# Print the top 5 rows\n",
    "dataset.head()\n"
   ]
  },
  {
   "cell_type": "markdown",
   "metadata": {},
   "source": [
    "### Labels Encoding"
   ]
  },
  {
   "cell_type": "code",
   "execution_count": 57,
   "metadata": {},
   "outputs": [],
   "source": [
    "from sklearn.preprocessing import LabelEncoder\n",
    "labelencoder = LabelEncoder()"
   ]
  },
  {
   "cell_type": "code",
   "execution_count": 58,
   "metadata": {},
   "outputs": [
    {
     "data": {
      "text/html": [
       "<div>\n",
       "<style scoped>\n",
       "    .dataframe tbody tr th:only-of-type {\n",
       "        vertical-align: middle;\n",
       "    }\n",
       "\n",
       "    .dataframe tbody tr th {\n",
       "        vertical-align: top;\n",
       "    }\n",
       "\n",
       "    .dataframe thead th {\n",
       "        text-align: right;\n",
       "    }\n",
       "</style>\n",
       "<table border=\"1\" class=\"dataframe\">\n",
       "  <thead>\n",
       "    <tr style=\"text-align: right;\">\n",
       "      <th></th>\n",
       "      <th>Product</th>\n",
       "      <th>ConsumerComplaint</th>\n",
       "      <th>category_id</th>\n",
       "    </tr>\n",
       "  </thead>\n",
       "  <tbody>\n",
       "    <tr>\n",
       "      <th>1</th>\n",
       "      <td>Credit reporting</td>\n",
       "      <td>I have outdated information on my credit repor...</td>\n",
       "      <td>1</td>\n",
       "    </tr>\n",
       "    <tr>\n",
       "      <th>7</th>\n",
       "      <td>Credit reporting</td>\n",
       "      <td>An account on my credit report has a mistaken ...</td>\n",
       "      <td>1</td>\n",
       "    </tr>\n",
       "    <tr>\n",
       "      <th>12</th>\n",
       "      <td>Debt collection</td>\n",
       "      <td>This company refuses to provide me verificatio...</td>\n",
       "      <td>2</td>\n",
       "    </tr>\n",
       "    <tr>\n",
       "      <th>16</th>\n",
       "      <td>Debt collection</td>\n",
       "      <td>This complaint is in regards to Square Two Fin...</td>\n",
       "      <td>2</td>\n",
       "    </tr>\n",
       "    <tr>\n",
       "      <th>25</th>\n",
       "      <td>Mortgage</td>\n",
       "      <td>Started the refinance of home mortgage process...</td>\n",
       "      <td>3</td>\n",
       "    </tr>\n",
       "  </tbody>\n",
       "</table>\n",
       "</div>"
      ],
      "text/plain": [
       "             Product                                  ConsumerComplaint  \\\n",
       "1   Credit reporting  I have outdated information on my credit repor...   \n",
       "7   Credit reporting  An account on my credit report has a mistaken ...   \n",
       "12   Debt collection  This company refuses to provide me verificatio...   \n",
       "16   Debt collection  This complaint is in regards to Square Two Fin...   \n",
       "25          Mortgage  Started the refinance of home mortgage process...   \n",
       "\n",
       "    category_id  \n",
       "1             1  \n",
       "7             1  \n",
       "12            2  \n",
       "16            2  \n",
       "25            3  "
      ]
     },
     "execution_count": 58,
     "metadata": {},
     "output_type": "execute_result"
    }
   ],
   "source": [
    "# Assigning numerical values and storing in another column\n",
    "dataset['category_id'] = labelencoder.fit_transform(dataset['Product'])\n",
    "dataset.head()"
   ]
  },
  {
   "cell_type": "markdown",
   "metadata": {},
   "source": [
    "## Text Preprocessing"
   ]
  },
  {
   "cell_type": "markdown",
   "metadata": {},
   "source": [
    "### How clean is the text?"
   ]
  },
  {
   "cell_type": "code",
   "execution_count": 59,
   "metadata": {},
   "outputs": [
    {
     "data": {
      "text/plain": [
       "['I have outdated information on my credit report that I have previously disputed that has yet to be removed this information is more then seven years old and does not meet credit reporting requirements',\n",
       " 'An account on my credit report has a mistaken date. I mailed in a debt validation letter to allow XXXX to correct the information. I received a letter in the mail, stating that Experian received my correspondence and found it to be \" suspicious \\'\\' and that \" I did n\\'t write it \\'\\'. Experian \\'s letter is worded to imply that I am incapable of writing my own letter. I was deeply offended by this implication. \\nI called Experian to figure out why my letter was so suspicious. I spoke to a representative who was incredibly unhelpful, She did not effectively answer any questions I asked of her, and she kept ignoring what I was saying regarding the offensive letter and my dispute process. I feel the representative did what she wanted to do, and I am not satisfied. It is STILL not clear to me why I received this letter. I typed this letter, I signed this letter, and I paid to mail this letter, yet Experian willfully disregarded my lawful request. \\nI am disgusted with this entire situation, and I would like for my dispute to be handled appropriately, and I would like for an Experian representative to contact me and give me a real explanation for this letter.']"
      ]
     },
     "execution_count": 59,
     "metadata": {},
     "output_type": "execute_result"
    }
   ],
   "source": [
    "dataset[\"ConsumerComplaint\"].to_list()[:2]"
   ]
  },
  {
   "cell_type": "markdown",
   "metadata": {},
   "source": [
    "### Run data through cleanup function"
   ]
  },
  {
   "cell_type": "code",
   "execution_count": 61,
   "metadata": {},
   "outputs": [],
   "source": [
    "import nltk\n",
    "from nltk.corpus import stopwords\n",
    "import re\n",
    "\n",
    "# Lets do some text cleanup\n",
    "REPLACE_BY_SPACE_RE = re.compile('[/(){}\\[\\]\\|@,;]')\n",
    "BAD_SYMBOLS_RE = re.compile('[^0-9a-z #+_]')\n",
    "REMOVE_NUM = re.compile('[\\d+]')\n",
    "STOPWORDS = set(stopwords.words('english'))\n",
    "\n",
    "\n",
    "def clean_text(text):\n",
    "    \"\"\"\n",
    "    text: a string\n",
    "    return: modified initial string\n",
    "    \"\"\"\n",
    "    text = text.lower()  # lowercase text\n",
    "    # replace REPLACE_BY_SPACE_RE symbols by space in text\n",
    "    text = REPLACE_BY_SPACE_RE.sub(' ', text)\n",
    "    text = text.replace('x', '')  # Remove the XXXX values\n",
    "    text = REMOVE_NUM.sub('', text)\n",
    "    # delete symbols which are in BAD_SYMBOLS_RE from text\n",
    "    text = BAD_SYMBOLS_RE.sub('', text)\n",
    "    # delete stopwords from text\n",
    "    text = ' '.join(word for word in text.split() if word not in STOPWORDS)\n",
    "    return text\n",
    "\n",
    "\n",
    "dataset[\"ConsumerComplaint\"] = dataset[\"ConsumerComplaint\"].apply(clean_text)\n"
   ]
  },
  {
   "cell_type": "markdown",
   "metadata": {},
   "source": [
    "### How clean is the text now?\n"
   ]
  },
  {
   "cell_type": "code",
   "execution_count": 62,
   "metadata": {},
   "outputs": [
    {
     "data": {
      "text/plain": [
       "['outdated information credit report previously disputed yet removed information seven years old meet credit reporting requirements',\n",
       " 'account credit report mistaken date mailed debt validation letter allow correct information received letter mail stating eperian received correspondence found suspicious nt write eperian letter worded imply incapable writing letter deeply offended implication called eperian figure letter suspicious spoke representative incredibly unhelpful effectively answer questions asked kept ignoring saying regarding offensive letter dispute process feel representative wanted satisfied still clear received letter typed letter signed letter paid mail letter yet eperian willfully disregarded lawful request disgusted entire situation would like dispute handled appropriately would like eperian representative contact give real eplanation letter']"
      ]
     },
     "execution_count": 62,
     "metadata": {},
     "output_type": "execute_result"
    }
   ],
   "source": [
    "dataset[\"ConsumerComplaint\"].to_list()[:2]"
   ]
  },
  {
   "cell_type": "markdown",
   "metadata": {},
   "source": [
    "## Plotting the data"
   ]
  },
  {
   "cell_type": "code",
   "execution_count": 63,
   "metadata": {},
   "outputs": [
    {
     "data": {
      "image/png": "[encoded data removed]",
      "text/plain": [
       "<Figure size 576x360 with 1 Axes>"
      ]
     },
     "metadata": {},
     "output_type": "display_data"
    }
   ],
   "source": [
    "import seaborn as sns\n",
    "import matplotlib.pyplot as plt\n",
    "\n",
    "sns.set_style('whitegrid')\n",
    "plt.figure(figsize=(8, 5))\n",
    "ax = sns.countplot(x='Product', data=dataset)\n",
    "ax.set_xticklabels(ax.get_xticklabels(), rotation=40, ha=\"right\")\n",
    "plt.tight_layout()\n"
   ]
  },
  {
   "cell_type": "markdown",
   "metadata": {},
   "source": [
    "## Split the data into training and test sets\n"
   ]
  },
  {
   "cell_type": "code",
   "execution_count": 64,
   "metadata": {},
   "outputs": [
    {
     "data": {
      "text/html": [
       "<div>\n",
       "<style scoped>\n",
       "    .dataframe tbody tr th:only-of-type {\n",
       "        vertical-align: middle;\n",
       "    }\n",
       "\n",
       "    .dataframe tbody tr th {\n",
       "        vertical-align: top;\n",
       "    }\n",
       "\n",
       "    .dataframe thead th {\n",
       "        text-align: right;\n",
       "    }\n",
       "</style>\n",
       "<table border=\"1\" class=\"dataframe\">\n",
       "  <thead>\n",
       "    <tr style=\"text-align: right;\">\n",
       "      <th></th>\n",
       "      <th>Product</th>\n",
       "      <th>ConsumerComplaint</th>\n",
       "      <th>category_id</th>\n",
       "    </tr>\n",
       "  </thead>\n",
       "  <tbody>\n",
       "    <tr>\n",
       "      <th>4471</th>\n",
       "      <td>Debt collection</td>\n",
       "      <td>debt incurred medical charges auto accident at...</td>\n",
       "      <td>2</td>\n",
       "    </tr>\n",
       "    <tr>\n",
       "      <th>9431</th>\n",
       "      <td>Credit reporting</td>\n",
       "      <td>clue anything reported credit report tried app...</td>\n",
       "      <td>1</td>\n",
       "    </tr>\n",
       "    <tr>\n",
       "      <th>2661</th>\n",
       "      <td>Debt collection</td>\n",
       "      <td>service television internet phone townhome own...</td>\n",
       "      <td>2</td>\n",
       "    </tr>\n",
       "    <tr>\n",
       "      <th>6882</th>\n",
       "      <td>Credit reporting</td>\n",
       "      <td>account number called billing dont billing rea...</td>\n",
       "      <td>1</td>\n",
       "    </tr>\n",
       "    <tr>\n",
       "      <th>3546</th>\n",
       "      <td>Debt collection</td>\n",
       "      <td>attached letter received debt collector please...</td>\n",
       "      <td>2</td>\n",
       "    </tr>\n",
       "  </tbody>\n",
       "</table>\n",
       "</div>"
      ],
      "text/plain": [
       "               Product                                  ConsumerComplaint  \\\n",
       "4471   Debt collection  debt incurred medical charges auto accident at...   \n",
       "9431  Credit reporting  clue anything reported credit report tried app...   \n",
       "2661   Debt collection  service television internet phone townhome own...   \n",
       "6882  Credit reporting  account number called billing dont billing rea...   \n",
       "3546   Debt collection  attached letter received debt collector please...   \n",
       "\n",
       "      category_id  \n",
       "4471            2  \n",
       "9431            1  \n",
       "2661            2  \n",
       "6882            1  \n",
       "3546            2  "
      ]
     },
     "execution_count": 64,
     "metadata": {},
     "output_type": "execute_result"
    }
   ],
   "source": [
    "# Shuffel the dataset to make sure we get an equal distribution of the data before splitting into train and test sets\n",
    "dataset = dataset.sample(frac=1)\n",
    "dataset.head()\n"
   ]
  },
  {
   "cell_type": "code",
   "execution_count": 65,
   "metadata": {},
   "outputs": [
    {
     "name": "stdout",
     "output_type": "stream",
     "text": [
      "(1320,)\n",
      "(331,)\n",
      "(1320,)\n",
      "(331,)\n"
     ]
    }
   ],
   "source": [
    "# Split into X/y\n",
    "from sklearn.model_selection import train_test_split, cross_val_score\n",
    "\n",
    "x = dataset[\"ConsumerComplaint\"]\n",
    "y = dataset[\"category_id\"]\n",
    "\n",
    "x_train, x_test, y_train, y_test = train_test_split(\n",
    "    x, y, test_size=0.2, random_state=0)\n",
    "\n",
    "print(x_train.shape)\n",
    "print(x_test.shape)\n",
    "print(y_train.shape)\n",
    "print(y_test.shape)"
   ]
  },
  {
   "cell_type": "markdown",
   "metadata": {},
   "source": [
    "## Vectorization: Convert text features to numeric"
   ]
  },
  {
   "cell_type": "code",
   "execution_count": 66,
   "metadata": {},
   "outputs": [
    {
     "name": "stdout",
     "output_type": "stream",
     "text": [
      "[[0.         0.10271586 0.         ... 0.         0.         0.        ]\n",
      " [0.         0.         0.         ... 0.         0.         0.        ]\n",
      " [0.         0.         0.         ... 0.         0.         0.        ]\n",
      " ...\n",
      " [0.         0.         0.         ... 0.         0.         0.        ]\n",
      " [0.         0.         0.         ... 0.         0.         0.        ]\n",
      " [0.         0.         0.         ... 0.         0.         0.        ]]\n"
     ]
    }
   ],
   "source": [
    "from sklearn.feature_extraction.text import TfidfVectorizer\n",
    "# sublinear_df is set to True to use a logarithmic form for frequency\n",
    "# min_df is the minimum numbers of documents a word must be present in to be kept\n",
    "# norm is set to l2, to ensure all our feature vectors have a euclidian norm of 1\n",
    "# ngram_range is set to (1, 2) to indicate that we want to consider both unigrams and bigrams\n",
    "# stop_words is set to \"english\" to remove all common pronouns (\"a\", \"the\", ...) to reduce the number of noisy features\n",
    "cv2 = TfidfVectorizer(sublinear_tf=True, min_df=10, norm='l2',\n",
    "                      ngram_range=(1, 2), stop_words='english')\n",
    "\n",
    "X_traincv = cv2.fit_transform(x_train)\n",
    "x_testcv = cv2.transform(x_test)\n",
    "print(X_traincv.toarray())\n"
   ]
  },
  {
   "cell_type": "markdown",
   "metadata": {},
   "source": [
    "## Build the model with the best estimator"
   ]
  },
  {
   "cell_type": "code",
   "execution_count": 124,
   "metadata": {},
   "outputs": [
    {
     "name": "stdout",
     "output_type": "stream",
     "text": [
      "Running Model:\u001b[32mKNeighbors\u001b[0m\n",
      "Best Training Score:\u001b[36m86.14%  \u001b[0mBest Test Score:\u001b[36m84.59%  \u001b[0m\n",
      "Best Params:\u001b[33m{'leaf_size': 25, 'n_neighbors': 30, 'weights': 'uniform'}\u001b[0m\n",
      "Running Model:\u001b[32mDecisionTree\u001b[0m\n",
      "Best Training Score:\u001b[36m72.95%  \u001b[0mBest Test Score:\u001b[36m73.11%  \u001b[0m\n",
      "Best Params:\u001b[33m{'criterion': 'gini', 'max_depth': None, 'max_features': None, 'random_state': 42, 'splitter': 'best'}\u001b[0m\n",
      "Running Model:\u001b[32mMultinomialNB\u001b[0m\n",
      "Best Training Score:\u001b[36m86.21%  \u001b[0mBest Test Score:\u001b[36m86.1%  \u001b[0m\n",
      "Best Params:\u001b[33m{'fit_prior': False}\u001b[0m\n",
      "Running Model:\u001b[32mSVC\u001b[0m\n",
      "Best Training Score:\u001b[36m87.35%  \u001b[0mBest Test Score:\u001b[36m88.22%  \u001b[0m\n",
      "Best Params:\u001b[33m{'fit_intercept': False, 'loss': 'hinge', 'max_iter': 900, 'multi_class': 'ovr', 'random_state': 42}\u001b[0m\n",
      "Running Model:\u001b[32mSVM\u001b[0m\n",
      "Best Training Score:\u001b[36m85.45%  \u001b[0mBest Test Score:\u001b[36m86.1%  \u001b[0m\n",
      "Best Params:\u001b[33m{'C': 10, 'gamma': 1, 'kernel': 'rbf'}\u001b[0m\n",
      "Running Model:\u001b[32mRandomForest\u001b[0m\n",
      "Best Training Score:\u001b[36m85.61%  \u001b[0mBest Test Score:\u001b[36m85.5%  \u001b[0m\n",
      "Best Params:\u001b[33m{'bootstrap': False, 'criterion': 'gini', 'max_depth': 85, 'max_features': 'sqrt', 'n_estimators': 80, 'random_state': 42}\u001b[0m\n",
      "Running Model:\u001b[32mSGDClassifier\u001b[0m\n",
      "Best Training Score:\u001b[36m87.35%  \u001b[0mBest Test Score:\u001b[36m90.03%  \u001b[0m\n",
      "Best Params:\u001b[33m{'alpha': 0.0003, 'early_stopping': True, 'loss': 'log', 'max_iter': 1000, 'penalty': 'l2', 'random_state': 42}\u001b[0m\n",
      "\n",
      "Best Model:\u001b[31mSGDClassifier(alpha=0.0003, early_stopping=True, loss='log', random_state=42)\u001b[0m\n"
     ]
    }
   ],
   "source": [
    "# Hyperparameter grid RandomizedSearchCV will search over\n",
    "from termcolor import cprint\n",
    "from sklearn.ensemble import RandomForestClassifier\n",
    "from sklearn.svm import LinearSVC\n",
    "from sklearn import svm\n",
    "from sklearn.naive_bayes import MultinomialNB\n",
    "from sklearn.linear_model import SGDClassifier\n",
    "from sklearn.tree import DecisionTreeClassifier\n",
    "from sklearn.neighbors import KNeighborsClassifier\n",
    "\n",
    "from sklearn.metrics import accuracy_score\n",
    "from sklearn.model_selection import GridSearchCV\n",
    "\n",
    "# ignore ConvergenceWarnings\n",
    "from  warnings import simplefilter\n",
    "from sklearn.exceptions import ConvergenceWarning\n",
    "simplefilter(\"ignore\", category=ConvergenceWarning)\n",
    "\n",
    "models = [\n",
    "    { \"model_instance\": KNeighborsClassifier(),\n",
    "      \"model_name\": \"KNeighbors\",\n",
    "      \"params\": {\n",
    "          \"n_neighbors\": [25,30,35,45],\n",
    "          \"weights\": ['uniform','distance'],\n",
    "          \"leaf_size\": [25,30,35]\n",
    "        }\n",
    "    },\n",
    "    { \"model_instance\": DecisionTreeClassifier(),\n",
    "      \"model_name\": \"DecisionTree\",\n",
    "      \"params\": {\n",
    "          \"criterion\": ['gini','entropy'],\n",
    "          \"splitter\": ['best','random'],\n",
    "          \"max_depth\": [None,90,95,100],\n",
    "          \"max_features\": [None, \"auto\",\"sqrt\",\"log2\"],\n",
    "          \"random_state\": [42]\n",
    "      }\n",
    "    },\n",
    "    { \"model_instance\": MultinomialNB(),\n",
    "      \"model_name\":\"MultinomialNB\",\n",
    "      \"params\": {\n",
    "          \"fit_prior\": [True, False]    \n",
    "      }\n",
    "    },\n",
    "    { \"model_instance\": LinearSVC(),\n",
    "      \"model_name\": \"SVC\",\n",
    "      \"params\": {\n",
    "          \"loss\": ['hinge','squared_hinge'],\n",
    "          \"multi_class\": ['ovr', 'crammer_singer'],\n",
    "          \"fit_intercept\": [True, False],\n",
    "          \"random_state\": [42],\n",
    "          \"max_iter\": [900, 1000, 1100]\n",
    "      }\n",
    "    },\n",
    "    { \"model_instance\": svm.SVC(),\n",
    "      \"model_name\": \"SVM\",\n",
    "      \"params\": {\n",
    "          'C': [0.1,1, 10, 100, 1000], 'gamma': [1,0.1,0.01,0.001,0.0001], 'kernel': ['rbf']\n",
    "      }\n",
    "    },\n",
    "    { \"model_instance\": RandomForestClassifier(),\n",
    "      \"model_name\": \"RandomForest\",\n",
    "      \"params\": {\n",
    "      \"criterion\": ['gini','entropy'],\n",
    "      \"bootstrap\": [True, False],\n",
    "      \"max_depth\": [85,90,95,100],\n",
    "      \"max_features\": ['sqrt','log2'],\n",
    "      \"n_estimators\": [60, 80, 90],\n",
    "      \"random_state\": [42]\n",
    "      }\n",
    "    },\n",
    "    { \"model_instance\": SGDClassifier(),\n",
    "      \"model_name\": \"SGDClassifier\",\n",
    "      \"params\": {\n",
    "          \"loss\": ['hinge','log','perceptron'], \n",
    "          \"penalty\": ['l2', 'l1'], \n",
    "          \"alpha\": [0.0001, 0.0003, 0.0010],\n",
    "          \"early_stopping\": [True],\n",
    "          \"max_iter\": [1000, 1500],\n",
    "          \"random_state\": [42]\n",
    "      }\n",
    "    }\n",
    "]\n",
    "\n",
    "\n",
    "scores = []\n",
    "highest_acc = 0\n",
    "best_model = None\n",
    "\n",
    "\n",
    "for model in models:\n",
    "  \n",
    "\n",
    "\n",
    "  # Create a based model\n",
    "  model_instance = model[\"model_instance\"]\n",
    "  model_name = model[\"model_name\"]\n",
    "  print(\"Running Model:\",end=\"\")\n",
    "  cprint(model_name, \"green\")\n",
    "  # Instantiate the grid search model\n",
    "  classifier = GridSearchCV(estimator=model_instance, param_grid=model[\"params\"],\n",
    "                            cv = 3, n_jobs = 1)\n",
    "  \n",
    "  # Fit the model\n",
    "  classifier.fit(X_traincv, y_train);\n",
    "  \n",
    "  # Make a prediction on the test split to find model accuracy\n",
    "  predicted = classifier.predict(x_testcv)\n",
    "  acc = accuracy_score(predicted, y_test)\n",
    "  # If model have the highest accuracy, it's out best model\n",
    "  if acc > highest_acc:\n",
    "    highest_acc = acc\n",
    "    best_model = classifier\n",
    "\n",
    "  scores.append({\n",
    "    \"model\":model_name,\n",
    "    \"training_best_score\": classifier.best_score_,\n",
    "    \"test_best_score\": acc,\n",
    "    \"best_params\": classifier.best_params_\n",
    "  })\n",
    "  \n",
    "  print(\"Best Training Score:\",end=\"\")\n",
    "  cprint(f\"{round(classifier.best_score_*100,2)}%  \", \"cyan\", end=\"\")\n",
    "  print(\"Best Test Score:\",end=\"\")\n",
    "  cprint(f\"{round(acc*100,2)}%  \", \"cyan\")\n",
    "\n",
    "  print(\"Best Params:\",end=\"\")\n",
    "  cprint(classifier.best_params_,\"yellow\")\n",
    "\n",
    "print(\"\\nBest Model:\",end=\"\")\n",
    "cprint(best_model.best_estimator_,\"red\")\n"
   ]
  },
  {
   "cell_type": "code",
   "execution_count": 125,
   "metadata": {},
   "outputs": [
    {
     "data": {
      "text/html": [
       "<div>\n",
       "<style scoped>\n",
       "    .dataframe tbody tr th:only-of-type {\n",
       "        vertical-align: middle;\n",
       "    }\n",
       "\n",
       "    .dataframe tbody tr th {\n",
       "        vertical-align: top;\n",
       "    }\n",
       "\n",
       "    .dataframe thead th {\n",
       "        text-align: right;\n",
       "    }\n",
       "</style>\n",
       "<table border=\"1\" class=\"dataframe\">\n",
       "  <thead>\n",
       "    <tr style=\"text-align: right;\">\n",
       "      <th></th>\n",
       "      <th>model</th>\n",
       "      <th>training_best_score</th>\n",
       "      <th>test_best_score</th>\n",
       "      <th>best_params</th>\n",
       "    </tr>\n",
       "  </thead>\n",
       "  <tbody>\n",
       "    <tr>\n",
       "      <th>0</th>\n",
       "      <td>KNeighbors</td>\n",
       "      <td>0.861364</td>\n",
       "      <td>0.845921</td>\n",
       "      <td>{'leaf_size': 25, 'n_neighbors': 30, 'weights'...</td>\n",
       "    </tr>\n",
       "    <tr>\n",
       "      <th>1</th>\n",
       "      <td>DecisionTree</td>\n",
       "      <td>0.729545</td>\n",
       "      <td>0.731118</td>\n",
       "      <td>{'criterion': 'gini', 'max_depth': None, 'max_...</td>\n",
       "    </tr>\n",
       "    <tr>\n",
       "      <th>2</th>\n",
       "      <td>MultinomialNB</td>\n",
       "      <td>0.862121</td>\n",
       "      <td>0.861027</td>\n",
       "      <td>{'fit_prior': False}</td>\n",
       "    </tr>\n",
       "    <tr>\n",
       "      <th>3</th>\n",
       "      <td>SVC</td>\n",
       "      <td>0.873485</td>\n",
       "      <td>0.882175</td>\n",
       "      <td>{'fit_intercept': False, 'loss': 'hinge', 'max...</td>\n",
       "    </tr>\n",
       "    <tr>\n",
       "      <th>4</th>\n",
       "      <td>SVM</td>\n",
       "      <td>0.854545</td>\n",
       "      <td>0.861027</td>\n",
       "      <td>{'C': 10, 'gamma': 1, 'kernel': 'rbf'}</td>\n",
       "    </tr>\n",
       "    <tr>\n",
       "      <th>5</th>\n",
       "      <td>RandomForest</td>\n",
       "      <td>0.856061</td>\n",
       "      <td>0.854985</td>\n",
       "      <td>{'bootstrap': False, 'criterion': 'gini', 'max...</td>\n",
       "    </tr>\n",
       "    <tr>\n",
       "      <th>6</th>\n",
       "      <td>SGDClassifier</td>\n",
       "      <td>0.873485</td>\n",
       "      <td>0.900302</td>\n",
       "      <td>{'alpha': 0.0003, 'early_stopping': True, 'los...</td>\n",
       "    </tr>\n",
       "  </tbody>\n",
       "</table>\n",
       "</div>"
      ],
      "text/plain": [
       "           model  training_best_score  test_best_score  \\\n",
       "0     KNeighbors             0.861364         0.845921   \n",
       "1   DecisionTree             0.729545         0.731118   \n",
       "2  MultinomialNB             0.862121         0.861027   \n",
       "3            SVC             0.873485         0.882175   \n",
       "4            SVM             0.854545         0.861027   \n",
       "5   RandomForest             0.856061         0.854985   \n",
       "6  SGDClassifier             0.873485         0.900302   \n",
       "\n",
       "                                         best_params  \n",
       "0  {'leaf_size': 25, 'n_neighbors': 30, 'weights'...  \n",
       "1  {'criterion': 'gini', 'max_depth': None, 'max_...  \n",
       "2                               {'fit_prior': False}  \n",
       "3  {'fit_intercept': False, 'loss': 'hinge', 'max...  \n",
       "4             {'C': 10, 'gamma': 1, 'kernel': 'rbf'}  \n",
       "5  {'bootstrap': False, 'criterion': 'gini', 'max...  \n",
       "6  {'alpha': 0.0003, 'early_stopping': True, 'los...  "
      ]
     },
     "execution_count": 125,
     "metadata": {},
     "output_type": "execute_result"
    }
   ],
   "source": [
    "df = pd.DataFrame(scores)\n",
    "df"
   ]
  },
  {
   "cell_type": "code",
   "execution_count": 126,
   "metadata": {},
   "outputs": [
    {
     "data": {
      "text/plain": [
       "0.9003021148036254"
      ]
     },
     "execution_count": 126,
     "metadata": {},
     "output_type": "execute_result"
    }
   ],
   "source": [
    "df['test_best_score'].max()\n"
   ]
  },
  {
   "cell_type": "code",
   "execution_count": 127,
   "metadata": {},
   "outputs": [
    {
     "data": {
      "text/plain": [
       "0.9003021148036254"
      ]
     },
     "execution_count": 127,
     "metadata": {},
     "output_type": "execute_result"
    }
   ],
   "source": [
    "highest_acc"
   ]
  },
  {
   "cell_type": "code",
   "execution_count": 128,
   "metadata": {},
   "outputs": [
    {
     "data": {
      "text/plain": [
       "SGDClassifier(alpha=0.0003, early_stopping=True, loss='log', random_state=42)"
      ]
     },
     "execution_count": 128,
     "metadata": {},
     "output_type": "execute_result"
    }
   ],
   "source": [
    "best_model.best_estimator_"
   ]
  },
  {
   "cell_type": "markdown",
   "metadata": {},
   "source": [
    "## Plotting each models performance"
   ]
  },
  {
   "cell_type": "code",
   "execution_count": 130,
   "metadata": {},
   "outputs": [
    {
     "data": {
      "text/plain": [
       "<AxesSubplot:xlabel='model', ylabel='test_best_score'>"
      ]
     },
     "execution_count": 130,
     "metadata": {},
     "output_type": "execute_result"
    },
    {
     "data": {
      "image/png": "[encoded data removed]",
      "text/plain": [
       "<Figure size 576x360 with 1 Axes>"
      ]
     },
     "metadata": {},
     "output_type": "display_data"
    }
   ],
   "source": [
    "import seaborn as sns\n",
    "import matplotlib.pyplot as plt\n",
    "plt.style.use('ggplot')\n",
    "plt.figure(figsize=(8, 5))\n",
    "sns.barplot(x='model', y='test_best_score', data=df)\n"
   ]
  },
  {
   "cell_type": "markdown",
   "metadata": {},
   "source": [
    "## Evaluating the model and make predictions using the Best Model\n"
   ]
  },
  {
   "cell_type": "code",
   "execution_count": 131,
   "metadata": {},
   "outputs": [],
   "source": [
    "from sklearn.metrics import accuracy_score, precision_score, recall_score, f1_score\n",
    "from sklearn.metrics import classification_report\n",
    "\n",
    "\n",
    "def evaluate_preds(y_true, y_preds):\n",
    "    \"\"\"\n",
    "    Performs evaluation comparison on y_true labels vs. y_pred labels\n",
    "    on a classification.\n",
    "    \"\"\"\n",
    "    accuracy = accuracy_score(y_true, y_preds)\n",
    "    precision = precision_score(y_true, y_preds, average='micro')\n",
    "    recall = recall_score(y_true, y_preds, average='micro')\n",
    "    f1 = f1_score(y_true, y_preds, average='micro')\n",
    "    metric_dict = {\"accuracy\": round(accuracy, 2),\n",
    "                   \"precision\": round(precision, 2),\n",
    "                   \"recall\": round(recall, 2),\n",
    "                   \"f1\": round(f1, 2)}\n",
    "    print(f\"Acc: {accuracy * 100:.2f}%\")\n",
    "    print(f\"Precision: {precision:.2f}\")\n",
    "    print(f\"Recall: {recall:.2f}\")\n",
    "    print(f\"F1 score: {f1:.2f}\")\n",
    "\n",
    "    return metric_dict\n"
   ]
  },
  {
   "cell_type": "markdown",
   "metadata": {},
   "source": [
    "Now we make predictions using the test data to see how the model performs\n",
    "\n"
   ]
  },
  {
   "cell_type": "code",
   "execution_count": 132,
   "metadata": {},
   "outputs": [
    {
     "name": "stdout",
     "output_type": "stream",
     "text": [
      "Acc: 90.03%\n",
      "Precision: 0.90\n",
      "Recall: 0.90\n",
      "F1 score: 0.90\n"
     ]
    },
    {
     "data": {
      "text/plain": [
       "{'accuracy': 0.9, 'precision': 0.9, 'recall': 0.9, 'f1': 0.9}"
      ]
     },
     "execution_count": 132,
     "metadata": {},
     "output_type": "execute_result"
    }
   ],
   "source": [
    "predicted = best_model.predict(x_testcv)\n",
    "evaluate_preds(y_test, predicted)\n"
   ]
  },
  {
   "cell_type": "markdown",
   "metadata": {},
   "source": [
    "Let's create a Classification report"
   ]
  },
  {
   "cell_type": "code",
   "execution_count": 133,
   "metadata": {},
   "outputs": [
    {
     "name": "stdout",
     "output_type": "stream",
     "text": [
      "                         precision    recall  f1-score   support\n",
      "\n",
      "        Debt collection       0.86      0.92      0.89        39\n",
      "       Credit reporting       0.91      0.86      0.88        80\n",
      "               Mortgage       0.87      0.90      0.88        97\n",
      "           Student loan       0.93      0.96      0.94        94\n",
      "Bank account or service       1.00      0.76      0.86        21\n",
      "\n",
      "               accuracy                           0.90       331\n",
      "              macro avg       0.91      0.88      0.89       331\n",
      "           weighted avg       0.90      0.90      0.90       331\n",
      "\n"
     ]
    }
   ],
   "source": [
    "from sklearn import metrics\n",
    "print(metrics.classification_report(y_test, predicted,\n",
    "                                    target_names=dataset['Product'].unique()))\n"
   ]
  },
  {
   "cell_type": "markdown",
   "metadata": {},
   "source": [
    "- `Accuracy` is a good measure to start with if all classes are balanced (e.g. same amount of samples which are labelled with 0 or 1).\n",
    "- `Precision and recall` become more important when classes are imbalanced. If false positive predictions are worse than false negatives, aim for higher precision. If false negative predictions are worse than false positives, aim for higher recall.\n",
    "- `F1-score` is a combination of precision and recall.\n"
   ]
  },
  {
   "cell_type": "markdown",
   "metadata": {},
   "source": [
    "And finally a Confusion Matrix\n",
    "\n"
   ]
  },
  {
   "cell_type": "code",
   "execution_count": 134,
   "metadata": {},
   "outputs": [
    {
     "data": {
      "image/png": "[encoded data removed]",
      "text/plain": [
       "<Figure size 576x432 with 2 Axes>"
      ]
     },
     "metadata": {},
     "output_type": "display_data"
    }
   ],
   "source": [
    "from sklearn.metrics import confusion_matrix\n",
    "\n",
    "conf_mat = confusion_matrix(y_test, predicted)\n",
    "fig, ax = plt.subplots(figsize=(8, 6))\n",
    "sns.heatmap(conf_mat, annot=True, fmt='d',\n",
    "            xticklabels=dataset.Product.unique(), yticklabels=dataset.Product.unique())\n",
    "plt.ylabel('Actual')\n",
    "plt.xlabel('Predicted')\n",
    "plt.show()\n"
   ]
  },
  {
   "cell_type": "markdown",
   "metadata": {},
   "source": [
    "## Let's make a prediction"
   ]
  },
  {
   "cell_type": "code",
   "execution_count": 137,
   "metadata": {},
   "outputs": [
    {
     "name": "stdout",
     "output_type": "stream",
     "text": [
      "Product category id: 4\n",
      "Product Name: Student loan\n"
     ]
    }
   ],
   "source": [
    "inputStr = cv2.transform([\"I need to finance my student loan please\"])\n",
    "results = best_model.predict(inputStr)\n",
    "\n",
    "print(f'Product category id: {results[0]}')\n",
    "print(f'Product Name: { labelencoder.inverse_transform([results[0]])[0] }')"
   ]
  },
  {
   "cell_type": "markdown",
   "metadata": {},
   "source": [
    "## Resources"
   ]
  },
  {
   "cell_type": "markdown",
   "metadata": {},
   "source": [
    "- [https://www.jeansnyman.com/posts/multi-class-text-classification-with-scikit-learn/](https://www.jeansnyman.com/posts/multi-class-text-classification-with-scikit-learn/)\n",
    "- [https://towardsdatascience.com/multi-class-text-classification-with-scikit-learn-12f1e60e0a9f](https://towardsdatascience.com/multi-class-text-classification-with-scikit-learn-12f1e60e0a9f)\n",
    "- [https://medium.com/@armandj.olivares/a-basic-nlp-tutorial-for-news-multiclass-categorization-82afa6d46aa5](https://medium.com/@armandj.olivares/a-basic-nlp-tutorial-for-news-multiclass-categorization-82afa6d46aa5)"
   ]
  }
 ],
 "metadata": {
  "interpreter": {
   "hash": "8cdb09b0bc1c395d296938b19fe7764d972a7ceeffba4d3ad7ff6a3771581719"
  },
  "kernelspec": {
   "display_name": "Python 3.8.8 64-bit ('ProgramData': virtualenv)",
   "language": "python",
   "name": "python3"
  },
  "language_info": {
   "codemirror_mode": {
    "name": "ipython",
    "version": 3
   },
   "file_extension": ".py",
   "mimetype": "text/x-python",
   "name": "python",
   "nbconvert_exporter": "python",
   "pygments_lexer": "ipython3",
   "version": "3.8.8"
  },
  "orig_nbformat": 2
 },
 "nbformat": 4,
 "nbformat_minor": 2
}
