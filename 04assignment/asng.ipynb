{
 "cells": [
  {
   "cell_type": "markdown",
   "metadata": {},
   "source": [
    "# Assignment-1"
   ]
  },
  {
   "cell_type": "markdown",
   "metadata": {},
   "source": [
    "<div align=\"center\">\n",
    "<img src=\"img/asgn.jpg\" alt=\"asgn.jpg\" width=\"1000px\">\n",
    "</div>"
   ]
  },
  {
   "cell_type": "code",
   "execution_count": null,
   "metadata": {},
   "outputs": [],
   "source": [
    "\"\"\"\n",
    "cd .\\04assignment\\\n",
    "jupyter nbconvert --to markdown asng.ipynb --output README.md\n",
    "\"\"\""
   ]
  },
  {
   "cell_type": "markdown",
   "metadata": {},
   "source": [
    "## Load Data"
   ]
  },
  {
   "cell_type": "markdown",
   "metadata": {},
   "source": [
    "### Processing file - test codes"
   ]
  },
  {
   "cell_type": "code",
   "execution_count": 27,
   "metadata": {},
   "outputs": [
    {
     "name": "stdout",
     "output_type": "stream",
     "text": [
      "Science and Medieval Thought\n",
      "Sir Thomas Clifford Allbutt\n"
     ]
    },
    {
     "data": {
      "text/plain": [
       "['Sir Thomas Clifford Allbutt',\n",
       " 'Sir Thomas Clifford Allbutt',\n",
       " 'Sir Thomas Clifford Allbutt',\n",
       " 'Sir Thomas Clifford Allbutt',\n",
       " 'Sir Thomas Clifford Allbutt']"
      ]
     },
     "execution_count": 27,
     "metadata": {},
     "output_type": "execute_result"
    }
   ],
   "source": [
    "with open('38943-0.txt', 'r') as target_file:\n",
    "\tfor num, line in enumerate(target_file.readlines()):\n",
    "\t\tif \"Title\" in line:\n",
    "\t\t\ttitle = line.split(\":\")[1].strip()\n",
    "\t\t\tprint(title)\n",
    "\t\tif \"Author\" in line:\n",
    "\t\t\tauthor_name = line.split(\":\")[1].strip()\n",
    "\t\t\tprint(author_name)\n",
    "author_list = [author_name]*5\n",
    "author_list"
   ]
  },
  {
   "cell_type": "code",
   "execution_count": 3,
   "metadata": {},
   "outputs": [],
   "source": [
    "out = open(\"64171-0_chapter.txt\", \"w\")\n",
    "with open('64171-0.txt', 'r') as f:\n",
    "\tdata = f.read()\n",
    "\tif \"CHAPTER I.\" in data:\n",
    "\t\tdata = data.replace(\"CHAPTER I.\", \"CHAPTERI.\")\n",
    "\t\tprint(data, file=out)\n",
    "out.close()\n"
   ]
  },
  {
   "cell_type": "code",
   "execution_count": 4,
   "metadata": {},
   "outputs": [],
   "source": [
    "list_of_blocks = []\n",
    "with open('64171-0_chapter.txt', 'r') as f:\n",
    "\tdata = f.read()\n",
    "\t# print(len(data.split()))\n",
    "\ttotal_word = len(data.split())\n",
    "\tdata = data.split()\n",
    "\t# indices = []\n",
    "\t# for i, w in enumerate(data):\n",
    "\t# \t# start reading from CHAPTER I.\n",
    "\t# \tif \"CHAPTERI\" in w:\n",
    "\t# \t\tindices.append(i)\n",
    "\t# last = indices[-1]\n",
    "\t# # print(last)\n",
    "\t# data = data[last+1:]\n",
    "\n",
    "\tn = 200\n",
    "\tfor i in range(n):\n",
    "\t\ts = round(total_word*i/n)\n",
    "\t\te = round(total_word*(1+i)/n)\n",
    "\t\t# print(s,e)\n",
    "\t\tchunks = data[s:e]\n",
    "\t\tchunks = \" \".join(chunks)\n",
    "\t\t# print(chunks)\n",
    "\t\t# print(100*\"=\")\n",
    "\t\tlist_of_blocks.append(chunks)\n",
    "\n",
    "# print(list_of_blocks)\n"
   ]
  },
  {
   "cell_type": "markdown",
   "metadata": {},
   "source": [
    "### Processing file - Final"
   ]
  },
  {
   "cell_type": "code",
   "execution_count": 73,
   "metadata": {},
   "outputs": [],
   "source": [
    "import os\n",
    "def getTextFileList():\n",
    "\tall_files = os.listdir()\n",
    "\ttxt_files = []\n",
    "\tfor file in all_files:\n",
    "\t\tif file.endswith(\".txt\"):\n",
    "\t\t\ttxt_files.append(file)\n",
    "\treturn txt_files"
   ]
  },
  {
   "cell_type": "code",
   "execution_count": 74,
   "metadata": {},
   "outputs": [],
   "source": [
    "from termcolor import cprint\n",
    "def processFiles(text_files,document_no=200):\n",
    "\tdf_obj_of_documents = {\n",
    "\t\t\"documents\":[],\n",
    "\t\t\"author\":[]\n",
    "\t}\n",
    "\tlist_of_documents = []\n",
    "\tlist_of_authors = []\n",
    "\tfor file in text_files:\n",
    "\t\tcprint(f\"Extracting from: {file}\", 'green')\n",
    "\t\t# get Title and Author name\n",
    "\t\tauthor_name=\"\"\n",
    "\t\twith open(file, 'r') as target_file:\n",
    "\t\t\tfor num, line in enumerate(target_file.readlines()):\n",
    "\t\t\t\tpass\n",
    "\t\t\t\tif \"Title:\" in line:\n",
    "\t\t\t\t\ttitle = line.split(\":\")[1].strip()\n",
    "\t\t\t\tif \"Author:\" in line:\n",
    "\t\t\t\t\tprint(line)\n",
    "\t\t\t\t\tauthor_name = line.split(\":\")[1].strip()\n",
    "\n",
    "\t\t# get documents from each file\n",
    "\t\twith open(file, 'r') as f:\n",
    "\t\t\tdata = f.read()\n",
    "\t\t\ttotal_word = len(data.split())\n",
    "\t\t\tdata = data.split()\n",
    "\t\t\t# indices = []\n",
    "\t\t\t# for i, w in enumerate(data):\n",
    "\t\t\t# \t# start reading from CHAPTER I.\n",
    "\t\t\t# \tif \"CHAPTERI\" in w:\n",
    "\t\t\t# \t\tindices.append(i)\n",
    "\t\t\t# last = indices[-1]\n",
    "\t\t\t# # print(last)\n",
    "\t\t\t# data = data[last+1:]\n",
    "\n",
    "\t\t\t# n = 200\n",
    "\t\t\tfor i in range(document_no):\n",
    "\t\t\t\tstart_from = round(total_word*i/document_no)\n",
    "\t\t\t\tend_at = round(total_word*(1+i)/document_no)\n",
    "\t\t\t\tdocument = data[start_from:end_at]\n",
    "\t\t\t\tdocument = \" \".join(document)\n",
    "\t\t\t\t# print(chunks)\n",
    "\t\t\t\t# print(100*\"=\")\n",
    "\t\t\t\tlist_of_documents.append(document)\n",
    "\t\t\t\t\n",
    "\t\tprint(\"Book Title: \",end=\"\")\n",
    "\t\tcprint(title, 'yellow')\t\t\n",
    "\t\tprint(\"Author: \",end=\"\")\n",
    "\t\tcprint(author_name, 'yellow')\n",
    "\t\t# generated_doc_size = len(list_of_documents)\n",
    "\t\tprint(\"Documents generated: \",end=\"\")\n",
    "\t\tcprint(document_no, 'yellow')\n",
    "\t\trepeating_author = [author_name]*document_no\n",
    "\t\t# print(repeating_author)\n",
    "\t\tlist_of_authors = list_of_authors + repeating_author\n",
    "\t\t# save to dataframe\n",
    "\tdf_obj_of_documents[\"author\"] = list_of_authors\n",
    "\tdf_obj_of_documents[\"documents\"] = list_of_documents\n",
    "\t# print(df_obj_of_documents)\n",
    "\tprint(len(list_of_authors))\n",
    "\tprint(len(list_of_documents))\n",
    "\treturn df_obj_of_documents\n"
   ]
  },
  {
   "cell_type": "markdown",
   "metadata": {},
   "source": [
    "```pseudocode\n",
    "fil1 \n",
    "\tdoc 1 - a\n",
    "\tdoc 2 - a\n",
    "\tdoc 3 - a\n",
    "fil2 \n",
    "\tdoc 1 - b\n",
    "\tdoc 2 - b\n",
    "\tdoc 3 - b\n",
    "\t\n",
    "doc \t= [doc 1, doc 2, doc 3,doc 1 ,doc 2,doc 3]\n",
    "author \t= [a,a,a,b ,b,b]\n",
    "```"
   ]
  },
  {
   "cell_type": "code",
   "execution_count": 75,
   "metadata": {},
   "outputs": [
    {
     "name": "stdout",
     "output_type": "stream",
     "text": [
      "\u001b[32mExtracting from: 38943-0.txt\u001b[0m\n",
      "Author: Sir Thomas Clifford Allbutt\n",
      "\n",
      "Book Title: \u001b[33mScience and Medieval Thought\u001b[0m\n",
      "Author: \u001b[33mSir Thomas Clifford Allbutt\u001b[0m\n",
      "Documents generated: \u001b[33m200\u001b[0m\n",
      "\u001b[32mExtracting from: 64171-0.txt\u001b[0m\n",
      "Author: Robert C. (Chamblet) Adams\n",
      "\n",
      "Book Title: \u001b[33mOn Board the \"Rocket\"\u001b[0m\n",
      "Author: \u001b[33mRobert C. (Chamblet) Adams\u001b[0m\n",
      "Documents generated: \u001b[33m200\u001b[0m\n",
      "\u001b[32mExtracting from: 65708-0.txt\u001b[0m\n",
      "Author: Averroes\n",
      "\n",
      "Book Title: \u001b[33mThe Philosophy and Theology of Averroes\u001b[0m\n",
      "Author: \u001b[33mAverroes\u001b[0m\n",
      "Documents generated: \u001b[33m200\u001b[0m\n",
      "\u001b[32mExtracting from: pg24055.txt\u001b[0m\n",
      "Author: Confucius\n",
      "\n",
      "Book Title: \u001b[33mThe Sayings Of Confucius\u001b[0m\n",
      "Author: \u001b[33mConfucius\u001b[0m\n",
      "Documents generated: \u001b[33m200\u001b[0m\n",
      "\u001b[32mExtracting from: pg2412.txt\u001b[0m\n",
      "Author: Aristotle\n",
      "\n",
      "Book Title: \u001b[33mThe Categories\u001b[0m\n",
      "Author: \u001b[33mAristotle\u001b[0m\n",
      "Documents generated: \u001b[33m200\u001b[0m\n",
      "\u001b[32mExtracting from: pg34283.txt\u001b[0m\n",
      "Author: Alfred William Benn\n",
      "\n",
      "Book Title: \u001b[33mHistory of Modern Philosophy\u001b[0m\n",
      "Author: \u001b[33mAlfred William Benn\u001b[0m\n",
      "Documents generated: \u001b[33m200\u001b[0m\n",
      "\u001b[32mExtracting from: pg66566.txt\u001b[0m\n",
      "Author: T.J. de Boer\n",
      "\n",
      "Book Title: \u001b[33mThe History of Philosophy in Islam\u001b[0m\n",
      "Author: \u001b[33mT.J. de Boer\u001b[0m\n",
      "Documents generated: \u001b[33m200\u001b[0m\n",
      "1400\n",
      "1400\n"
     ]
    }
   ],
   "source": [
    "df_obj_of_documents = processFiles(getTextFileList(),document_no=200)"
   ]
  },
  {
   "cell_type": "code",
   "execution_count": 76,
   "metadata": {},
   "outputs": [
    {
     "data": {
      "text/html": [
       "<div>\n",
       "<style scoped>\n",
       "    .dataframe tbody tr th:only-of-type {\n",
       "        vertical-align: middle;\n",
       "    }\n",
       "\n",
       "    .dataframe tbody tr th {\n",
       "        vertical-align: top;\n",
       "    }\n",
       "\n",
       "    .dataframe thead th {\n",
       "        text-align: right;\n",
       "    }\n",
       "</style>\n",
       "<table border=\"1\" class=\"dataframe\">\n",
       "  <thead>\n",
       "    <tr style=\"text-align: right;\">\n",
       "      <th></th>\n",
       "      <th>documents</th>\n",
       "      <th>author</th>\n",
       "    </tr>\n",
       "  </thead>\n",
       "  <tbody>\n",
       "    <tr>\n",
       "      <th>0</th>\n",
       "      <td>﻿The Project Gutenberg eBook, Science and Medi...</td>\n",
       "      <td>Sir Thomas Clifford Allbutt</td>\n",
       "    </tr>\n",
       "    <tr>\n",
       "      <th>1</th>\n",
       "      <td>SCIENCE AND MEDIEVAL THOUGHT. * * * * * London...</td>\n",
       "      <td>Sir Thomas Clifford Allbutt</td>\n",
       "    </tr>\n",
       "    <tr>\n",
       "      <th>2</th>\n",
       "      <td>et facit nos concludere quæstionem, sed non ce...</td>\n",
       "      <td>Sir Thomas Clifford Allbutt</td>\n",
       "    </tr>\n",
       "    <tr>\n",
       "      <th>3</th>\n",
       "      <td>a phantom, and again the spirit of a new world...</td>\n",
       "      <td>Sir Thomas Clifford Allbutt</td>\n",
       "    </tr>\n",
       "    <tr>\n",
       "      <th>4</th>\n",
       "      <td>first applied to the art and romance of the Mi...</td>\n",
       "      <td>Sir Thomas Clifford Allbutt</td>\n",
       "    </tr>\n",
       "  </tbody>\n",
       "</table>\n",
       "</div>"
      ],
      "text/plain": [
       "                                           documents  \\\n",
       "0  ﻿The Project Gutenberg eBook, Science and Medi...   \n",
       "1  SCIENCE AND MEDIEVAL THOUGHT. * * * * * London...   \n",
       "2  et facit nos concludere quæstionem, sed non ce...   \n",
       "3  a phantom, and again the spirit of a new world...   \n",
       "4  first applied to the art and romance of the Mi...   \n",
       "\n",
       "                        author  \n",
       "0  Sir Thomas Clifford Allbutt  \n",
       "1  Sir Thomas Clifford Allbutt  \n",
       "2  Sir Thomas Clifford Allbutt  \n",
       "3  Sir Thomas Clifford Allbutt  \n",
       "4  Sir Thomas Clifford Allbutt  "
      ]
     },
     "execution_count": 76,
     "metadata": {},
     "output_type": "execute_result"
    }
   ],
   "source": [
    "import pandas as pd\n",
    "# df = pd.DataFrame({\n",
    "# \t'data': list_of_blocks,\n",
    "# \t\"author\": author_list\n",
    "# })\n",
    "df = pd.DataFrame(df_obj_of_documents)\n",
    "df.head()\n",
    "# df.to_csv(\"data.csv\", index=False)"
   ]
  },
  {
   "cell_type": "code",
   "execution_count": 77,
   "metadata": {},
   "outputs": [
    {
     "data": {
      "text/html": [
       "<div>\n",
       "<style scoped>\n",
       "    .dataframe tbody tr th:only-of-type {\n",
       "        vertical-align: middle;\n",
       "    }\n",
       "\n",
       "    .dataframe tbody tr th {\n",
       "        vertical-align: top;\n",
       "    }\n",
       "\n",
       "    .dataframe thead th {\n",
       "        text-align: right;\n",
       "    }\n",
       "</style>\n",
       "<table border=\"1\" class=\"dataframe\">\n",
       "  <thead>\n",
       "    <tr style=\"text-align: right;\">\n",
       "      <th></th>\n",
       "      <th>documents</th>\n",
       "      <th>author</th>\n",
       "      <th>words_count</th>\n",
       "    </tr>\n",
       "  </thead>\n",
       "  <tbody>\n",
       "    <tr>\n",
       "      <th>0</th>\n",
       "      <td>﻿The Project Gutenberg eBook, Science and Medi...</td>\n",
       "      <td>Sir Thomas Clifford Allbutt</td>\n",
       "      <td>142</td>\n",
       "    </tr>\n",
       "    <tr>\n",
       "      <th>1</th>\n",
       "      <td>SCIENCE AND MEDIEVAL THOUGHT. * * * * * London...</td>\n",
       "      <td>Sir Thomas Clifford Allbutt</td>\n",
       "      <td>143</td>\n",
       "    </tr>\n",
       "    <tr>\n",
       "      <th>2</th>\n",
       "      <td>et facit nos concludere quæstionem, sed non ce...</td>\n",
       "      <td>Sir Thomas Clifford Allbutt</td>\n",
       "      <td>142</td>\n",
       "    </tr>\n",
       "    <tr>\n",
       "      <th>3</th>\n",
       "      <td>a phantom, and again the spirit of a new world...</td>\n",
       "      <td>Sir Thomas Clifford Allbutt</td>\n",
       "      <td>142</td>\n",
       "    </tr>\n",
       "    <tr>\n",
       "      <th>4</th>\n",
       "      <td>first applied to the art and romance of the Mi...</td>\n",
       "      <td>Sir Thomas Clifford Allbutt</td>\n",
       "      <td>143</td>\n",
       "    </tr>\n",
       "  </tbody>\n",
       "</table>\n",
       "</div>"
      ],
      "text/plain": [
       "                                           documents  \\\n",
       "0  ﻿The Project Gutenberg eBook, Science and Medi...   \n",
       "1  SCIENCE AND MEDIEVAL THOUGHT. * * * * * London...   \n",
       "2  et facit nos concludere quæstionem, sed non ce...   \n",
       "3  a phantom, and again the spirit of a new world...   \n",
       "4  first applied to the art and romance of the Mi...   \n",
       "\n",
       "                        author  words_count  \n",
       "0  Sir Thomas Clifford Allbutt          142  \n",
       "1  Sir Thomas Clifford Allbutt          143  \n",
       "2  Sir Thomas Clifford Allbutt          142  \n",
       "3  Sir Thomas Clifford Allbutt          142  \n",
       "4  Sir Thomas Clifford Allbutt          143  "
      ]
     },
     "execution_count": 77,
     "metadata": {},
     "output_type": "execute_result"
    }
   ],
   "source": [
    "df['words_count'] = df['documents'].apply(lambda x: len(x.split()))\n",
    "df.head()"
   ]
  },
  {
   "cell_type": "code",
   "execution_count": 78,
   "metadata": {},
   "outputs": [
    {
     "data": {
      "text/plain": [
       "87"
      ]
     },
     "execution_count": 78,
     "metadata": {},
     "output_type": "execute_result"
    }
   ],
   "source": [
    "df['words_count'].min()"
   ]
  },
  {
   "cell_type": "code",
   "execution_count": 79,
   "metadata": {},
   "outputs": [],
   "source": [
    "# df[df[\"author\"]==\"Aristotle\"]"
   ]
  },
  {
   "cell_type": "code",
   "execution_count": 80,
   "metadata": {},
   "outputs": [],
   "source": [
    "df = df.drop(df[df['words_count'] < 100].index)\n",
    "# drop documents with less than 100 words"
   ]
  },
  {
   "cell_type": "code",
   "execution_count": 81,
   "metadata": {},
   "outputs": [
    {
     "data": {
      "text/plain": [
       "142"
      ]
     },
     "execution_count": 81,
     "metadata": {},
     "output_type": "execute_result"
    }
   ],
   "source": [
    "df['words_count'].min()"
   ]
  },
  {
   "cell_type": "markdown",
   "metadata": {},
   "source": [
    "### Label Encoding"
   ]
  },
  {
   "cell_type": "code",
   "execution_count": 82,
   "metadata": {},
   "outputs": [],
   "source": [
    "from sklearn.preprocessing import LabelEncoder\n",
    "labelencoder = LabelEncoder()\n"
   ]
  },
  {
   "cell_type": "code",
   "execution_count": 83,
   "metadata": {},
   "outputs": [
    {
     "data": {
      "text/html": [
       "<div>\n",
       "<style scoped>\n",
       "    .dataframe tbody tr th:only-of-type {\n",
       "        vertical-align: middle;\n",
       "    }\n",
       "\n",
       "    .dataframe tbody tr th {\n",
       "        vertical-align: top;\n",
       "    }\n",
       "\n",
       "    .dataframe thead th {\n",
       "        text-align: right;\n",
       "    }\n",
       "</style>\n",
       "<table border=\"1\" class=\"dataframe\">\n",
       "  <thead>\n",
       "    <tr style=\"text-align: right;\">\n",
       "      <th></th>\n",
       "      <th>documents</th>\n",
       "      <th>author</th>\n",
       "      <th>words_count</th>\n",
       "      <th>label</th>\n",
       "    </tr>\n",
       "  </thead>\n",
       "  <tbody>\n",
       "    <tr>\n",
       "      <th>0</th>\n",
       "      <td>﻿The Project Gutenberg eBook, Science and Medi...</td>\n",
       "      <td>Sir Thomas Clifford Allbutt</td>\n",
       "      <td>142</td>\n",
       "      <td>4</td>\n",
       "    </tr>\n",
       "    <tr>\n",
       "      <th>1</th>\n",
       "      <td>SCIENCE AND MEDIEVAL THOUGHT. * * * * * London...</td>\n",
       "      <td>Sir Thomas Clifford Allbutt</td>\n",
       "      <td>143</td>\n",
       "      <td>4</td>\n",
       "    </tr>\n",
       "    <tr>\n",
       "      <th>2</th>\n",
       "      <td>et facit nos concludere quæstionem, sed non ce...</td>\n",
       "      <td>Sir Thomas Clifford Allbutt</td>\n",
       "      <td>142</td>\n",
       "      <td>4</td>\n",
       "    </tr>\n",
       "    <tr>\n",
       "      <th>3</th>\n",
       "      <td>a phantom, and again the spirit of a new world...</td>\n",
       "      <td>Sir Thomas Clifford Allbutt</td>\n",
       "      <td>142</td>\n",
       "      <td>4</td>\n",
       "    </tr>\n",
       "    <tr>\n",
       "      <th>4</th>\n",
       "      <td>first applied to the art and romance of the Mi...</td>\n",
       "      <td>Sir Thomas Clifford Allbutt</td>\n",
       "      <td>143</td>\n",
       "      <td>4</td>\n",
       "    </tr>\n",
       "  </tbody>\n",
       "</table>\n",
       "</div>"
      ],
      "text/plain": [
       "                                           documents  \\\n",
       "0  ﻿The Project Gutenberg eBook, Science and Medi...   \n",
       "1  SCIENCE AND MEDIEVAL THOUGHT. * * * * * London...   \n",
       "2  et facit nos concludere quæstionem, sed non ce...   \n",
       "3  a phantom, and again the spirit of a new world...   \n",
       "4  first applied to the art and romance of the Mi...   \n",
       "\n",
       "                        author  words_count  label  \n",
       "0  Sir Thomas Clifford Allbutt          142      4  \n",
       "1  Sir Thomas Clifford Allbutt          143      4  \n",
       "2  Sir Thomas Clifford Allbutt          142      4  \n",
       "3  Sir Thomas Clifford Allbutt          142      4  \n",
       "4  Sir Thomas Clifford Allbutt          143      4  "
      ]
     },
     "execution_count": 83,
     "metadata": {},
     "output_type": "execute_result"
    }
   ],
   "source": [
    "df['label'] = labelencoder.fit_transform( df['author'])\n",
    "df.head()"
   ]
  },
  {
   "cell_type": "code",
   "execution_count": 84,
   "metadata": {},
   "outputs": [
    {
     "data": {
      "text/html": [
       "<div>\n",
       "<style scoped>\n",
       "    .dataframe tbody tr th:only-of-type {\n",
       "        vertical-align: middle;\n",
       "    }\n",
       "\n",
       "    .dataframe tbody tr th {\n",
       "        vertical-align: top;\n",
       "    }\n",
       "\n",
       "    .dataframe thead th {\n",
       "        text-align: right;\n",
       "    }\n",
       "</style>\n",
       "<table border=\"1\" class=\"dataframe\">\n",
       "  <thead>\n",
       "    <tr style=\"text-align: right;\">\n",
       "      <th></th>\n",
       "      <th>documents</th>\n",
       "      <th>author</th>\n",
       "      <th>words_count</th>\n",
       "      <th>label</th>\n",
       "    </tr>\n",
       "  </thead>\n",
       "  <tbody>\n",
       "    <tr>\n",
       "      <th>0</th>\n",
       "      <td>people tremble.[32] [Footnote 32: _Tremble_ an...</td>\n",
       "      <td>Confucius</td>\n",
       "      <td>173</td>\n",
       "      <td>2</td>\n",
       "    </tr>\n",
       "    <tr>\n",
       "      <th>1</th>\n",
       "      <td>pushed back into efficient reason or divine wi...</td>\n",
       "      <td>Sir Thomas Clifford Allbutt</td>\n",
       "      <td>142</td>\n",
       "      <td>4</td>\n",
       "    </tr>\n",
       "    <tr>\n",
       "      <th>2</th>\n",
       "      <td>in the interpretation itself. Amongst these ma...</td>\n",
       "      <td>Averroes</td>\n",
       "      <td>278</td>\n",
       "      <td>1</td>\n",
       "    </tr>\n",
       "    <tr>\n",
       "      <th>3</th>\n",
       "      <td>highest degree of perfection and an eternal pl...</td>\n",
       "      <td>T.J. de Boer</td>\n",
       "      <td>320</td>\n",
       "      <td>5</td>\n",
       "    </tr>\n",
       "    <tr>\n",
       "      <th>4</th>\n",
       "      <td>also the masts and yards, and wearing away the...</td>\n",
       "      <td>Robert C. (Chamblet) Adams</td>\n",
       "      <td>395</td>\n",
       "      <td>3</td>\n",
       "    </tr>\n",
       "  </tbody>\n",
       "</table>\n",
       "</div>"
      ],
      "text/plain": [
       "                                           documents  \\\n",
       "0  people tremble.[32] [Footnote 32: _Tremble_ an...   \n",
       "1  pushed back into efficient reason or divine wi...   \n",
       "2  in the interpretation itself. Amongst these ma...   \n",
       "3  highest degree of perfection and an eternal pl...   \n",
       "4  also the masts and yards, and wearing away the...   \n",
       "\n",
       "                        author  words_count  label  \n",
       "0                    Confucius          173      2  \n",
       "1  Sir Thomas Clifford Allbutt          142      4  \n",
       "2                     Averroes          278      1  \n",
       "3                 T.J. de Boer          320      5  \n",
       "4   Robert C. (Chamblet) Adams          395      3  "
      ]
     },
     "execution_count": 84,
     "metadata": {},
     "output_type": "execute_result"
    }
   ],
   "source": [
    "# shuffle data\n",
    "df = df.sample(frac=1).reset_index(drop=True)\n",
    "df.head()\n"
   ]
  },
  {
   "cell_type": "markdown",
   "metadata": {},
   "source": [
    "## Data Pre-Process"
   ]
  },
  {
   "cell_type": "code",
   "execution_count": 85,
   "metadata": {},
   "outputs": [],
   "source": [
    "import nltk\n",
    "from nltk.stem.porter import PorterStemmer\n",
    "from nltk.tokenize import word_tokenize\n",
    "from nltk.corpus import stopwords\n",
    "from nltk.corpus import wordnet\n",
    "import re\n",
    "from nltk.stem import WordNetLemmatizer\n",
    "from nltk import pos_tag\n",
    "lemmatizer = WordNetLemmatizer()\n",
    "ps = PorterStemmer()\n"
   ]
  },
  {
   "cell_type": "code",
   "execution_count": 86,
   "metadata": {},
   "outputs": [],
   "source": [
    "REPLACE_BY_SPACE_RE = re.compile('[/(){}\\[\\]\\|@,;]')\n",
    "BAD_SYMBOLS_RE = re.compile('[^0-9a-z #+_]')\n",
    "REMOVE_NUM = re.compile('[\\d+]')\n",
    "EMAIL_RE = re.compile('\\b[\\w\\-.]+?@\\w+?\\.\\w{2,4}\\b')\n",
    "PHONE_RE=re.compile('\\b(\\+\\d{1,2}\\s?\\d?[\\-(.]?\\d{3}\\)?[\\s.-]?\\d{3}[\\s.-]?\\d{4})\\b')\n",
    "NUMBER_RE=re.compile('\\d+(\\.\\d+)?')\n",
    "URLS_RE = re.compile('(http[s]?\\S+)|(\\w+\\.[A-Za-z]{2,4}\\S*)')\n",
    "PUNCTUATION_RE = re.compile('[^\\w\\s]')\n",
    "EXTRA_SPACE_RE = re.compile('\\s+')\n",
    "STOPWORDS = set(stopwords.words('english'))\n",
    "\n",
    "def get_simple_pos(tag):\n",
    "\n",
    "\tif tag.startswith(\"J\"):\n",
    "\t\treturn wordnet.ADJ\n",
    "\telif tag.startswith(\"V\"):\n",
    "\t\treturn wordnet.VERB\n",
    "\telif tag.startswith(\"N\"):\n",
    "\t\treturn wordnet.NOUN\n",
    "\telif tag.startswith(\"R\"):\n",
    "\t\treturn wordnet.ADV\n",
    "\telse:\n",
    "\t\treturn wordnet.NOUN\n",
    "\n",
    "def cleanText(msg):\n",
    "\tmsg = REPLACE_BY_SPACE_RE.sub(' ',msg)\n",
    "\tmsg = BAD_SYMBOLS_RE.sub('',msg)\n",
    "\tmsg = EMAIL_RE.sub('',msg)\n",
    "\tmsg = URLS_RE.sub('',msg)\n",
    "\tmsg = PHONE_RE.sub('',msg)\n",
    "\tmsg = NUMBER_RE.sub('',msg)\n",
    "\tmsg = PUNCTUATION_RE.sub('',msg)\n",
    "\tmsg = EXTRA_SPACE_RE.sub(' ',msg)\n",
    "\n",
    "\t# Lower case\n",
    "\tmsg = msg.lower()\n",
    "\n",
    "\t# Tokenize\n",
    "\twords = word_tokenize(msg)\n",
    "\n",
    "\t# Remove Stop Words\n",
    "\twords = [w for w in words if not w in STOPWORDS]\n",
    "\n",
    "\t# Stemming\n",
    "\tstemmed_words = [ps.stem(w) for w in words]\n",
    "\t\n",
    "\t# Lemmatization\n",
    "\t# lemmatized_words = [lemmatizer.lemmatize(w, get_simple_pos(pos_tag([w])[0][1])) for w in words]\n",
    "\t# for w in words:\n",
    "\t# \tpostag = pos_tag([w])\n",
    "\t# \tpos = get_simple_pos(postag[0][1])\n",
    "\t# \tclean_word = lemmatizer.lemmatize(w, pos=pos)\n",
    "\t# \tlemmatized_words.append(clean_word)\n",
    "\n",
    "\t# Join the words back into one string separated by space,\n",
    "\tstemmed_sen = ' '.join(stemmed_words)\n",
    "\n",
    "\treturn stemmed_sen\n"
   ]
  },
  {
   "cell_type": "code",
   "execution_count": 87,
   "metadata": {},
   "outputs": [
    {
     "data": {
      "text/html": [
       "<div>\n",
       "<style scoped>\n",
       "    .dataframe tbody tr th:only-of-type {\n",
       "        vertical-align: middle;\n",
       "    }\n",
       "\n",
       "    .dataframe tbody tr th {\n",
       "        vertical-align: top;\n",
       "    }\n",
       "\n",
       "    .dataframe thead th {\n",
       "        text-align: right;\n",
       "    }\n",
       "</style>\n",
       "<table border=\"1\" class=\"dataframe\">\n",
       "  <thead>\n",
       "    <tr style=\"text-align: right;\">\n",
       "      <th></th>\n",
       "      <th>documents</th>\n",
       "      <th>author</th>\n",
       "      <th>words_count</th>\n",
       "      <th>label</th>\n",
       "      <th>clean_msg</th>\n",
       "    </tr>\n",
       "  </thead>\n",
       "  <tbody>\n",
       "    <tr>\n",
       "      <th>0</th>\n",
       "      <td>people tremble.[32] [Footnote 32: _Tremble_ an...</td>\n",
       "      <td>Confucius</td>\n",
       "      <td>173</td>\n",
       "      <td>2</td>\n",
       "      <td>peopl trembl ootnot _remble_ _chestnut_ sound ...</td>\n",
       "    </tr>\n",
       "    <tr>\n",
       "      <th>1</th>\n",
       "      <td>pushed back into efficient reason or divine wi...</td>\n",
       "      <td>Sir Thomas Clifford Allbutt</td>\n",
       "      <td>142</td>\n",
       "      <td>4</td>\n",
       "      <td>push back effici reason divin almost vanish la...</td>\n",
       "    </tr>\n",
       "    <tr>\n",
       "      <th>2</th>\n",
       "      <td>in the interpretation itself. Amongst these ma...</td>\n",
       "      <td>Averroes</td>\n",
       "      <td>278</td>\n",
       "      <td>1</td>\n",
       "      <td>interpret mongst may mention bu amid l hazzali...</td>\n",
       "    </tr>\n",
       "    <tr>\n",
       "      <th>3</th>\n",
       "      <td>highest degree of perfection and an eternal pl...</td>\n",
       "      <td>T.J. de Boer</td>\n",
       "      <td>320</td>\n",
       "      <td>5</td>\n",
       "      <td>highest degre perfect etern plenitud realiti s...</td>\n",
       "    </tr>\n",
       "    <tr>\n",
       "      <th>4</th>\n",
       "      <td>also the masts and yards, and wearing away the...</td>\n",
       "      <td>Robert C. (Chamblet) Adams</td>\n",
       "      <td>395</td>\n",
       "      <td>3</td>\n",
       "      <td>also mast yard wear away deck holyston well le...</td>\n",
       "    </tr>\n",
       "  </tbody>\n",
       "</table>\n",
       "</div>"
      ],
      "text/plain": [
       "                                           documents  \\\n",
       "0  people tremble.[32] [Footnote 32: _Tremble_ an...   \n",
       "1  pushed back into efficient reason or divine wi...   \n",
       "2  in the interpretation itself. Amongst these ma...   \n",
       "3  highest degree of perfection and an eternal pl...   \n",
       "4  also the masts and yards, and wearing away the...   \n",
       "\n",
       "                        author  words_count  label  \\\n",
       "0                    Confucius          173      2   \n",
       "1  Sir Thomas Clifford Allbutt          142      4   \n",
       "2                     Averroes          278      1   \n",
       "3                 T.J. de Boer          320      5   \n",
       "4   Robert C. (Chamblet) Adams          395      3   \n",
       "\n",
       "                                           clean_msg  \n",
       "0  peopl trembl ootnot _remble_ _chestnut_ sound ...  \n",
       "1  push back effici reason divin almost vanish la...  \n",
       "2  interpret mongst may mention bu amid l hazzali...  \n",
       "3  highest degre perfect etern plenitud realiti s...  \n",
       "4  also mast yard wear away deck holyston well le...  "
      ]
     },
     "execution_count": 87,
     "metadata": {},
     "output_type": "execute_result"
    }
   ],
   "source": [
    "df['clean_msg'] = df.documents.apply(cleanText)\n",
    "df.head()"
   ]
  },
  {
   "cell_type": "code",
   "execution_count": 88,
   "metadata": {},
   "outputs": [
    {
     "data": {
      "text/plain": [
       "\"people tremble.[32] [Footnote 32: _Tremble_ and _chestnut_ have the same sound in Chinese.] On hearing this, the Master said, I do not speak of what is ended, chide what is settled, or find fault with what is past.[33] [Footnote 33: In old times men had been sacrificed at the earth-altars, and Tsai Wo's answer might seem to approve the practice.] 22. The Master said, How shallow was Kuan Chung! But, said one, was not Kuan Chung thrifty? The Kuan, said the Master, owned San Kuei, and no one of his household held two posts: was that thrift? At least Kuan Chung knew good form. The Master said, Kings screen their gates with trees; the Kuan, too, had trees to screen his gate. When two kings are carousing, they have a stand for the turned-down cups; the Kuan had a turned-down cup-stand, too! If the Kuan knew good form, who does not know good form?[34] [Footnote 34: Kuan Chung (+ 645 B.C.), a famous man in his day, was chief minister to the Duke\""
      ]
     },
     "execution_count": 88,
     "metadata": {},
     "output_type": "execute_result"
    }
   ],
   "source": [
    "df['documents'].iloc[0]\n"
   ]
  },
  {
   "cell_type": "code",
   "execution_count": 89,
   "metadata": {},
   "outputs": [
    {
     "data": {
      "text/plain": [
       "'peopl trembl ootnot _remble_ _chestnut_ sound hines n hear aster said speak end chide settl find fault past ootnot n old time men sacrif earthaltar sai os answer might seem approv practic aster said ow shallow uan hung ut said one uan hung thrifti uan said aster own uei one household held two post thrift least uan hung knew good form aster said ing screen gate tree uan tree screen gate hen two king carous stand turneddown cup uan turneddown cupstand f uan knew good form know good form ootnot uan hung famou man day chief minist uke'"
      ]
     },
     "execution_count": 89,
     "metadata": {},
     "output_type": "execute_result"
    }
   ],
   "source": [
    "df['clean_msg'].iloc[0]\n"
   ]
  },
  {
   "cell_type": "markdown",
   "metadata": {},
   "source": [
    "## Split the data into training and test sets\n"
   ]
  },
  {
   "cell_type": "code",
   "execution_count": 90,
   "metadata": {},
   "outputs": [
    {
     "name": "stdout",
     "output_type": "stream",
     "text": [
      "(1200,)\n",
      "(1200,)\n",
      "(960,)\n",
      "(240,)\n",
      "(960,)\n",
      "(240,)\n"
     ]
    }
   ],
   "source": [
    "# Split into X/y\n",
    "from sklearn.model_selection import train_test_split, cross_val_score\n",
    "\n",
    "x = df[\"documents\"]\n",
    "y = df[\"label\"]\n",
    "print(x.shape)\n",
    "print(y.shape)\n",
    "x_train, x_test, y_train, y_test = train_test_split(\n",
    "    x, y, test_size=0.2, random_state=0)\n",
    "\n",
    "print(x_train.shape)\n",
    "print(x_test.shape)\n",
    "print(y_train.shape)\n",
    "print(y_test.shape)"
   ]
  },
  {
   "cell_type": "markdown",
   "metadata": {},
   "source": [
    "## Vectorization: Convert text features to numeric\n"
   ]
  },
  {
   "cell_type": "code",
   "execution_count": 91,
   "metadata": {},
   "outputs": [
    {
     "name": "stdout",
     "output_type": "stream",
     "text": [
      "[[0. 0. 0. ... 0. 0. 0.]\n",
      " [0. 0. 0. ... 0. 0. 0.]\n",
      " [0. 0. 0. ... 0. 0. 0.]\n",
      " ...\n",
      " [0. 0. 0. ... 0. 0. 0.]\n",
      " [0. 0. 0. ... 0. 0. 0.]\n",
      " [0. 0. 0. ... 0. 0. 0.]]\n"
     ]
    }
   ],
   "source": [
    "from sklearn.feature_extraction.text import TfidfVectorizer\n",
    "# sublinear_df=True, use a logarithmic form for frequency\n",
    "\n",
    "# cv2 = TfidfVectorizer(ngram_range=(1, 2)) \n",
    "\n",
    "cv2 = TfidfVectorizer(sublinear_tf=True, min_df=10, norm='l2',\n",
    "                      ngram_range=(1, 2), stop_words='english')\n",
    "\n",
    "# min_df is the minimum numbers of documents a word must be present in to be kept\n",
    "# norm is set to l2, to ensure all our feature vectors have a euclidian norm of 1\n",
    "\n",
    "X_traincv = cv2.fit_transform(x_train)\n",
    "x_testcv = cv2.transform(x_test)\n",
    "print(X_traincv.toarray())\n"
   ]
  },
  {
   "cell_type": "markdown",
   "metadata": {},
   "source": [
    "## Train the model"
   ]
  },
  {
   "cell_type": "code",
   "execution_count": 92,
   "metadata": {},
   "outputs": [],
   "source": [
    "from sklearn.naive_bayes import MultinomialNB\n",
    "mnb= MultinomialNB()"
   ]
  },
  {
   "cell_type": "code",
   "execution_count": 93,
   "metadata": {},
   "outputs": [
    {
     "data": {
      "text/plain": [
       "MultinomialNB()"
      ]
     },
     "execution_count": 93,
     "metadata": {},
     "output_type": "execute_result"
    }
   ],
   "source": [
    "mnb.fit(X_traincv, y_train)"
   ]
  },
  {
   "cell_type": "code",
   "execution_count": 94,
   "metadata": {},
   "outputs": [
    {
     "data": {
      "text/plain": [
       "89.58333333333334"
      ]
     },
     "execution_count": 94,
     "metadata": {},
     "output_type": "execute_result"
    }
   ],
   "source": [
    "mnb.score(x_testcv, y_test)*100"
   ]
  },
  {
   "cell_type": "code",
   "execution_count": 95,
   "metadata": {},
   "outputs": [
    {
     "name": "stdout",
     "output_type": "stream",
     "text": [
      "Test Text:\n",
      "said, that music could reach such heights. 14. Jan Yu said, Is the Master for the lord of Wei?[66] [Footnote 66: The grandson of Duke Ling, the husband of Nan-tzu. His father had been driven from the country for plotting to kill Nan-tzu. When Duke Ling died, he was succeeded by his grandson, who opposed by force his father's attempts to seize the throne.] I shall ask him, said Tzu-kung. He went in, and said, What kind of men were Po-yi[67] and Shu-ch'i? Worthy men of yore, said the Master. Did they rue the past? They sought love and found it; what had they to rue? Tzu-kung went out, and said, The Master is not for him. 15. The Master said, Eating coarse rice and drinking water, with bent arm for pillow, we may be merry; but ill-gotten wealth and honours are to me a wandering cloud. 16. The Master said, Given a few more years, making fifty for learning the Yi,[68] I might be freed from gross faults. [Footnote 67: See Book\n"
     ]
    }
   ],
   "source": [
    "print(f\"Test Text:\")\n",
    "print(x_test.iloc[1])"
   ]
  },
  {
   "cell_type": "code",
   "execution_count": 96,
   "metadata": {},
   "outputs": [
    {
     "data": {
      "text/plain": [
       "2"
      ]
     },
     "execution_count": 96,
     "metadata": {},
     "output_type": "execute_result"
    }
   ],
   "source": [
    "actual_label = y_test.iloc[1]\n",
    "actual_label"
   ]
  },
  {
   "cell_type": "code",
   "execution_count": 97,
   "metadata": {},
   "outputs": [
    {
     "data": {
      "text/plain": [
       "array(['Confucius'], dtype=object)"
      ]
     },
     "execution_count": 97,
     "metadata": {},
     "output_type": "execute_result"
    }
   ],
   "source": [
    "labelencoder.inverse_transform([actual_label])"
   ]
  },
  {
   "cell_type": "code",
   "execution_count": 98,
   "metadata": {},
   "outputs": [
    {
     "name": "stdout",
     "output_type": "stream",
     "text": [
      "Predicted Y : 2, author: ['Confucius']\n"
     ]
    }
   ],
   "source": [
    "y_pred = mnb.predict(cv2.transform([x_test.iloc[1]]))\n",
    "print(f\"Predicted Y : {y_pred[0]}, author: {labelencoder.inverse_transform([y_pred[0]])}\")"
   ]
  },
  {
   "cell_type": "code",
   "execution_count": 99,
   "metadata": {},
   "outputs": [],
   "source": [
    "# from sklearn.neighbors import KNeighborsClassifier\n",
    "# knn = KNeighborsClassifier(n_neighbors=50)\n",
    "# knn.fit(X_traincv, y_train)\n",
    "# knn.score(x_testcv, y_test)*100"
   ]
  },
  {
   "cell_type": "markdown",
   "metadata": {},
   "source": [
    "## Hyperparameter tuning: Searching for the ideal model"
   ]
  },
  {
   "cell_type": "code",
   "execution_count": 100,
   "metadata": {},
   "outputs": [
    {
     "name": "stdout",
     "output_type": "stream",
     "text": [
      "Running Model:\u001b[32mKNeighbors\u001b[0m\n",
      "Best Training Score:\u001b[36m88.85%  \u001b[0mBest Test Score:\u001b[36m88.75%  \u001b[0m\n",
      "Best Params:\u001b[33m{'leaf_size': 25, 'n_neighbors': 25, 'weights': 'uniform'}\u001b[0m\n",
      "Running Model:\u001b[32mDecisionTree\u001b[0m\n",
      "Best Training Score:\u001b[36m75.62%  \u001b[0mBest Test Score:\u001b[36m75.83%  \u001b[0m\n",
      "Best Params:\u001b[33m{'criterion': 'gini', 'max_depth': None, 'max_features': None, 'random_state': 42, 'splitter': 'best'}\u001b[0m\n",
      "Running Model:\u001b[32mMultinomialNB\u001b[0m\n",
      "Best Training Score:\u001b[36m90.21%  \u001b[0mBest Test Score:\u001b[36m90.42%  \u001b[0m\n",
      "Best Params:\u001b[33m{'fit_prior': False}\u001b[0m\n",
      "Running Model:\u001b[32mSVC\u001b[0m\n",
      "Best Training Score:\u001b[36m92.08%  \u001b[0mBest Test Score:\u001b[36m92.08%  \u001b[0m\n",
      "Best Params:\u001b[33m{'fit_intercept': True, 'loss': 'hinge', 'max_iter': 900, 'multi_class': 'crammer_singer', 'random_state': 42}\u001b[0m\n",
      "Running Model:\u001b[32mSVM\u001b[0m\n",
      "Best Training Score:\u001b[36m92.71%  \u001b[0mBest Test Score:\u001b[36m91.67%  \u001b[0m\n",
      "Best Params:\u001b[33m{'C': 100, 'gamma': 0.001, 'kernel': 'rbf'}\u001b[0m\n",
      "Running Model:\u001b[32mRandomForest\u001b[0m\n",
      "Best Training Score:\u001b[36m91.25%  \u001b[0mBest Test Score:\u001b[36m90.0%  \u001b[0m\n",
      "Best Params:\u001b[33m{'bootstrap': False, 'criterion': 'gini', 'max_depth': 100, 'max_features': 'log2', 'n_estimators': 80, 'random_state': 42}\u001b[0m\n",
      "Running Model:\u001b[32mSGDClassifier\u001b[0m\n",
      "Best Training Score:\u001b[36m91.77%  \u001b[0mBest Test Score:\u001b[36m91.25%  \u001b[0m\n",
      "Best Params:\u001b[33m{'alpha': 0.001, 'early_stopping': True, 'loss': 'hinge', 'max_iter': 1000, 'penalty': 'l2', 'random_state': 42}\u001b[0m\n",
      "\n",
      "Best Model:\u001b[31mLinearSVC(loss='hinge', max_iter=900, multi_class='crammer_singer',\n",
      "          random_state=42)\u001b[0m\n"
     ]
    }
   ],
   "source": [
    "from termcolor import cprint\n",
    "from sklearn.ensemble import RandomForestClassifier\n",
    "from sklearn.svm import LinearSVC\n",
    "from sklearn import svm\n",
    "from sklearn.naive_bayes import MultinomialNB\n",
    "from sklearn.linear_model import SGDClassifier\n",
    "from sklearn.tree import DecisionTreeClassifier\n",
    "from sklearn.neighbors import KNeighborsClassifier\n",
    "\n",
    "from sklearn.metrics import accuracy_score\n",
    "from sklearn.model_selection import GridSearchCV\n",
    "\n",
    "# ignore ConvergenceWarnings\n",
    "from  warnings import simplefilter\n",
    "from sklearn.exceptions import ConvergenceWarning\n",
    "simplefilter(\"ignore\", category=ConvergenceWarning)\n",
    "\n",
    "models = [\n",
    "    { \"model_instance\": KNeighborsClassifier(),\n",
    "      \"model_name\": \"KNeighbors\",\n",
    "      \"params\": {\n",
    "          \"n_neighbors\": [25,30,35,45],\n",
    "          \"weights\": ['uniform','distance'],\n",
    "          \"leaf_size\": [25,30,35]\n",
    "        }\n",
    "    },\n",
    "    { \"model_instance\": DecisionTreeClassifier(),\n",
    "      \"model_name\": \"DecisionTree\",\n",
    "      \"params\": {\n",
    "          \"criterion\": ['gini','entropy'],\n",
    "          \"splitter\": ['best','random'],\n",
    "          \"max_depth\": [None,90,95,100],\n",
    "          \"max_features\": [None, \"auto\",\"sqrt\",\"log2\"],\n",
    "          \"random_state\": [42]\n",
    "      }\n",
    "    },\n",
    "    { \"model_instance\": MultinomialNB(),\n",
    "      \"model_name\":\"MultinomialNB\",\n",
    "      \"params\": {\n",
    "          \"fit_prior\": [True, False]\n",
    "      }\n",
    "    },\n",
    "    { \"model_instance\": LinearSVC(),\n",
    "      \"model_name\": \"SVC\",\n",
    "      \"params\": {\n",
    "          \"loss\": ['hinge','squared_hinge'],\n",
    "          \"multi_class\": ['ovr', 'crammer_singer'],\n",
    "          \"fit_intercept\": [True, False],\n",
    "          \"random_state\": [42],\n",
    "          \"max_iter\": [900, 1000, 1100]\n",
    "      }\n",
    "    },\n",
    "    { \"model_instance\": svm.SVC(),\n",
    "      \"model_name\": \"SVM\",\n",
    "      \"params\": {\n",
    "          'C': [0.1,1, 10, 100, 1000], 'gamma': [1,0.1,0.01,0.001,0.0001], 'kernel': ['rbf']\n",
    "      }\n",
    "    },\n",
    "    { \"model_instance\": RandomForestClassifier(),\n",
    "      \"model_name\": \"RandomForest\",\n",
    "      \"params\": {\n",
    "      \"criterion\": ['gini','entropy'],\n",
    "      \"bootstrap\": [True, False],\n",
    "      \"max_depth\": [85,90,95,100],\n",
    "      \"max_features\": ['sqrt','log2'],\n",
    "      \"n_estimators\": [60, 80, 90],\n",
    "      \"random_state\": [42]\n",
    "      }\n",
    "    },\n",
    "    { \"model_instance\": SGDClassifier(),\n",
    "      \"model_name\": \"SGDClassifier\",\n",
    "      \"params\": {\n",
    "          \"loss\": ['hinge','log','perceptron'],\n",
    "          \"penalty\": ['l2', 'l1'],\n",
    "          \"alpha\": [0.0001, 0.0003, 0.0010],\n",
    "          \"early_stopping\": [True],\n",
    "          \"max_iter\": [1000, 1500],\n",
    "          \"random_state\": [42]\n",
    "      }\n",
    "    }\n",
    "]\n",
    "\n",
    "scores = []\n",
    "highest_acc = 0\n",
    "best_model = None\n",
    "\n",
    "for model in models:\n",
    "\n",
    "  # Create a based model\n",
    "  model_instance = model[\"model_instance\"]\n",
    "  model_name = model[\"model_name\"]\n",
    "  print(\"Running Model:\",end=\"\")\n",
    "  cprint(model_name, \"green\")\n",
    "  # Instantiate the grid search model\n",
    "  classifier = GridSearchCV(estimator=model_instance, param_grid=model[\"params\"],\n",
    "                            cv = 10, n_jobs = 1)\n",
    "\n",
    "  # Fit the model\n",
    "  classifier.fit(X_traincv, y_train);\n",
    "\n",
    "  # Make a prediction on the test split to find model accuracy\n",
    "  predicted = classifier.predict(x_testcv)\n",
    "  acc = accuracy_score(predicted, y_test)\n",
    "  # If model have the highest accuracy, it's out best model\n",
    "  if acc > highest_acc:\n",
    "    highest_acc = acc\n",
    "    best_model = classifier\n",
    "\n",
    "  scores.append({\n",
    "    \"model\":model_name,\n",
    "    \"training_best_score\": classifier.best_score_,\n",
    "    \"test_best_score\": acc,\n",
    "    \"best_params\": classifier.best_params_\n",
    "  })\n",
    "\n",
    "  print(\"Best Training Score:\",end=\"\")\n",
    "  cprint(f\"{round(classifier.best_score_*100,2)}%  \", \"cyan\", end=\"\")\n",
    "  print(\"Best Test Score:\",end=\"\")\n",
    "  cprint(f\"{round(acc*100,2)}%  \", \"cyan\")\n",
    "\n",
    "  print(\"Best Params:\",end=\"\")\n",
    "  cprint(classifier.best_params_,\"yellow\")\n",
    "\n",
    "print(\"\\nBest Model:\",end=\"\")\n",
    "cprint(best_model.best_estimator_,\"red\")\n"
   ]
  },
  {
   "cell_type": "code",
   "execution_count": 101,
   "metadata": {},
   "outputs": [
    {
     "data": {
      "text/html": [
       "<div>\n",
       "<style scoped>\n",
       "    .dataframe tbody tr th:only-of-type {\n",
       "        vertical-align: middle;\n",
       "    }\n",
       "\n",
       "    .dataframe tbody tr th {\n",
       "        vertical-align: top;\n",
       "    }\n",
       "\n",
       "    .dataframe thead th {\n",
       "        text-align: right;\n",
       "    }\n",
       "</style>\n",
       "<table border=\"1\" class=\"dataframe\">\n",
       "  <thead>\n",
       "    <tr style=\"text-align: right;\">\n",
       "      <th></th>\n",
       "      <th>model</th>\n",
       "      <th>training_best_score</th>\n",
       "      <th>test_best_score</th>\n",
       "      <th>best_params</th>\n",
       "    </tr>\n",
       "  </thead>\n",
       "  <tbody>\n",
       "    <tr>\n",
       "      <th>0</th>\n",
       "      <td>KNeighbors</td>\n",
       "      <td>0.888542</td>\n",
       "      <td>0.887500</td>\n",
       "      <td>{'leaf_size': 25, 'n_neighbors': 25, 'weights'...</td>\n",
       "    </tr>\n",
       "    <tr>\n",
       "      <th>1</th>\n",
       "      <td>DecisionTree</td>\n",
       "      <td>0.756250</td>\n",
       "      <td>0.758333</td>\n",
       "      <td>{'criterion': 'gini', 'max_depth': None, 'max_...</td>\n",
       "    </tr>\n",
       "    <tr>\n",
       "      <th>2</th>\n",
       "      <td>MultinomialNB</td>\n",
       "      <td>0.902083</td>\n",
       "      <td>0.904167</td>\n",
       "      <td>{'fit_prior': False}</td>\n",
       "    </tr>\n",
       "    <tr>\n",
       "      <th>3</th>\n",
       "      <td>SVC</td>\n",
       "      <td>0.920833</td>\n",
       "      <td>0.920833</td>\n",
       "      <td>{'fit_intercept': True, 'loss': 'hinge', 'max_...</td>\n",
       "    </tr>\n",
       "    <tr>\n",
       "      <th>4</th>\n",
       "      <td>SVM</td>\n",
       "      <td>0.927083</td>\n",
       "      <td>0.916667</td>\n",
       "      <td>{'C': 100, 'gamma': 0.001, 'kernel': 'rbf'}</td>\n",
       "    </tr>\n",
       "    <tr>\n",
       "      <th>5</th>\n",
       "      <td>RandomForest</td>\n",
       "      <td>0.912500</td>\n",
       "      <td>0.900000</td>\n",
       "      <td>{'bootstrap': False, 'criterion': 'gini', 'max...</td>\n",
       "    </tr>\n",
       "    <tr>\n",
       "      <th>6</th>\n",
       "      <td>SGDClassifier</td>\n",
       "      <td>0.917708</td>\n",
       "      <td>0.912500</td>\n",
       "      <td>{'alpha': 0.001, 'early_stopping': True, 'loss...</td>\n",
       "    </tr>\n",
       "  </tbody>\n",
       "</table>\n",
       "</div>"
      ],
      "text/plain": [
       "           model  training_best_score  test_best_score  \\\n",
       "0     KNeighbors             0.888542         0.887500   \n",
       "1   DecisionTree             0.756250         0.758333   \n",
       "2  MultinomialNB             0.902083         0.904167   \n",
       "3            SVC             0.920833         0.920833   \n",
       "4            SVM             0.927083         0.916667   \n",
       "5   RandomForest             0.912500         0.900000   \n",
       "6  SGDClassifier             0.917708         0.912500   \n",
       "\n",
       "                                         best_params  \n",
       "0  {'leaf_size': 25, 'n_neighbors': 25, 'weights'...  \n",
       "1  {'criterion': 'gini', 'max_depth': None, 'max_...  \n",
       "2                               {'fit_prior': False}  \n",
       "3  {'fit_intercept': True, 'loss': 'hinge', 'max_...  \n",
       "4        {'C': 100, 'gamma': 0.001, 'kernel': 'rbf'}  \n",
       "5  {'bootstrap': False, 'criterion': 'gini', 'max...  \n",
       "6  {'alpha': 0.001, 'early_stopping': True, 'loss...  "
      ]
     },
     "execution_count": 101,
     "metadata": {},
     "output_type": "execute_result"
    }
   ],
   "source": [
    "d = pd.DataFrame(scores)\n",
    "d\n"
   ]
  },
  {
   "cell_type": "markdown",
   "metadata": {},
   "source": [
    "### Plotting each models performance"
   ]
  },
  {
   "cell_type": "code",
   "execution_count": 102,
   "metadata": {},
   "outputs": [
    {
     "data": {
      "text/plain": [
       "<AxesSubplot:xlabel='model', ylabel='test_best_score'>"
      ]
     },
     "execution_count": 102,
     "metadata": {},
     "output_type": "execute_result"
    },
    {
     "data": {
      "image/png": "[encoded data removed]",
      "text/plain": [
       "<Figure size 648x360 with 1 Axes>"
      ]
     },
     "metadata": {
      "needs_background": "light"
     },
     "output_type": "display_data"
    }
   ],
   "source": [
    "import seaborn as sns\n",
    "import matplotlib.pyplot as plt\n",
    "plt.figure(figsize=(9, 5))\n",
    "sns.barplot(x='model', y='test_best_score', data=d, errwidth=0)\n"
   ]
  },
  {
   "cell_type": "markdown",
   "metadata": {},
   "source": [
    "## Evaluating the model and make predictions using the Best Model"
   ]
  },
  {
   "cell_type": "code",
   "execution_count": 103,
   "metadata": {},
   "outputs": [],
   "source": [
    "from sklearn.metrics import accuracy_score, precision_score, recall_score, f1_score\n",
    "from sklearn.metrics import classification_report\n",
    "\n",
    "\n",
    "def evaluate_preds(y_true, y_preds):\n",
    "    \"\"\"\n",
    "    Performs evaluation comparison on y_true labels vs. y_pred labels\n",
    "    on a classification.\n",
    "    \"\"\"\n",
    "    accuracy = accuracy_score(y_true, y_preds)\n",
    "    precision = precision_score(y_true, y_preds, average='micro')\n",
    "    recall = recall_score(y_true, y_preds, average='micro')\n",
    "    f1 = f1_score(y_true, y_preds, average='micro')\n",
    "    metric_dict = {\"accuracy\": round(accuracy, 2),\n",
    "                   \"precision\": round(precision, 2),\n",
    "                   \"recall\": round(recall, 2),\n",
    "                   \"f1\": round(f1, 2)}\n",
    "    print(f\"Acc: {accuracy * 100:.2f}%\")\n",
    "    print(f\"Precision: {precision:.2f}\")\n",
    "    print(f\"Recall: {recall:.2f}\")\n",
    "    print(f\"F1 score: {f1:.2f}\")\n",
    "\n",
    "    return metric_dict\n"
   ]
  },
  {
   "cell_type": "markdown",
   "metadata": {},
   "source": [
    "Now we make predictions using the test data to see how the model performs"
   ]
  },
  {
   "cell_type": "code",
   "execution_count": 104,
   "metadata": {},
   "outputs": [
    {
     "name": "stdout",
     "output_type": "stream",
     "text": [
      "Acc: 92.08%\n",
      "Precision: 0.92\n",
      "Recall: 0.92\n",
      "F1 score: 0.92\n"
     ]
    },
    {
     "data": {
      "text/plain": [
       "{'accuracy': 0.92, 'precision': 0.92, 'recall': 0.92, 'f1': 0.92}"
      ]
     },
     "execution_count": 104,
     "metadata": {},
     "output_type": "execute_result"
    }
   ],
   "source": [
    "predicted = best_model.predict(x_testcv)\n",
    "evaluate_preds(y_test, predicted)\n"
   ]
  },
  {
   "cell_type": "markdown",
   "metadata": {},
   "source": [
    "Classification report"
   ]
  },
  {
   "cell_type": "code",
   "execution_count": 105,
   "metadata": {},
   "outputs": [
    {
     "name": "stdout",
     "output_type": "stream",
     "text": [
      "                             precision    recall  f1-score   support\n",
      "\n",
      "                  Confucius       1.00      0.82      0.90        49\n",
      "Sir Thomas Clifford Allbutt       0.95      0.97      0.96        40\n",
      "                   Averroes       0.91      0.93      0.92        42\n",
      "               T.J. de Boer       1.00      0.98      0.99        43\n",
      " Robert C. (Chamblet) Adams       0.76      0.89      0.82        36\n",
      "        Alfred William Benn       0.91      0.97      0.94        30\n",
      "\n",
      "                   accuracy                           0.92       240\n",
      "                  macro avg       0.92      0.93      0.92       240\n",
      "               weighted avg       0.93      0.92      0.92       240\n",
      "\n"
     ]
    }
   ],
   "source": [
    "from sklearn import metrics\n",
    "print(metrics.classification_report(y_test, predicted,\n",
    "                                    target_names=df['author'].unique()))"
   ]
  },
  {
   "cell_type": "markdown",
   "metadata": {},
   "source": [
    "Confusion Matrix"
   ]
  },
  {
   "cell_type": "code",
   "execution_count": 106,
   "metadata": {},
   "outputs": [
    {
     "data": {
      "text/plain": [
       "array(['Confucius', 'Sir Thomas Clifford Allbutt', 'Averroes',\n",
       "       'T.J. de Boer', 'Robert C. (Chamblet) Adams',\n",
       "       'Alfred William Benn'], dtype=object)"
      ]
     },
     "execution_count": 106,
     "metadata": {},
     "output_type": "execute_result"
    }
   ],
   "source": [
    "df[\"author\"].unique()\n"
   ]
  },
  {
   "cell_type": "code",
   "execution_count": 107,
   "metadata": {},
   "outputs": [
    {
     "data": {
      "image/png": "[encoded data removed]",
      "text/plain": [
       "<Figure size 576x432 with 2 Axes>"
      ]
     },
     "metadata": {
      "needs_background": "light"
     },
     "output_type": "display_data"
    }
   ],
   "source": [
    "from sklearn.metrics import confusion_matrix\n",
    "\n",
    "conf_mat = confusion_matrix(y_test, predicted)\n",
    "fig, ax = plt.subplots(figsize=(8, 6))\n",
    "sns.heatmap(conf_mat, annot=True, fmt='d',\n",
    "            xticklabels=df[\"author\"].unique(), yticklabels=df[\"author\"].unique())\n",
    "plt.ylabel('Actual')\n",
    "plt.xlabel('Predicted')\n",
    "plt.show()\n"
   ]
  },
  {
   "cell_type": "markdown",
   "metadata": {},
   "source": [
    "## Results"
   ]
  },
  {
   "cell_type": "markdown",
   "metadata": {},
   "source": [
    "- `n-fold = 3`"
   ]
  },
  {
   "cell_type": "markdown",
   "metadata": {},
   "source": [
    "<div align=\"center\">\n",
    "<img src=\"img/cv_3.jpg\" alt=\"cv_3.jpg\" width=\"900px\">\n",
    "</div>"
   ]
  },
  {
   "cell_type": "markdown",
   "metadata": {},
   "source": [
    "- default `n-fold = 5`"
   ]
  },
  {
   "cell_type": "markdown",
   "metadata": {},
   "source": [
    "<div align=\"center\">\n",
    "<img src=\"img/cv_5.jpg\" alt=\"cv_5.jpg\" width=\"900px\">\n",
    "</div>"
   ]
  },
  {
   "cell_type": "markdown",
   "metadata": {},
   "source": [
    "- default `n-fold = 5`, without dropping words len < 100"
   ]
  },
  {
   "cell_type": "markdown",
   "metadata": {},
   "source": [
    "<div align=\"center\">\n",
    "<img src=\"img/cv_5_no_w_drop.jpg\" alt=\"cv_5_no_w_drop.jpg\" width=\"900px\">\n",
    "</div>"
   ]
  },
  {
   "cell_type": "markdown",
   "metadata": {},
   "source": [
    "- `n-fold = 10`"
   ]
  },
  {
   "cell_type": "markdown",
   "metadata": {},
   "source": [
    "<div align=\"center\">\n",
    "<img src=\"img/cv_10.jpg\" alt=\"cv_10.jpg\" width=\"900px\">\n",
    "</div>"
   ]
  },
  {
   "cell_type": "markdown",
   "metadata": {},
   "source": [
    "<div align=\"center\">\n",
    "<img src=\"img/cv_10_1.jpg\" alt=\"cv_10_1.jpg\" width=\"900px\">\n",
    "</div>"
   ]
  },
  {
   "cell_type": "markdown",
   "metadata": {},
   "source": [
    "<div align=\"center\">\n",
    "<img src=\"img/cv_10_2.jpg\" alt=\"cv_10_2.jpg\" width=\"900px\">\n",
    "</div>"
   ]
  }
 ],
 "metadata": {
  "interpreter": {
   "hash": "8cdb09b0bc1c395d296938b19fe7764d972a7ceeffba4d3ad7ff6a3771581719"
  },
  "kernelspec": {
   "display_name": "Python 3.8.8 64-bit ('ProgramData': virtualenv)",
   "language": "python",
   "name": "python3"
  },
  "language_info": {
   "codemirror_mode": {
    "name": "ipython",
    "version": 3
   },
   "file_extension": ".py",
   "mimetype": "text/x-python",
   "name": "python",
   "nbconvert_exporter": "python",
   "pygments_lexer": "ipython3",
   "version": "3.8.8"
  },
  "orig_nbformat": 2
 },
 "nbformat": 4,
 "nbformat_minor": 2
}
