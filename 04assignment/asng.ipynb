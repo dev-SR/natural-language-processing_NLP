{
 "cells": [
  {
   "cell_type": "markdown",
   "metadata": {},
   "source": [
    "# Assignment-1"
   ]
  },
  {
   "cell_type": "markdown",
   "metadata": {},
   "source": [
    "<div align=\"center\">\n",
    "<img src=\"img/asgn.jpg\" alt=\"asgn.jpg\" width=\"1000px\">\n",
    "</div>"
   ]
  },
  {
   "cell_type": "code",
   "execution_count": 76,
   "metadata": {},
   "outputs": [],
   "source": [
    "\"\"\"\n",
    "cd .\\04assignment\\\n",
    "jupyter nbconvert --to markdown asng.ipynb --output README.md\n",
    "\"\"\"\n",
    "import pandas as pd\n",
    "import numpy as np\n",
    "import matplotlib.pyplot as plt\n",
    "import seaborn as sns\n",
    "import re\n",
    "import nltk"
   ]
  },
  {
   "cell_type": "markdown",
   "metadata": {},
   "source": [
    "## Load Data"
   ]
  },
  {
   "cell_type": "markdown",
   "metadata": {},
   "source": [
    "### Processing file - test codes"
   ]
  },
  {
   "cell_type": "code",
   "execution_count": 27,
   "metadata": {},
   "outputs": [
    {
     "name": "stdout",
     "output_type": "stream",
     "text": [
      "Science and Medieval Thought\n",
      "Sir Thomas Clifford Allbutt\n"
     ]
    },
    {
     "data": {
      "text/plain": [
       "['Sir Thomas Clifford Allbutt',\n",
       " 'Sir Thomas Clifford Allbutt',\n",
       " 'Sir Thomas Clifford Allbutt',\n",
       " 'Sir Thomas Clifford Allbutt',\n",
       " 'Sir Thomas Clifford Allbutt']"
      ]
     },
     "execution_count": 27,
     "metadata": {},
     "output_type": "execute_result"
    }
   ],
   "source": [
    "with open('38943-0.txt', 'r') as target_file:\n",
    "\tfor num, line in enumerate(target_file.readlines()):\n",
    "\t\tif \"Title\" in line:\n",
    "\t\t\ttitle = line.split(\":\")[1].strip()\n",
    "\t\t\tprint(title)\n",
    "\t\tif \"Author\" in line:\n",
    "\t\t\tauthor_name = line.split(\":\")[1].strip()\n",
    "\t\t\tprint(author_name)\n",
    "author_list = [author_name]*5\n",
    "author_list"
   ]
  },
  {
   "cell_type": "code",
   "execution_count": 3,
   "metadata": {},
   "outputs": [],
   "source": [
    "out = open(\"64171-0_chapter.txt\", \"w\")\n",
    "with open('64171-0.txt', 'r') as f:\n",
    "\tdata = f.read()\n",
    "\tif \"CHAPTER I.\" in data:\n",
    "\t\tdata = data.replace(\"CHAPTER I.\", \"CHAPTERI.\")\n",
    "\t\tprint(data, file=out)\n",
    "out.close()\n"
   ]
  },
  {
   "cell_type": "code",
   "execution_count": 4,
   "metadata": {},
   "outputs": [],
   "source": [
    "list_of_blocks = []\n",
    "with open('64171-0_chapter.txt', 'r') as f:\n",
    "\tdata = f.read()\n",
    "\t# print(len(data.split()))\n",
    "\ttotal_word = len(data.split())\n",
    "\tdata = data.split()\n",
    "\t# indices = []\n",
    "\t# for i, w in enumerate(data):\n",
    "\t# \t# start reading from CHAPTER I.\n",
    "\t# \tif \"CHAPTERI\" in w:\n",
    "\t# \t\tindices.append(i)\n",
    "\t# last = indices[-1]\n",
    "\t# # print(last)\n",
    "\t# data = data[last+1:]\n",
    "\n",
    "\tn = 200\n",
    "\tfor i in range(n):\n",
    "\t\ts = round(total_word*i/n)\n",
    "\t\te = round(total_word*(1+i)/n)\n",
    "\t\t# print(s,e)\n",
    "\t\tchunks = data[s:e]\n",
    "\t\tchunks = \" \".join(chunks)\n",
    "\t\t# print(chunks)\n",
    "\t\t# print(100*\"=\")\n",
    "\t\tlist_of_blocks.append(chunks)\n",
    "\n",
    "# print(list_of_blocks)\n"
   ]
  },
  {
   "cell_type": "markdown",
   "metadata": {},
   "source": [
    "### Processing file - Final"
   ]
  },
  {
   "cell_type": "code",
   "execution_count": 77,
   "metadata": {},
   "outputs": [],
   "source": [
    "import os\n",
    "def getTextFileList():\n",
    "\tall_files = os.listdir()\n",
    "\ttxt_files = []\n",
    "\tfor file in all_files:\n",
    "\t\tif file.endswith(\".txt\"):\n",
    "\t\t\ttxt_files.append(file)\n",
    "\treturn txt_files"
   ]
  },
  {
   "cell_type": "code",
   "execution_count": 78,
   "metadata": {},
   "outputs": [],
   "source": [
    "from termcolor import cprint\n",
    "def processFiles(text_files,document_no=200):\n",
    "\tdf_obj_of_documents = {\n",
    "\t\t\"documents\":[],\n",
    "\t\t\"author\":[]\n",
    "\t}\n",
    "\tlist_of_documents = []\n",
    "\tlist_of_authors = []\n",
    "\tfor file in text_files:\n",
    "\t\tcprint(f\"Extracting from: {file}\", 'green')\n",
    "\t\t# get Title and Author name\n",
    "\t\tauthor_name=\"\"\n",
    "\t\twith open(file, 'r') as target_file:\n",
    "\t\t\tfor num, line in enumerate(target_file.readlines()):\n",
    "\t\t\t\tpass\n",
    "\t\t\t\tif \"Title:\" in line:\n",
    "\t\t\t\t\ttitle = line.split(\":\")[1].strip()\n",
    "\t\t\t\tif \"Author:\" in line:\n",
    "\t\t\t\t\tprint(line)\n",
    "\t\t\t\t\tauthor_name = line.split(\":\")[1].strip()\n",
    "\n",
    "\t\t# get documents from each file\n",
    "\t\twith open(file, 'r') as f:\n",
    "\t\t\tdata = f.read()\n",
    "\t\t\ttotal_word = len(data.split())\n",
    "\t\t\tdata = data.split()\n",
    "\t\t\t# indices = []\n",
    "\t\t\t# for i, w in enumerate(data):\n",
    "\t\t\t# \t# start reading from CHAPTER I.\n",
    "\t\t\t# \tif \"CHAPTERI\" in w:\n",
    "\t\t\t# \t\tindices.append(i)\n",
    "\t\t\t# last = indices[-1]\n",
    "\t\t\t# # print(last)\n",
    "\t\t\t# data = data[last+1:]\n",
    "\n",
    "\t\t\t# n = 200\n",
    "\t\t\tfor i in range(document_no):\n",
    "\t\t\t\tstart_from = round(total_word*i/document_no)\n",
    "\t\t\t\tend_at = round(total_word*(1+i)/document_no)\n",
    "\t\t\t\tdocument = data[start_from:end_at]\n",
    "\t\t\t\tdocument = \" \".join(document)\n",
    "\t\t\t\t# print(chunks)\n",
    "\t\t\t\t# print(100*\"=\")\n",
    "\t\t\t\tlist_of_documents.append(document)\n",
    "\t\t\t\t\n",
    "\t\tprint(\"Book Title: \",end=\"\")\n",
    "\t\tcprint(title, 'yellow')\t\t\n",
    "\t\tprint(\"Author: \",end=\"\")\n",
    "\t\tcprint(author_name, 'yellow')\n",
    "\t\t# generated_doc_size = len(list_of_documents)\n",
    "\t\tprint(\"Documents generated: \",end=\"\")\n",
    "\t\tcprint(document_no, 'yellow')\n",
    "\t\trepeating_author = [author_name]*document_no\n",
    "\t\t# print(repeating_author)\n",
    "\t\tlist_of_authors = list_of_authors + repeating_author\n",
    "\t\t# save to dataframe\n",
    "\tdf_obj_of_documents[\"author\"] = list_of_authors\n",
    "\tdf_obj_of_documents[\"documents\"] = list_of_documents\n",
    "\t# print(df_obj_of_documents)\n",
    "\tprint(len(list_of_authors))\n",
    "\tprint(len(list_of_documents))\n",
    "\treturn df_obj_of_documents\n"
   ]
  },
  {
   "cell_type": "code",
   "execution_count": 79,
   "metadata": {},
   "outputs": [
    {
     "name": "stdout",
     "output_type": "stream",
     "text": [
      "\u001b[32mExtracting from: 38943-0.txt\u001b[0m\n",
      "Author: Sir Thomas Clifford Allbutt\n",
      "\n",
      "Book Title: \u001b[33mScience and Medieval Thought\u001b[0m\n",
      "Author: \u001b[33mSir Thomas Clifford Allbutt\u001b[0m\n",
      "Documents generated: \u001b[33m200\u001b[0m\n",
      "\u001b[32mExtracting from: 64171-0.txt\u001b[0m\n",
      "Author: Robert C. (Chamblet) Adams\n",
      "\n",
      "Book Title: \u001b[33mOn Board the \"Rocket\"\u001b[0m\n",
      "Author: \u001b[33mRobert C. (Chamblet) Adams\u001b[0m\n",
      "Documents generated: \u001b[33m200\u001b[0m\n",
      "\u001b[32mExtracting from: 65708-0.txt\u001b[0m\n",
      "Author: Averroes\n",
      "\n",
      "Book Title: \u001b[33mThe Philosophy and Theology of Averroes\u001b[0m\n",
      "Author: \u001b[33mAverroes\u001b[0m\n",
      "Documents generated: \u001b[33m200\u001b[0m\n",
      "\u001b[32mExtracting from: pg24055.txt\u001b[0m\n",
      "Author: Confucius\n",
      "\n",
      "Book Title: \u001b[33mThe Sayings Of Confucius\u001b[0m\n",
      "Author: \u001b[33mConfucius\u001b[0m\n",
      "Documents generated: \u001b[33m200\u001b[0m\n",
      "\u001b[32mExtracting from: pg2412.txt\u001b[0m\n",
      "Author: Aristotle\n",
      "\n",
      "Book Title: \u001b[33mThe Categories\u001b[0m\n",
      "Author: \u001b[33mAristotle\u001b[0m\n",
      "Documents generated: \u001b[33m200\u001b[0m\n",
      "\u001b[32mExtracting from: pg34283.txt\u001b[0m\n",
      "Author: Alfred William Benn\n",
      "\n",
      "Book Title: \u001b[33mHistory of Modern Philosophy\u001b[0m\n",
      "Author: \u001b[33mAlfred William Benn\u001b[0m\n",
      "Documents generated: \u001b[33m200\u001b[0m\n",
      "\u001b[32mExtracting from: pg66566.txt\u001b[0m\n",
      "Author: T.J. de Boer\n",
      "\n",
      "Book Title: \u001b[33mThe History of Philosophy in Islam\u001b[0m\n",
      "Author: \u001b[33mT.J. de Boer\u001b[0m\n",
      "Documents generated: \u001b[33m200\u001b[0m\n",
      "1400\n",
      "1400\n"
     ]
    }
   ],
   "source": [
    "df_obj_of_documents = processFiles(getTextFileList(),document_no=200)"
   ]
  },
  {
   "cell_type": "code",
   "execution_count": 80,
   "metadata": {},
   "outputs": [
    {
     "data": {
      "text/html": [
       "<div>\n",
       "<style scoped>\n",
       "    .dataframe tbody tr th:only-of-type {\n",
       "        vertical-align: middle;\n",
       "    }\n",
       "\n",
       "    .dataframe tbody tr th {\n",
       "        vertical-align: top;\n",
       "    }\n",
       "\n",
       "    .dataframe thead th {\n",
       "        text-align: right;\n",
       "    }\n",
       "</style>\n",
       "<table border=\"1\" class=\"dataframe\">\n",
       "  <thead>\n",
       "    <tr style=\"text-align: right;\">\n",
       "      <th></th>\n",
       "      <th>documents</th>\n",
       "      <th>author</th>\n",
       "    </tr>\n",
       "  </thead>\n",
       "  <tbody>\n",
       "    <tr>\n",
       "      <th>0</th>\n",
       "      <td>﻿The Project Gutenberg eBook, Science and Medi...</td>\n",
       "      <td>Sir Thomas Clifford Allbutt</td>\n",
       "    </tr>\n",
       "    <tr>\n",
       "      <th>1</th>\n",
       "      <td>SCIENCE AND MEDIEVAL THOUGHT. * * * * * London...</td>\n",
       "      <td>Sir Thomas Clifford Allbutt</td>\n",
       "    </tr>\n",
       "    <tr>\n",
       "      <th>2</th>\n",
       "      <td>et facit nos concludere quæstionem, sed non ce...</td>\n",
       "      <td>Sir Thomas Clifford Allbutt</td>\n",
       "    </tr>\n",
       "    <tr>\n",
       "      <th>3</th>\n",
       "      <td>a phantom, and again the spirit of a new world...</td>\n",
       "      <td>Sir Thomas Clifford Allbutt</td>\n",
       "    </tr>\n",
       "    <tr>\n",
       "      <th>4</th>\n",
       "      <td>first applied to the art and romance of the Mi...</td>\n",
       "      <td>Sir Thomas Clifford Allbutt</td>\n",
       "    </tr>\n",
       "  </tbody>\n",
       "</table>\n",
       "</div>"
      ],
      "text/plain": [
       "                                           documents  \\\n",
       "0  ﻿The Project Gutenberg eBook, Science and Medi...   \n",
       "1  SCIENCE AND MEDIEVAL THOUGHT. * * * * * London...   \n",
       "2  et facit nos concludere quæstionem, sed non ce...   \n",
       "3  a phantom, and again the spirit of a new world...   \n",
       "4  first applied to the art and romance of the Mi...   \n",
       "\n",
       "                        author  \n",
       "0  Sir Thomas Clifford Allbutt  \n",
       "1  Sir Thomas Clifford Allbutt  \n",
       "2  Sir Thomas Clifford Allbutt  \n",
       "3  Sir Thomas Clifford Allbutt  \n",
       "4  Sir Thomas Clifford Allbutt  "
      ]
     },
     "execution_count": 80,
     "metadata": {},
     "output_type": "execute_result"
    }
   ],
   "source": [
    "import pandas as pd\n",
    "# df = pd.DataFrame({\n",
    "# \t'data': list_of_blocks,\n",
    "# \t\"author\": author_list\n",
    "# })\n",
    "df = pd.DataFrame(df_obj_of_documents)\n",
    "df.head()"
   ]
  },
  {
   "cell_type": "code",
   "execution_count": 81,
   "metadata": {},
   "outputs": [
    {
     "data": {
      "text/html": [
       "<div>\n",
       "<style scoped>\n",
       "    .dataframe tbody tr th:only-of-type {\n",
       "        vertical-align: middle;\n",
       "    }\n",
       "\n",
       "    .dataframe tbody tr th {\n",
       "        vertical-align: top;\n",
       "    }\n",
       "\n",
       "    .dataframe thead th {\n",
       "        text-align: right;\n",
       "    }\n",
       "</style>\n",
       "<table border=\"1\" class=\"dataframe\">\n",
       "  <thead>\n",
       "    <tr style=\"text-align: right;\">\n",
       "      <th></th>\n",
       "      <th>documents</th>\n",
       "      <th>author</th>\n",
       "      <th>words_count</th>\n",
       "    </tr>\n",
       "  </thead>\n",
       "  <tbody>\n",
       "    <tr>\n",
       "      <th>0</th>\n",
       "      <td>﻿The Project Gutenberg eBook, Science and Medi...</td>\n",
       "      <td>Sir Thomas Clifford Allbutt</td>\n",
       "      <td>142</td>\n",
       "    </tr>\n",
       "    <tr>\n",
       "      <th>1</th>\n",
       "      <td>SCIENCE AND MEDIEVAL THOUGHT. * * * * * London...</td>\n",
       "      <td>Sir Thomas Clifford Allbutt</td>\n",
       "      <td>143</td>\n",
       "    </tr>\n",
       "    <tr>\n",
       "      <th>2</th>\n",
       "      <td>et facit nos concludere quæstionem, sed non ce...</td>\n",
       "      <td>Sir Thomas Clifford Allbutt</td>\n",
       "      <td>142</td>\n",
       "    </tr>\n",
       "    <tr>\n",
       "      <th>3</th>\n",
       "      <td>a phantom, and again the spirit of a new world...</td>\n",
       "      <td>Sir Thomas Clifford Allbutt</td>\n",
       "      <td>142</td>\n",
       "    </tr>\n",
       "    <tr>\n",
       "      <th>4</th>\n",
       "      <td>first applied to the art and romance of the Mi...</td>\n",
       "      <td>Sir Thomas Clifford Allbutt</td>\n",
       "      <td>143</td>\n",
       "    </tr>\n",
       "  </tbody>\n",
       "</table>\n",
       "</div>"
      ],
      "text/plain": [
       "                                           documents  \\\n",
       "0  ﻿The Project Gutenberg eBook, Science and Medi...   \n",
       "1  SCIENCE AND MEDIEVAL THOUGHT. * * * * * London...   \n",
       "2  et facit nos concludere quæstionem, sed non ce...   \n",
       "3  a phantom, and again the spirit of a new world...   \n",
       "4  first applied to the art and romance of the Mi...   \n",
       "\n",
       "                        author  words_count  \n",
       "0  Sir Thomas Clifford Allbutt          142  \n",
       "1  Sir Thomas Clifford Allbutt          143  \n",
       "2  Sir Thomas Clifford Allbutt          142  \n",
       "3  Sir Thomas Clifford Allbutt          142  \n",
       "4  Sir Thomas Clifford Allbutt          143  "
      ]
     },
     "execution_count": 81,
     "metadata": {},
     "output_type": "execute_result"
    }
   ],
   "source": [
    "df['words_count'] = df['documents'].apply(lambda x: len(x.split()))\n",
    "df.head()"
   ]
  },
  {
   "cell_type": "code",
   "execution_count": 47,
   "metadata": {},
   "outputs": [
    {
     "data": {
      "text/plain": [
       "87"
      ]
     },
     "execution_count": 47,
     "metadata": {},
     "output_type": "execute_result"
    }
   ],
   "source": [
    "df['words_count'].min()"
   ]
  },
  {
   "cell_type": "code",
   "execution_count": 82,
   "metadata": {},
   "outputs": [],
   "source": [
    "df = df.drop(df[df['words_count'] < 100].index)\n",
    "# drop documents with less than 100 words"
   ]
  },
  {
   "cell_type": "code",
   "execution_count": 49,
   "metadata": {},
   "outputs": [
    {
     "data": {
      "text/plain": [
       "142"
      ]
     },
     "execution_count": 49,
     "metadata": {},
     "output_type": "execute_result"
    }
   ],
   "source": [
    "df['words_count'].min()"
   ]
  },
  {
   "cell_type": "markdown",
   "metadata": {},
   "source": [
    "### Label Encoding"
   ]
  },
  {
   "cell_type": "markdown",
   "metadata": {},
   "source": [
    "#### using `pd.factorize()`"
   ]
  },
  {
   "cell_type": "code",
   "execution_count": 50,
   "metadata": {},
   "outputs": [
    {
     "data": {
      "text/plain": [
       "Index(['Sir Thomas Clifford Allbutt', 'Robert C. (Chamblet) Adams', 'Averroes',\n",
       "       'Confucius', 'Alfred William Benn', 'T.J. de Boer'],\n",
       "      dtype='object')"
      ]
     },
     "execution_count": 50,
     "metadata": {},
     "output_type": "execute_result"
    }
   ],
   "source": [
    "y , label = df['author'].factorize()\n",
    "label"
   ]
  },
  {
   "cell_type": "code",
   "execution_count": 41,
   "metadata": {},
   "outputs": [
    {
     "data": {
      "text/plain": [
       "array([0, 1, 2, 3, 4, 5], dtype=int64)"
      ]
     },
     "execution_count": 41,
     "metadata": {},
     "output_type": "execute_result"
    }
   ],
   "source": [
    "np.unique(y)"
   ]
  },
  {
   "cell_type": "code",
   "execution_count": 42,
   "metadata": {},
   "outputs": [
    {
     "data": {
      "text/plain": [
       "'Robert C. (Chamblet) Adams'"
      ]
     },
     "execution_count": 42,
     "metadata": {},
     "output_type": "execute_result"
    }
   ],
   "source": [
    "if_predit = 1\n",
    "label[if_predit]"
   ]
  },
  {
   "cell_type": "code",
   "execution_count": 52,
   "metadata": {},
   "outputs": [
    {
     "data": {
      "text/html": [
       "<div>\n",
       "<style scoped>\n",
       "    .dataframe tbody tr th:only-of-type {\n",
       "        vertical-align: middle;\n",
       "    }\n",
       "\n",
       "    .dataframe tbody tr th {\n",
       "        vertical-align: top;\n",
       "    }\n",
       "\n",
       "    .dataframe thead th {\n",
       "        text-align: right;\n",
       "    }\n",
       "</style>\n",
       "<table border=\"1\" class=\"dataframe\">\n",
       "  <thead>\n",
       "    <tr style=\"text-align: right;\">\n",
       "      <th></th>\n",
       "      <th>documents</th>\n",
       "      <th>author</th>\n",
       "      <th>words_count</th>\n",
       "      <th>label</th>\n",
       "    </tr>\n",
       "  </thead>\n",
       "  <tbody>\n",
       "    <tr>\n",
       "      <th>0</th>\n",
       "      <td>﻿The Project Gutenberg eBook, Science and Medi...</td>\n",
       "      <td>Sir Thomas Clifford Allbutt</td>\n",
       "      <td>142</td>\n",
       "      <td>0</td>\n",
       "    </tr>\n",
       "    <tr>\n",
       "      <th>1</th>\n",
       "      <td>SCIENCE AND MEDIEVAL THOUGHT. * * * * * London...</td>\n",
       "      <td>Sir Thomas Clifford Allbutt</td>\n",
       "      <td>143</td>\n",
       "      <td>0</td>\n",
       "    </tr>\n",
       "    <tr>\n",
       "      <th>2</th>\n",
       "      <td>et facit nos concludere quæstionem, sed non ce...</td>\n",
       "      <td>Sir Thomas Clifford Allbutt</td>\n",
       "      <td>142</td>\n",
       "      <td>0</td>\n",
       "    </tr>\n",
       "    <tr>\n",
       "      <th>3</th>\n",
       "      <td>a phantom, and again the spirit of a new world...</td>\n",
       "      <td>Sir Thomas Clifford Allbutt</td>\n",
       "      <td>142</td>\n",
       "      <td>0</td>\n",
       "    </tr>\n",
       "    <tr>\n",
       "      <th>4</th>\n",
       "      <td>first applied to the art and romance of the Mi...</td>\n",
       "      <td>Sir Thomas Clifford Allbutt</td>\n",
       "      <td>143</td>\n",
       "      <td>0</td>\n",
       "    </tr>\n",
       "  </tbody>\n",
       "</table>\n",
       "</div>"
      ],
      "text/plain": [
       "                                           documents  \\\n",
       "0  ﻿The Project Gutenberg eBook, Science and Medi...   \n",
       "1  SCIENCE AND MEDIEVAL THOUGHT. * * * * * London...   \n",
       "2  et facit nos concludere quæstionem, sed non ce...   \n",
       "3  a phantom, and again the spirit of a new world...   \n",
       "4  first applied to the art and romance of the Mi...   \n",
       "\n",
       "                        author  words_count  label  \n",
       "0  Sir Thomas Clifford Allbutt          142      0  \n",
       "1  Sir Thomas Clifford Allbutt          143      0  \n",
       "2  Sir Thomas Clifford Allbutt          142      0  \n",
       "3  Sir Thomas Clifford Allbutt          142      0  \n",
       "4  Sir Thomas Clifford Allbutt          143      0  "
      ]
     },
     "execution_count": 52,
     "metadata": {},
     "output_type": "execute_result"
    }
   ],
   "source": [
    "df['label'] = y\n",
    "df.head()"
   ]
  },
  {
   "cell_type": "code",
   "execution_count": 54,
   "metadata": {},
   "outputs": [
    {
     "data": {
      "text/html": [
       "<div>\n",
       "<style scoped>\n",
       "    .dataframe tbody tr th:only-of-type {\n",
       "        vertical-align: middle;\n",
       "    }\n",
       "\n",
       "    .dataframe tbody tr th {\n",
       "        vertical-align: top;\n",
       "    }\n",
       "\n",
       "    .dataframe thead th {\n",
       "        text-align: right;\n",
       "    }\n",
       "</style>\n",
       "<table border=\"1\" class=\"dataframe\">\n",
       "  <thead>\n",
       "    <tr style=\"text-align: right;\">\n",
       "      <th></th>\n",
       "      <th>documents</th>\n",
       "      <th>author</th>\n",
       "      <th>words_count</th>\n",
       "      <th>label</th>\n",
       "    </tr>\n",
       "  </thead>\n",
       "  <tbody>\n",
       "    <tr>\n",
       "      <th>0</th>\n",
       "      <td>is beneath it, and through logical inference w...</td>\n",
       "      <td>T.J. de Boer</td>\n",
       "      <td>320</td>\n",
       "      <td>5</td>\n",
       "    </tr>\n",
       "    <tr>\n",
       "      <th>1</th>\n",
       "      <td>“If we had pleased, we had certainly given eve...</td>\n",
       "      <td>Averroes</td>\n",
       "      <td>277</td>\n",
       "      <td>2</td>\n",
       "    </tr>\n",
       "    <tr>\n",
       "      <th>2</th>\n",
       "      <td>astronomy, and alchemy. Averroes it was who fi...</td>\n",
       "      <td>Sir Thomas Clifford Allbutt</td>\n",
       "      <td>142</td>\n",
       "      <td>0</td>\n",
       "    </tr>\n",
       "    <tr>\n",
       "      <th>3</th>\n",
       "      <td>matter of principle there can of course be but...</td>\n",
       "      <td>Robert C. (Chamblet) Adams</td>\n",
       "      <td>394</td>\n",
       "      <td>1</td>\n",
       "    </tr>\n",
       "    <tr>\n",
       "      <th>4</th>\n",
       "      <td>also the masts and yards, and wearing away the...</td>\n",
       "      <td>Robert C. (Chamblet) Adams</td>\n",
       "      <td>395</td>\n",
       "      <td>1</td>\n",
       "    </tr>\n",
       "  </tbody>\n",
       "</table>\n",
       "</div>"
      ],
      "text/plain": [
       "                                           documents  \\\n",
       "0  is beneath it, and through logical inference w...   \n",
       "1  “If we had pleased, we had certainly given eve...   \n",
       "2  astronomy, and alchemy. Averroes it was who fi...   \n",
       "3  matter of principle there can of course be but...   \n",
       "4  also the masts and yards, and wearing away the...   \n",
       "\n",
       "                        author  words_count  label  \n",
       "0                 T.J. de Boer          320      5  \n",
       "1                     Averroes          277      2  \n",
       "2  Sir Thomas Clifford Allbutt          142      0  \n",
       "3   Robert C. (Chamblet) Adams          394      1  \n",
       "4   Robert C. (Chamblet) Adams          395      1  "
      ]
     },
     "execution_count": 54,
     "metadata": {},
     "output_type": "execute_result"
    }
   ],
   "source": [
    "# shuffle data\n",
    "df = df.sample(frac=1).reset_index(drop=True)\n",
    "df.head()"
   ]
  },
  {
   "cell_type": "markdown",
   "metadata": {},
   "source": [
    "#### using `sklearn.preprocessing.LabelEncoder()`"
   ]
  },
  {
   "cell_type": "code",
   "execution_count": 83,
   "metadata": {},
   "outputs": [],
   "source": [
    "from sklearn.preprocessing import LabelEncoder\n",
    "labelencoder = LabelEncoder()\n"
   ]
  },
  {
   "cell_type": "code",
   "execution_count": 84,
   "metadata": {},
   "outputs": [
    {
     "data": {
      "text/html": [
       "<div>\n",
       "<style scoped>\n",
       "    .dataframe tbody tr th:only-of-type {\n",
       "        vertical-align: middle;\n",
       "    }\n",
       "\n",
       "    .dataframe tbody tr th {\n",
       "        vertical-align: top;\n",
       "    }\n",
       "\n",
       "    .dataframe thead th {\n",
       "        text-align: right;\n",
       "    }\n",
       "</style>\n",
       "<table border=\"1\" class=\"dataframe\">\n",
       "  <thead>\n",
       "    <tr style=\"text-align: right;\">\n",
       "      <th></th>\n",
       "      <th>documents</th>\n",
       "      <th>author</th>\n",
       "      <th>words_count</th>\n",
       "      <th>label</th>\n",
       "    </tr>\n",
       "  </thead>\n",
       "  <tbody>\n",
       "    <tr>\n",
       "      <th>0</th>\n",
       "      <td>﻿The Project Gutenberg eBook, Science and Medi...</td>\n",
       "      <td>Sir Thomas Clifford Allbutt</td>\n",
       "      <td>142</td>\n",
       "      <td>4</td>\n",
       "    </tr>\n",
       "    <tr>\n",
       "      <th>1</th>\n",
       "      <td>SCIENCE AND MEDIEVAL THOUGHT. * * * * * London...</td>\n",
       "      <td>Sir Thomas Clifford Allbutt</td>\n",
       "      <td>143</td>\n",
       "      <td>4</td>\n",
       "    </tr>\n",
       "    <tr>\n",
       "      <th>2</th>\n",
       "      <td>et facit nos concludere quæstionem, sed non ce...</td>\n",
       "      <td>Sir Thomas Clifford Allbutt</td>\n",
       "      <td>142</td>\n",
       "      <td>4</td>\n",
       "    </tr>\n",
       "    <tr>\n",
       "      <th>3</th>\n",
       "      <td>a phantom, and again the spirit of a new world...</td>\n",
       "      <td>Sir Thomas Clifford Allbutt</td>\n",
       "      <td>142</td>\n",
       "      <td>4</td>\n",
       "    </tr>\n",
       "    <tr>\n",
       "      <th>4</th>\n",
       "      <td>first applied to the art and romance of the Mi...</td>\n",
       "      <td>Sir Thomas Clifford Allbutt</td>\n",
       "      <td>143</td>\n",
       "      <td>4</td>\n",
       "    </tr>\n",
       "  </tbody>\n",
       "</table>\n",
       "</div>"
      ],
      "text/plain": [
       "                                           documents  \\\n",
       "0  ﻿The Project Gutenberg eBook, Science and Medi...   \n",
       "1  SCIENCE AND MEDIEVAL THOUGHT. * * * * * London...   \n",
       "2  et facit nos concludere quæstionem, sed non ce...   \n",
       "3  a phantom, and again the spirit of a new world...   \n",
       "4  first applied to the art and romance of the Mi...   \n",
       "\n",
       "                        author  words_count  label  \n",
       "0  Sir Thomas Clifford Allbutt          142      4  \n",
       "1  Sir Thomas Clifford Allbutt          143      4  \n",
       "2  Sir Thomas Clifford Allbutt          142      4  \n",
       "3  Sir Thomas Clifford Allbutt          142      4  \n",
       "4  Sir Thomas Clifford Allbutt          143      4  "
      ]
     },
     "execution_count": 84,
     "metadata": {},
     "output_type": "execute_result"
    }
   ],
   "source": [
    "df['label'] = labelencoder.fit_transform( df['author'])\n",
    "df.head()"
   ]
  },
  {
   "cell_type": "code",
   "execution_count": 85,
   "metadata": {},
   "outputs": [
    {
     "data": {
      "text/html": [
       "<div>\n",
       "<style scoped>\n",
       "    .dataframe tbody tr th:only-of-type {\n",
       "        vertical-align: middle;\n",
       "    }\n",
       "\n",
       "    .dataframe tbody tr th {\n",
       "        vertical-align: top;\n",
       "    }\n",
       "\n",
       "    .dataframe thead th {\n",
       "        text-align: right;\n",
       "    }\n",
       "</style>\n",
       "<table border=\"1\" class=\"dataframe\">\n",
       "  <thead>\n",
       "    <tr style=\"text-align: right;\">\n",
       "      <th></th>\n",
       "      <th>documents</th>\n",
       "      <th>author</th>\n",
       "      <th>words_count</th>\n",
       "      <th>label</th>\n",
       "    </tr>\n",
       "  </thead>\n",
       "  <tbody>\n",
       "    <tr>\n",
       "      <th>0</th>\n",
       "      <td>its place. According to Cousin, in all countri...</td>\n",
       "      <td>Alfred William Benn</td>\n",
       "      <td>220</td>\n",
       "      <td>0</td>\n",
       "    </tr>\n",
       "    <tr>\n",
       "      <th>1</th>\n",
       "      <td>families of Meng, Shu, and Chi were descended,...</td>\n",
       "      <td>Confucius</td>\n",
       "      <td>173</td>\n",
       "      <td>2</td>\n",
       "    </tr>\n",
       "    <tr>\n",
       "      <th>2</th>\n",
       "      <td>were the conjectures about her, and some of ou...</td>\n",
       "      <td>Robert C. (Chamblet) Adams</td>\n",
       "      <td>395</td>\n",
       "      <td>3</td>\n",
       "    </tr>\n",
       "    <tr>\n",
       "      <th>3</th>\n",
       "      <td>He is the author of the famous saying--the sol...</td>\n",
       "      <td>Alfred William Benn</td>\n",
       "      <td>220</td>\n",
       "      <td>0</td>\n",
       "    </tr>\n",
       "    <tr>\n",
       "      <th>4</th>\n",
       "      <td>not truthful, I will know nothing. 17. The Mas...</td>\n",
       "      <td>Confucius</td>\n",
       "      <td>173</td>\n",
       "      <td>2</td>\n",
       "    </tr>\n",
       "  </tbody>\n",
       "</table>\n",
       "</div>"
      ],
      "text/plain": [
       "                                           documents  \\\n",
       "0  its place. According to Cousin, in all countri...   \n",
       "1  families of Meng, Shu, and Chi were descended,...   \n",
       "2  were the conjectures about her, and some of ou...   \n",
       "3  He is the author of the famous saying--the sol...   \n",
       "4  not truthful, I will know nothing. 17. The Mas...   \n",
       "\n",
       "                       author  words_count  label  \n",
       "0         Alfred William Benn          220      0  \n",
       "1                   Confucius          173      2  \n",
       "2  Robert C. (Chamblet) Adams          395      3  \n",
       "3         Alfred William Benn          220      0  \n",
       "4                   Confucius          173      2  "
      ]
     },
     "execution_count": 85,
     "metadata": {},
     "output_type": "execute_result"
    }
   ],
   "source": [
    "# shuffle data\n",
    "df = df.sample(frac=1).reset_index(drop=True)\n",
    "df.head()\n"
   ]
  },
  {
   "cell_type": "markdown",
   "metadata": {},
   "source": [
    "## Data Pre-Process"
   ]
  },
  {
   "cell_type": "code",
   "execution_count": 86,
   "metadata": {},
   "outputs": [],
   "source": [
    "import nltk\n",
    "from nltk.stem.porter import PorterStemmer\n",
    "from nltk.tokenize import word_tokenize\n",
    "from nltk.corpus import stopwords\n",
    "import re\n",
    "ps = PorterStemmer()\n"
   ]
  },
  {
   "cell_type": "code",
   "execution_count": 56,
   "metadata": {},
   "outputs": [],
   "source": [
    "def text_process(msg):\n",
    "\t# Remove Emails\n",
    "\tmsg = re.sub('\\b[\\w\\-.]+?@\\w+?\\.\\w{2,4}\\b', 'emailaddr', msg)\n",
    "\t# Remove url's\n",
    "\tmsg = re.sub('(http[s]?\\S+)|(\\w+\\.[A-Za-z]{2,4}\\S*)', 'httpaddr', msg)\n",
    "\t# Remove Money Symbols\n",
    "\tmsg = re.sub('£|\\$', 'moneysymb', msg)\n",
    "\t# Remove Phone Numbers\n",
    "\tmsg = re.sub(\n",
    "\t\t'\\b(\\+\\d{1,2}\\s?\\d?[\\-(.]?\\d{3}\\)?[\\s.-]?\\d{3}[\\s.-]?\\d{4})\\b', 'phonenumbr', msg)\n",
    "\t# Remove Numbers\n",
    "\tmsg = re.sub('\\d+(\\.\\d+)?', '', msg)\n",
    "\t# Remove Punctuation\n",
    "\tmsg = re.sub('[^\\w\\s]', '', msg)\n",
    "\t# Remove Extra Spaces\n",
    "\tmsg = re.sub('\\s+', ' ', msg)\n",
    "\n",
    "\t# Lower case\n",
    "\tmsg = msg.lower()\n",
    "\n",
    "\t# Tokenize\n",
    "\twords = word_tokenize(msg)\n",
    "\n",
    "\t# Remove Stop Words\n",
    "\tstop_words = set(stopwords.words('english'))\n",
    "\twords = [w for w in words if not w in stop_words]\n",
    "\n",
    "\t# Stemming\n",
    "\tstemmed_words = [ps.stem(w) for w in words]\n",
    "\n",
    "\t# Join the words back into one string separated by space,\n",
    "\tstemmed_sen = ' '.join(stemmed_words)\n",
    "\n",
    "\treturn stemmed_sen\n"
   ]
  },
  {
   "cell_type": "code",
   "execution_count": 57,
   "metadata": {},
   "outputs": [
    {
     "data": {
      "text/html": [
       "<div>\n",
       "<style scoped>\n",
       "    .dataframe tbody tr th:only-of-type {\n",
       "        vertical-align: middle;\n",
       "    }\n",
       "\n",
       "    .dataframe tbody tr th {\n",
       "        vertical-align: top;\n",
       "    }\n",
       "\n",
       "    .dataframe thead th {\n",
       "        text-align: right;\n",
       "    }\n",
       "</style>\n",
       "<table border=\"1\" class=\"dataframe\">\n",
       "  <thead>\n",
       "    <tr style=\"text-align: right;\">\n",
       "      <th></th>\n",
       "      <th>documents</th>\n",
       "      <th>author</th>\n",
       "      <th>words_count</th>\n",
       "      <th>label</th>\n",
       "      <th>clean_msg</th>\n",
       "    </tr>\n",
       "  </thead>\n",
       "  <tbody>\n",
       "    <tr>\n",
       "      <th>0</th>\n",
       "      <td>is beneath it, and through logical inference w...</td>\n",
       "      <td>T.J. de Boer</td>\n",
       "      <td>320</td>\n",
       "      <td>5</td>\n",
       "      <td>beneath logic infer final ration consider dire...</td>\n",
       "    </tr>\n",
       "    <tr>\n",
       "      <th>1</th>\n",
       "      <td>“If we had pleased, we had certainly given eve...</td>\n",
       "      <td>Averroes</td>\n",
       "      <td>277</td>\n",
       "      <td>2</td>\n",
       "      <td>pleas certainli given everi soul direct word h...</td>\n",
       "    </tr>\n",
       "    <tr>\n",
       "      <th>2</th>\n",
       "      <td>astronomy, and alchemy. Averroes it was who fi...</td>\n",
       "      <td>Sir Thomas Clifford Allbutt</td>\n",
       "      <td>142</td>\n",
       "      <td>0</td>\n",
       "      <td>astronomi alchemi averro first assert independ...</td>\n",
       "    </tr>\n",
       "    <tr>\n",
       "      <th>3</th>\n",
       "      <td>matter of principle there can of course be but...</td>\n",
       "      <td>Robert C. (Chamblet) Adams</td>\n",
       "      <td>394</td>\n",
       "      <td>1</td>\n",
       "      <td>matter principl cours one answerchrist teach e...</td>\n",
       "    </tr>\n",
       "    <tr>\n",
       "      <th>4</th>\n",
       "      <td>also the masts and yards, and wearing away the...</td>\n",
       "      <td>Robert C. (Chamblet) Adams</td>\n",
       "      <td>395</td>\n",
       "      <td>1</td>\n",
       "      <td>also mast yard wear away deck holyston well le...</td>\n",
       "    </tr>\n",
       "  </tbody>\n",
       "</table>\n",
       "</div>"
      ],
      "text/plain": [
       "                                           documents  \\\n",
       "0  is beneath it, and through logical inference w...   \n",
       "1  “If we had pleased, we had certainly given eve...   \n",
       "2  astronomy, and alchemy. Averroes it was who fi...   \n",
       "3  matter of principle there can of course be but...   \n",
       "4  also the masts and yards, and wearing away the...   \n",
       "\n",
       "                        author  words_count  label  \\\n",
       "0                 T.J. de Boer          320      5   \n",
       "1                     Averroes          277      2   \n",
       "2  Sir Thomas Clifford Allbutt          142      0   \n",
       "3   Robert C. (Chamblet) Adams          394      1   \n",
       "4   Robert C. (Chamblet) Adams          395      1   \n",
       "\n",
       "                                           clean_msg  \n",
       "0  beneath logic infer final ration consider dire...  \n",
       "1  pleas certainli given everi soul direct word h...  \n",
       "2  astronomi alchemi averro first assert independ...  \n",
       "3  matter principl cours one answerchrist teach e...  \n",
       "4  also mast yard wear away deck holyston well le...  "
      ]
     },
     "execution_count": 57,
     "metadata": {},
     "output_type": "execute_result"
    }
   ],
   "source": [
    "df['clean_msg'] = df.documents.apply(text_process)\n",
    "df.head()"
   ]
  },
  {
   "cell_type": "code",
   "execution_count": 58,
   "metadata": {},
   "outputs": [
    {
     "data": {
      "text/plain": [
       "'is beneath it, and through logical inference with what is above it, and finally with itself by rational consideration or direct intuition. Of these kinds of knowledge the surest and the most deserving of preference is knowledge of one’s self. When human knowledge attempts to go farther than this, it proves itself to be limited in many ways. Therefore one must not philosophize straight away about questions like the origin or the eternity of the world, but make his first essays with what is simpler. And only through renunciation of the world, and righteous conduct, does the soul lift itself gradually up to the pure knowledge of the Highest.” 5. After secular instruction in Grammar, Poetry and History, and after religious education and doctrine, philosophic study should begin with the mathematical branches. Here everything is set forth in Neo-Pythagorean and Indian fashion. Not only numbers but even the letters of the alphabet are employed in childish trifling. It was particularly convenient for the Brethren that the number of letters in the Arabic alphabet is 28, or 4 multiplied by 7. Instead of proceeding according to practical and real points of view, they give the rein to fancy in all the sciences, in accordance with grammatical analogies and relations of numbers. Their Arithmetic does not investigate Number as such, but rather its significance. No search is made for any more suitable mode of expressing number in the case of phenomena; but things are themselves explained in accordance with the system of numbers. The Theory of number is Divine wisdom, and is above Things, for things are only formed after the pattern of numbers. The absolute principle of all existence and thought is the number One. The science of number, therefore, is found at the beginning, middle, and end of all philosophy. Geometry, with its figures addressing the eye, serves merely to make it more easily understood by beginners, but Arithmetic alone'"
      ]
     },
     "execution_count": 58,
     "metadata": {},
     "output_type": "execute_result"
    }
   ],
   "source": [
    "df['documents'].iloc[0]\n"
   ]
  },
  {
   "cell_type": "code",
   "execution_count": 59,
   "metadata": {},
   "outputs": [
    {
     "data": {
      "text/plain": [
       "'beneath logic infer final ration consider direct intuit kind knowledg surest deserv prefer knowledg one self human knowledg attempt go farther prove limit mani way therefor one must philosoph straight away question like origin etern world make first essay simpler renunci world righteou conduct soul lift gradual pure knowledg highest secular instruct grammar poetri histori religi educ doctrin philosoph studi begin mathemat branch everyth set forth neopythagorean indian fashion number even letter alphabet employ childish trifl particularli conveni brethren number letter arab alphabet multipli instead proceed accord practic real point view give rein fanci scienc accord grammat analog relat number arithmet investig number rather signific search made suitabl mode express number case phenomena thing explain accord system number theori number divin wisdom thing thing form pattern number absolut principl exist thought number one scienc number therefor found begin middl end philosophi geometri figur address eye serv mere make easili understood beginn arithmet alon'"
      ]
     },
     "execution_count": 59,
     "metadata": {},
     "output_type": "execute_result"
    }
   ],
   "source": [
    "df['clean_msg'].iloc[0]\n"
   ]
  },
  {
   "cell_type": "markdown",
   "metadata": {},
   "source": [
    "## Split the data into training and test sets\n"
   ]
  },
  {
   "cell_type": "code",
   "execution_count": 87,
   "metadata": {},
   "outputs": [
    {
     "name": "stdout",
     "output_type": "stream",
     "text": [
      "(1200,)\n",
      "(1200,)\n",
      "(960,)\n",
      "(240,)\n",
      "(960,)\n",
      "(240,)\n"
     ]
    }
   ],
   "source": [
    "# Split into X/y\n",
    "from sklearn.model_selection import train_test_split, cross_val_score\n",
    "\n",
    "x = df[\"documents\"]\n",
    "y = df[\"label\"]\n",
    "print(x.shape)\n",
    "print(y.shape)\n",
    "x_train, x_test, y_train, y_test = train_test_split(\n",
    "    x, y, test_size=0.2, random_state=0)\n",
    "\n",
    "print(x_train.shape)\n",
    "print(x_test.shape)\n",
    "print(y_train.shape)\n",
    "print(y_test.shape)"
   ]
  },
  {
   "cell_type": "markdown",
   "metadata": {},
   "source": [
    "## Convert text features to numeric\n"
   ]
  },
  {
   "cell_type": "code",
   "execution_count": 115,
   "metadata": {},
   "outputs": [
    {
     "name": "stdout",
     "output_type": "stream",
     "text": [
      "[[0. 0. 0. ... 0. 0. 0.]\n",
      " [0. 0. 0. ... 0. 0. 0.]\n",
      " [0. 0. 0. ... 0. 0. 0.]\n",
      " ...\n",
      " [0. 0. 0. ... 0. 0. 0.]\n",
      " [0. 0. 0. ... 0. 0. 0.]\n",
      " [0. 0. 0. ... 0. 0. 0.]]\n"
     ]
    }
   ],
   "source": [
    "from sklearn.feature_extraction.text import TfidfVectorizer\n",
    "# sublinear_df=True, use a logarithmic form for frequency\n",
    "\n",
    "# cv2 = TfidfVectorizer(ngram_range=(1, 2))  # 82.5%\n",
    "\n",
    "\n",
    "cv2 = TfidfVectorizer(sublinear_tf=True, min_df=10, norm='l2',\n",
    "                      ngram_range=(1, 2), stop_words='english')\n",
    "                      \n",
    "\n",
    "# min_df is the minimum numbers of documents a word must be present in to be kept\n",
    "# norm is set to l2, to ensure all our feature vectors have a euclidian norm of 1\n",
    "\n",
    "X_traincv = cv2.fit_transform(x_train)\n",
    "x_testcv = cv2.transform(x_test)\n",
    "print(X_traincv.toarray())\n"
   ]
  },
  {
   "cell_type": "markdown",
   "metadata": {},
   "source": [
    "## Train the model"
   ]
  },
  {
   "cell_type": "code",
   "execution_count": 116,
   "metadata": {},
   "outputs": [],
   "source": [
    "from sklearn.naive_bayes import MultinomialNB\n",
    "mnb= MultinomialNB()"
   ]
  },
  {
   "cell_type": "code",
   "execution_count": 117,
   "metadata": {},
   "outputs": [
    {
     "data": {
      "text/plain": [
       "MultinomialNB()"
      ]
     },
     "execution_count": 117,
     "metadata": {},
     "output_type": "execute_result"
    }
   ],
   "source": [
    "mnb.fit(X_traincv, y_train)"
   ]
  },
  {
   "cell_type": "code",
   "execution_count": 118,
   "metadata": {},
   "outputs": [
    {
     "data": {
      "text/plain": [
       "92.5"
      ]
     },
     "execution_count": 118,
     "metadata": {},
     "output_type": "execute_result"
    }
   ],
   "source": [
    "mnb.score(x_testcv, y_test)*100"
   ]
  },
  {
   "cell_type": "code",
   "execution_count": 96,
   "metadata": {},
   "outputs": [
    {
     "name": "stdout",
     "output_type": "stream",
     "text": [
      "Test Text:\n",
      "he has given it the attention which the subject demands as a part of the history of the country. It would be a difficult matter to get at the first American sailor, or to even guess when he existed, but that our continent was once well populated, and that its prehistoric inhabitants sailed the lakes and seas as well as trod the land, is a matter of certainty. Later, when America became known to Europeans, the new comers found Indians well provided with excellent canoes, built of bark or fashioned from logs, but they were \"near shore\" sailors. The author quotes one instance where a deep sea voyage was undertaken by them in the early days of the English settlers. Certain Carolina Indians, he says, wearied of the white man's sinful ways in trade, thought themselves able to deal direct with the consumers across the \"Big Sea Water.\" So they built several large canoes and loading these with furs and tobacco paddled straight out to sea bound for England. But their ignorance of navigation speedily got the best of their valor. They were never heard of more. The early white navigators of our waters can hardly be considered American sailors. The new found continent was to them of value only for what could be brought away from them in treasure or in merchantable produce, and it was only when an actual and permanent colonization began that a race of native-born sailors was developed on the Atlantic coasts. OLD CONCORD: HER HIGHWAYS AND BYWAYS. Ill. By Margaret Sidney. Boston: D. Lothrop Co. Price $3.00. Of all the books of the year there is not one which carries within it such an aroma of peculiar delight as this series of sketches and descriptions of the highways and byways of that most picturesque of towns, Old Concord. Concord is like no other place in New England. There may be other places as beautiful in their way; there are others, perhaps, of more importance in the Commonwealth, and we know there are hundreds of places where there is more active life to the square foot, but with all these admissions Concord still remains a place of special charm, the result and consequence of more causes than we care to analyze. Its picturesqueness and a certain quaintness of the village has always been noticed by visitors, no matter from\n"
     ]
    }
   ],
   "source": [
    "print(f\"Test Text:\")\n",
    "print(x_test.iloc[1])"
   ]
  },
  {
   "cell_type": "code",
   "execution_count": 98,
   "metadata": {},
   "outputs": [
    {
     "data": {
      "text/plain": [
       "3"
      ]
     },
     "execution_count": 98,
     "metadata": {},
     "output_type": "execute_result"
    }
   ],
   "source": [
    "actual_label = y_test.iloc[1]\n",
    "actual_label"
   ]
  },
  {
   "cell_type": "code",
   "execution_count": 99,
   "metadata": {},
   "outputs": [
    {
     "data": {
      "text/plain": [
       "array(['Robert C. (Chamblet) Adams'], dtype=object)"
      ]
     },
     "execution_count": 99,
     "metadata": {},
     "output_type": "execute_result"
    }
   ],
   "source": [
    "labelencoder.inverse_transform([actual_label])"
   ]
  },
  {
   "cell_type": "code",
   "execution_count": 102,
   "metadata": {},
   "outputs": [
    {
     "name": "stdout",
     "output_type": "stream",
     "text": [
      "Predicted Y : 3, author: ['Robert C. (Chamblet) Adams']\n"
     ]
    }
   ],
   "source": [
    "y_pred = mnb.predict(cv2.transform([x_test.iloc[1]]))\n",
    "print(f\"Predicted Y : {y_pred[0]}, author: {labelencoder.inverse_transform([y_pred[0]])}\")"
   ]
  },
  {
   "cell_type": "code",
   "execution_count": null,
   "metadata": {},
   "outputs": [],
   "source": [
    "# For pd.factorize()\n",
    "# print(f\"Actual Y: {y_test.iloc[0]}, author: {label[y_test.iloc[0]]}\")\n",
    "# y_pred = mnb.predict(cv2.transform([x_test.iloc[0]]))\n",
    "# print(f\"Predicted Y : {y_pred[0]}, author: {label[y_pred[0]]}\")\n"
   ]
  }
 ],
 "metadata": {
  "interpreter": {
   "hash": "8cdb09b0bc1c395d296938b19fe7764d972a7ceeffba4d3ad7ff6a3771581719"
  },
  "kernelspec": {
   "display_name": "Python 3.8.8 64-bit ('ProgramData': virtualenv)",
   "language": "python",
   "name": "python3"
  },
  "language_info": {
   "codemirror_mode": {
    "name": "ipython",
    "version": 3
   },
   "file_extension": ".py",
   "mimetype": "text/x-python",
   "name": "python",
   "nbconvert_exporter": "python",
   "pygments_lexer": "ipython3",
   "version": "3.8.8"
  },
  "orig_nbformat": 2
 },
 "nbformat": 4,
 "nbformat_minor": 2
}
