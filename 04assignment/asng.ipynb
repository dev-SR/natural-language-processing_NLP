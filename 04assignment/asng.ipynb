{
 "cells": [
  {
   "cell_type": "markdown",
   "metadata": {},
   "source": [
    "# Assignment-1"
   ]
  },
  {
   "cell_type": "markdown",
   "metadata": {},
   "source": [
    "<div align=\"center\">\n",
    "<img src=\"img/asgn.jpg\" alt=\"asgn.jpg\" width=\"1000px\">\n",
    "</div>"
   ]
  },
  {
   "cell_type": "code",
   "execution_count": null,
   "metadata": {},
   "outputs": [],
   "source": [
    "\"\"\"\n",
    "cd .\\04assignment\\\n",
    "jupyter nbconvert --to markdown asng.ipynb --output README.md\n",
    "\"\"\""
   ]
  },
  {
   "cell_type": "markdown",
   "metadata": {},
   "source": [
    "## Load Data"
   ]
  },
  {
   "cell_type": "markdown",
   "metadata": {},
   "source": [
    "### Processing file - test codes"
   ]
  },
  {
   "cell_type": "code",
   "execution_count": 27,
   "metadata": {},
   "outputs": [
    {
     "name": "stdout",
     "output_type": "stream",
     "text": [
      "Science and Medieval Thought\n",
      "Sir Thomas Clifford Allbutt\n"
     ]
    },
    {
     "data": {
      "text/plain": [
       "['Sir Thomas Clifford Allbutt',\n",
       " 'Sir Thomas Clifford Allbutt',\n",
       " 'Sir Thomas Clifford Allbutt',\n",
       " 'Sir Thomas Clifford Allbutt',\n",
       " 'Sir Thomas Clifford Allbutt']"
      ]
     },
     "execution_count": 27,
     "metadata": {},
     "output_type": "execute_result"
    }
   ],
   "source": [
    "with open('38943-0.txt', 'r') as target_file:\n",
    "\tfor num, line in enumerate(target_file.readlines()):\n",
    "\t\tif \"Title\" in line:\n",
    "\t\t\ttitle = line.split(\":\")[1].strip()\n",
    "\t\t\tprint(title)\n",
    "\t\tif \"Author\" in line:\n",
    "\t\t\tauthor_name = line.split(\":\")[1].strip()\n",
    "\t\t\tprint(author_name)\n",
    "author_list = [author_name]*5\n",
    "author_list"
   ]
  },
  {
   "cell_type": "code",
   "execution_count": 3,
   "metadata": {},
   "outputs": [],
   "source": [
    "out = open(\"64171-0_chapter.txt\", \"w\")\n",
    "with open('64171-0.txt', 'r') as f:\n",
    "\tdata = f.read()\n",
    "\tif \"CHAPTER I.\" in data:\n",
    "\t\tdata = data.replace(\"CHAPTER I.\", \"CHAPTERI.\")\n",
    "\t\tprint(data, file=out)\n",
    "out.close()\n"
   ]
  },
  {
   "cell_type": "code",
   "execution_count": 4,
   "metadata": {},
   "outputs": [],
   "source": [
    "list_of_blocks = []\n",
    "with open('64171-0_chapter.txt', 'r') as f:\n",
    "\tdata = f.read()\n",
    "\t# print(len(data.split()))\n",
    "\ttotal_word = len(data.split())\n",
    "\tdata = data.split()\n",
    "\t# indices = []\n",
    "\t# for i, w in enumerate(data):\n",
    "\t# \t# start reading from CHAPTER I.\n",
    "\t# \tif \"CHAPTERI\" in w:\n",
    "\t# \t\tindices.append(i)\n",
    "\t# last = indices[-1]\n",
    "\t# # print(last)\n",
    "\t# data = data[last+1:]\n",
    "\n",
    "\tn = 200\n",
    "\tfor i in range(n):\n",
    "\t\ts = round(total_word*i/n)\n",
    "\t\te = round(total_word*(1+i)/n)\n",
    "\t\t# print(s,e)\n",
    "\t\tchunks = data[s:e]\n",
    "\t\tchunks = \" \".join(chunks)\n",
    "\t\t# print(chunks)\n",
    "\t\t# print(100*\"=\")\n",
    "\t\tlist_of_blocks.append(chunks)\n",
    "\n",
    "# print(list_of_blocks)\n"
   ]
  },
  {
   "cell_type": "markdown",
   "metadata": {},
   "source": [
    "### Processing file - Final"
   ]
  },
  {
   "cell_type": "code",
   "execution_count": 54,
   "metadata": {},
   "outputs": [],
   "source": [
    "import os\n",
    "def getTextFileList():\n",
    "\tall_files = os.listdir()\n",
    "\ttxt_files = []\n",
    "\tfor file in all_files:\n",
    "\t\tif file.endswith(\".txt\"):\n",
    "\t\t\ttxt_files.append(file)\n",
    "\treturn txt_files"
   ]
  },
  {
   "cell_type": "code",
   "execution_count": 55,
   "metadata": {},
   "outputs": [],
   "source": [
    "from termcolor import cprint\n",
    "def processFiles(text_files,document_no=200):\n",
    "\tdf_obj_of_documents = {\n",
    "\t\t\"documents\":[],\n",
    "\t\t\"author\":[]\n",
    "\t}\n",
    "\tlist_of_documents = []\n",
    "\tlist_of_authors = []\n",
    "\tfor file in text_files:\n",
    "\t\tcprint(f\"Extracting from: {file}\", 'green')\n",
    "\t\t# get Title and Author name\n",
    "\t\tauthor_name=\"\"\n",
    "\t\twith open(file, 'r') as target_file:\n",
    "\t\t\tfor num, line in enumerate(target_file.readlines()):\n",
    "\t\t\t\tpass\n",
    "\t\t\t\tif \"Title:\" in line:\n",
    "\t\t\t\t\ttitle = line.split(\":\")[1].strip()\n",
    "\t\t\t\tif \"Author:\" in line:\n",
    "\t\t\t\t\tprint(line)\n",
    "\t\t\t\t\tauthor_name = line.split(\":\")[1].strip()\n",
    "\n",
    "\t\t# get documents from each file\n",
    "\t\twith open(file, 'r') as f:\n",
    "\t\t\tdata = f.read()\n",
    "\t\t\ttotal_word = len(data.split())\n",
    "\t\t\tdata = data.split()\n",
    "\t\t\t# indices = []\n",
    "\t\t\t# for i, w in enumerate(data):\n",
    "\t\t\t# \t# start reading from CHAPTER I.\n",
    "\t\t\t# \tif \"CHAPTERI\" in w:\n",
    "\t\t\t# \t\tindices.append(i)\n",
    "\t\t\t# last = indices[-1]\n",
    "\t\t\t# # print(last)\n",
    "\t\t\t# data = data[last+1:]\n",
    "\n",
    "\t\t\t# n = 200\n",
    "\t\t\tfor i in range(document_no):\n",
    "\t\t\t\tstart_from = round(total_word*i/document_no)\n",
    "\t\t\t\tend_at = round(total_word*(1+i)/document_no)\n",
    "\t\t\t\tdocument = data[start_from:end_at]\n",
    "\t\t\t\tdocument = \" \".join(document)\n",
    "\t\t\t\t# print(chunks)\n",
    "\t\t\t\t# print(100*\"=\")\n",
    "\t\t\t\tlist_of_documents.append(document)\n",
    "\t\t\t\t\n",
    "\t\tprint(\"Book Title: \",end=\"\")\n",
    "\t\tcprint(title, 'yellow')\t\t\n",
    "\t\tprint(\"Author: \",end=\"\")\n",
    "\t\tcprint(author_name, 'yellow')\n",
    "\t\t# generated_doc_size = len(list_of_documents)\n",
    "\t\tprint(\"Documents generated: \",end=\"\")\n",
    "\t\tcprint(document_no, 'yellow')\n",
    "\t\trepeating_author = [author_name]*document_no\n",
    "\t\t# print(repeating_author)\n",
    "\t\tlist_of_authors = list_of_authors + repeating_author\n",
    "\t\t# save to dataframe\n",
    "\tdf_obj_of_documents[\"author\"] = list_of_authors\n",
    "\tdf_obj_of_documents[\"documents\"] = list_of_documents\n",
    "\t# print(df_obj_of_documents)\n",
    "\tprint(len(list_of_authors))\n",
    "\tprint(len(list_of_documents))\n",
    "\treturn df_obj_of_documents\n"
   ]
  },
  {
   "cell_type": "code",
   "execution_count": 56,
   "metadata": {},
   "outputs": [
    {
     "name": "stdout",
     "output_type": "stream",
     "text": [
      "\u001b[32mExtracting from: 38943-0.txt\u001b[0m\n",
      "Author: Sir Thomas Clifford Allbutt\n",
      "\n",
      "Book Title: \u001b[33mScience and Medieval Thought\u001b[0m\n",
      "Author: \u001b[33mSir Thomas Clifford Allbutt\u001b[0m\n",
      "Documents generated: \u001b[33m200\u001b[0m\n",
      "\u001b[32mExtracting from: 64171-0.txt\u001b[0m\n",
      "Author: Robert C. (Chamblet) Adams\n",
      "\n",
      "Book Title: \u001b[33mOn Board the \"Rocket\"\u001b[0m\n",
      "Author: \u001b[33mRobert C. (Chamblet) Adams\u001b[0m\n",
      "Documents generated: \u001b[33m200\u001b[0m\n",
      "\u001b[32mExtracting from: 65708-0.txt\u001b[0m\n",
      "Author: Averroes\n",
      "\n",
      "Book Title: \u001b[33mThe Philosophy and Theology of Averroes\u001b[0m\n",
      "Author: \u001b[33mAverroes\u001b[0m\n",
      "Documents generated: \u001b[33m200\u001b[0m\n",
      "\u001b[32mExtracting from: pg24055.txt\u001b[0m\n",
      "Author: Confucius\n",
      "\n",
      "Book Title: \u001b[33mThe Sayings Of Confucius\u001b[0m\n",
      "Author: \u001b[33mConfucius\u001b[0m\n",
      "Documents generated: \u001b[33m200\u001b[0m\n",
      "\u001b[32mExtracting from: pg2412.txt\u001b[0m\n",
      "Author: Aristotle\n",
      "\n",
      "Book Title: \u001b[33mThe Categories\u001b[0m\n",
      "Author: \u001b[33mAristotle\u001b[0m\n",
      "Documents generated: \u001b[33m200\u001b[0m\n",
      "\u001b[32mExtracting from: pg34283.txt\u001b[0m\n",
      "Author: Alfred William Benn\n",
      "\n",
      "Book Title: \u001b[33mHistory of Modern Philosophy\u001b[0m\n",
      "Author: \u001b[33mAlfred William Benn\u001b[0m\n",
      "Documents generated: \u001b[33m200\u001b[0m\n",
      "\u001b[32mExtracting from: pg66566.txt\u001b[0m\n",
      "Author: T.J. de Boer\n",
      "\n",
      "Book Title: \u001b[33mThe History of Philosophy in Islam\u001b[0m\n",
      "Author: \u001b[33mT.J. de Boer\u001b[0m\n",
      "Documents generated: \u001b[33m200\u001b[0m\n",
      "1400\n",
      "1400\n"
     ]
    }
   ],
   "source": [
    "df_obj_of_documents = processFiles(getTextFileList(),document_no=200)"
   ]
  },
  {
   "cell_type": "code",
   "execution_count": 57,
   "metadata": {},
   "outputs": [
    {
     "data": {
      "text/html": [
       "<div>\n",
       "<style scoped>\n",
       "    .dataframe tbody tr th:only-of-type {\n",
       "        vertical-align: middle;\n",
       "    }\n",
       "\n",
       "    .dataframe tbody tr th {\n",
       "        vertical-align: top;\n",
       "    }\n",
       "\n",
       "    .dataframe thead th {\n",
       "        text-align: right;\n",
       "    }\n",
       "</style>\n",
       "<table border=\"1\" class=\"dataframe\">\n",
       "  <thead>\n",
       "    <tr style=\"text-align: right;\">\n",
       "      <th></th>\n",
       "      <th>documents</th>\n",
       "      <th>author</th>\n",
       "    </tr>\n",
       "  </thead>\n",
       "  <tbody>\n",
       "    <tr>\n",
       "      <th>0</th>\n",
       "      <td>﻿The Project Gutenberg eBook, Science and Medi...</td>\n",
       "      <td>Sir Thomas Clifford Allbutt</td>\n",
       "    </tr>\n",
       "    <tr>\n",
       "      <th>1</th>\n",
       "      <td>SCIENCE AND MEDIEVAL THOUGHT. * * * * * London...</td>\n",
       "      <td>Sir Thomas Clifford Allbutt</td>\n",
       "    </tr>\n",
       "    <tr>\n",
       "      <th>2</th>\n",
       "      <td>et facit nos concludere quæstionem, sed non ce...</td>\n",
       "      <td>Sir Thomas Clifford Allbutt</td>\n",
       "    </tr>\n",
       "    <tr>\n",
       "      <th>3</th>\n",
       "      <td>a phantom, and again the spirit of a new world...</td>\n",
       "      <td>Sir Thomas Clifford Allbutt</td>\n",
       "    </tr>\n",
       "    <tr>\n",
       "      <th>4</th>\n",
       "      <td>first applied to the art and romance of the Mi...</td>\n",
       "      <td>Sir Thomas Clifford Allbutt</td>\n",
       "    </tr>\n",
       "  </tbody>\n",
       "</table>\n",
       "</div>"
      ],
      "text/plain": [
       "                                           documents  \\\n",
       "0  ﻿The Project Gutenberg eBook, Science and Medi...   \n",
       "1  SCIENCE AND MEDIEVAL THOUGHT. * * * * * London...   \n",
       "2  et facit nos concludere quæstionem, sed non ce...   \n",
       "3  a phantom, and again the spirit of a new world...   \n",
       "4  first applied to the art and romance of the Mi...   \n",
       "\n",
       "                        author  \n",
       "0  Sir Thomas Clifford Allbutt  \n",
       "1  Sir Thomas Clifford Allbutt  \n",
       "2  Sir Thomas Clifford Allbutt  \n",
       "3  Sir Thomas Clifford Allbutt  \n",
       "4  Sir Thomas Clifford Allbutt  "
      ]
     },
     "execution_count": 57,
     "metadata": {},
     "output_type": "execute_result"
    }
   ],
   "source": [
    "import pandas as pd\n",
    "# df = pd.DataFrame({\n",
    "# \t'data': list_of_blocks,\n",
    "# \t\"author\": author_list\n",
    "# })\n",
    "df = pd.DataFrame(df_obj_of_documents)\n",
    "df.head()"
   ]
  },
  {
   "cell_type": "code",
   "execution_count": 59,
   "metadata": {},
   "outputs": [
    {
     "data": {
      "text/html": [
       "<div>\n",
       "<style scoped>\n",
       "    .dataframe tbody tr th:only-of-type {\n",
       "        vertical-align: middle;\n",
       "    }\n",
       "\n",
       "    .dataframe tbody tr th {\n",
       "        vertical-align: top;\n",
       "    }\n",
       "\n",
       "    .dataframe thead th {\n",
       "        text-align: right;\n",
       "    }\n",
       "</style>\n",
       "<table border=\"1\" class=\"dataframe\">\n",
       "  <thead>\n",
       "    <tr style=\"text-align: right;\">\n",
       "      <th></th>\n",
       "      <th>documents</th>\n",
       "      <th>author</th>\n",
       "      <th>words_count</th>\n",
       "    </tr>\n",
       "  </thead>\n",
       "  <tbody>\n",
       "    <tr>\n",
       "      <th>0</th>\n",
       "      <td>﻿The Project Gutenberg eBook, Science and Medi...</td>\n",
       "      <td>Sir Thomas Clifford Allbutt</td>\n",
       "      <td>142</td>\n",
       "    </tr>\n",
       "    <tr>\n",
       "      <th>1</th>\n",
       "      <td>SCIENCE AND MEDIEVAL THOUGHT. * * * * * London...</td>\n",
       "      <td>Sir Thomas Clifford Allbutt</td>\n",
       "      <td>143</td>\n",
       "    </tr>\n",
       "    <tr>\n",
       "      <th>2</th>\n",
       "      <td>et facit nos concludere quæstionem, sed non ce...</td>\n",
       "      <td>Sir Thomas Clifford Allbutt</td>\n",
       "      <td>142</td>\n",
       "    </tr>\n",
       "    <tr>\n",
       "      <th>3</th>\n",
       "      <td>a phantom, and again the spirit of a new world...</td>\n",
       "      <td>Sir Thomas Clifford Allbutt</td>\n",
       "      <td>142</td>\n",
       "    </tr>\n",
       "    <tr>\n",
       "      <th>4</th>\n",
       "      <td>first applied to the art and romance of the Mi...</td>\n",
       "      <td>Sir Thomas Clifford Allbutt</td>\n",
       "      <td>143</td>\n",
       "    </tr>\n",
       "  </tbody>\n",
       "</table>\n",
       "</div>"
      ],
      "text/plain": [
       "                                           documents  \\\n",
       "0  ﻿The Project Gutenberg eBook, Science and Medi...   \n",
       "1  SCIENCE AND MEDIEVAL THOUGHT. * * * * * London...   \n",
       "2  et facit nos concludere quæstionem, sed non ce...   \n",
       "3  a phantom, and again the spirit of a new world...   \n",
       "4  first applied to the art and romance of the Mi...   \n",
       "\n",
       "                        author  words_count  \n",
       "0  Sir Thomas Clifford Allbutt          142  \n",
       "1  Sir Thomas Clifford Allbutt          143  \n",
       "2  Sir Thomas Clifford Allbutt          142  \n",
       "3  Sir Thomas Clifford Allbutt          142  \n",
       "4  Sir Thomas Clifford Allbutt          143  "
      ]
     },
     "execution_count": 59,
     "metadata": {},
     "output_type": "execute_result"
    }
   ],
   "source": [
    "df['words_count'] = df['documents'].apply(lambda x: len(x.split()))\n",
    "df.head()"
   ]
  },
  {
   "cell_type": "code",
   "execution_count": 6,
   "metadata": {},
   "outputs": [
    {
     "data": {
      "text/plain": [
       "87"
      ]
     },
     "execution_count": 6,
     "metadata": {},
     "output_type": "execute_result"
    }
   ],
   "source": [
    "df['words_count'].min()"
   ]
  },
  {
   "cell_type": "code",
   "execution_count": null,
   "metadata": {},
   "outputs": [],
   "source": [
    "# df[df[\"author\"]==\"Aristotle\"]"
   ]
  },
  {
   "cell_type": "code",
   "execution_count": 7,
   "metadata": {},
   "outputs": [],
   "source": [
    "df = df.drop(df[df['words_count'] < 100].index)\n",
    "# drop documents with less than 100 words"
   ]
  },
  {
   "cell_type": "code",
   "execution_count": 8,
   "metadata": {},
   "outputs": [
    {
     "data": {
      "text/plain": [
       "142"
      ]
     },
     "execution_count": 8,
     "metadata": {},
     "output_type": "execute_result"
    }
   ],
   "source": [
    "df['words_count'].min()"
   ]
  },
  {
   "cell_type": "markdown",
   "metadata": {},
   "source": [
    "### Label Encoding"
   ]
  },
  {
   "cell_type": "code",
   "execution_count": 9,
   "metadata": {},
   "outputs": [],
   "source": [
    "from sklearn.preprocessing import LabelEncoder\n",
    "labelencoder = LabelEncoder()\n"
   ]
  },
  {
   "cell_type": "code",
   "execution_count": 10,
   "metadata": {},
   "outputs": [
    {
     "data": {
      "text/html": [
       "<div>\n",
       "<style scoped>\n",
       "    .dataframe tbody tr th:only-of-type {\n",
       "        vertical-align: middle;\n",
       "    }\n",
       "\n",
       "    .dataframe tbody tr th {\n",
       "        vertical-align: top;\n",
       "    }\n",
       "\n",
       "    .dataframe thead th {\n",
       "        text-align: right;\n",
       "    }\n",
       "</style>\n",
       "<table border=\"1\" class=\"dataframe\">\n",
       "  <thead>\n",
       "    <tr style=\"text-align: right;\">\n",
       "      <th></th>\n",
       "      <th>documents</th>\n",
       "      <th>author</th>\n",
       "      <th>words_count</th>\n",
       "      <th>label</th>\n",
       "    </tr>\n",
       "  </thead>\n",
       "  <tbody>\n",
       "    <tr>\n",
       "      <th>0</th>\n",
       "      <td>﻿The Project Gutenberg eBook, Science and Medi...</td>\n",
       "      <td>Sir Thomas Clifford Allbutt</td>\n",
       "      <td>142</td>\n",
       "      <td>4</td>\n",
       "    </tr>\n",
       "    <tr>\n",
       "      <th>1</th>\n",
       "      <td>SCIENCE AND MEDIEVAL THOUGHT. * * * * * London...</td>\n",
       "      <td>Sir Thomas Clifford Allbutt</td>\n",
       "      <td>143</td>\n",
       "      <td>4</td>\n",
       "    </tr>\n",
       "    <tr>\n",
       "      <th>2</th>\n",
       "      <td>et facit nos concludere quæstionem, sed non ce...</td>\n",
       "      <td>Sir Thomas Clifford Allbutt</td>\n",
       "      <td>142</td>\n",
       "      <td>4</td>\n",
       "    </tr>\n",
       "    <tr>\n",
       "      <th>3</th>\n",
       "      <td>a phantom, and again the spirit of a new world...</td>\n",
       "      <td>Sir Thomas Clifford Allbutt</td>\n",
       "      <td>142</td>\n",
       "      <td>4</td>\n",
       "    </tr>\n",
       "    <tr>\n",
       "      <th>4</th>\n",
       "      <td>first applied to the art and romance of the Mi...</td>\n",
       "      <td>Sir Thomas Clifford Allbutt</td>\n",
       "      <td>143</td>\n",
       "      <td>4</td>\n",
       "    </tr>\n",
       "  </tbody>\n",
       "</table>\n",
       "</div>"
      ],
      "text/plain": [
       "                                           documents  \\\n",
       "0  ﻿The Project Gutenberg eBook, Science and Medi...   \n",
       "1  SCIENCE AND MEDIEVAL THOUGHT. * * * * * London...   \n",
       "2  et facit nos concludere quæstionem, sed non ce...   \n",
       "3  a phantom, and again the spirit of a new world...   \n",
       "4  first applied to the art and romance of the Mi...   \n",
       "\n",
       "                        author  words_count  label  \n",
       "0  Sir Thomas Clifford Allbutt          142      4  \n",
       "1  Sir Thomas Clifford Allbutt          143      4  \n",
       "2  Sir Thomas Clifford Allbutt          142      4  \n",
       "3  Sir Thomas Clifford Allbutt          142      4  \n",
       "4  Sir Thomas Clifford Allbutt          143      4  "
      ]
     },
     "execution_count": 10,
     "metadata": {},
     "output_type": "execute_result"
    }
   ],
   "source": [
    "df['label'] = labelencoder.fit_transform( df['author'])\n",
    "df.head()"
   ]
  },
  {
   "cell_type": "code",
   "execution_count": 11,
   "metadata": {},
   "outputs": [
    {
     "data": {
      "text/html": [
       "<div>\n",
       "<style scoped>\n",
       "    .dataframe tbody tr th:only-of-type {\n",
       "        vertical-align: middle;\n",
       "    }\n",
       "\n",
       "    .dataframe tbody tr th {\n",
       "        vertical-align: top;\n",
       "    }\n",
       "\n",
       "    .dataframe thead th {\n",
       "        text-align: right;\n",
       "    }\n",
       "</style>\n",
       "<table border=\"1\" class=\"dataframe\">\n",
       "  <thead>\n",
       "    <tr style=\"text-align: right;\">\n",
       "      <th></th>\n",
       "      <th>documents</th>\n",
       "      <th>author</th>\n",
       "      <th>words_count</th>\n",
       "      <th>label</th>\n",
       "    </tr>\n",
       "  </thead>\n",
       "  <tbody>\n",
       "    <tr>\n",
       "      <th>0</th>\n",
       "      <td>in a general way. The shipping-master was in c...</td>\n",
       "      <td>Robert C. (Chamblet) Adams</td>\n",
       "      <td>394</td>\n",
       "      <td>3</td>\n",
       "    </tr>\n",
       "    <tr>\n",
       "      <th>1</th>\n",
       "      <td>explain it to them in detail is innovation, fo...</td>\n",
       "      <td>Averroes</td>\n",
       "      <td>277</td>\n",
       "      <td>1</td>\n",
       "    </tr>\n",
       "    <tr>\n",
       "      <th>2</th>\n",
       "      <td>in Bruno himself the leaning is distinctly tow...</td>\n",
       "      <td>Alfred William Benn</td>\n",
       "      <td>220</td>\n",
       "      <td>0</td>\n",
       "    </tr>\n",
       "    <tr>\n",
       "      <th>3</th>\n",
       "      <td>highest good. But Leibniz did not go so far as...</td>\n",
       "      <td>Alfred William Benn</td>\n",
       "      <td>220</td>\n",
       "      <td>0</td>\n",
       "    </tr>\n",
       "    <tr>\n",
       "      <th>4</th>\n",
       "      <td>enough. If for three years gentlemen forsake c...</td>\n",
       "      <td>Confucius</td>\n",
       "      <td>173</td>\n",
       "      <td>2</td>\n",
       "    </tr>\n",
       "  </tbody>\n",
       "</table>\n",
       "</div>"
      ],
      "text/plain": [
       "                                           documents  \\\n",
       "0  in a general way. The shipping-master was in c...   \n",
       "1  explain it to them in detail is innovation, fo...   \n",
       "2  in Bruno himself the leaning is distinctly tow...   \n",
       "3  highest good. But Leibniz did not go so far as...   \n",
       "4  enough. If for three years gentlemen forsake c...   \n",
       "\n",
       "                       author  words_count  label  \n",
       "0  Robert C. (Chamblet) Adams          394      3  \n",
       "1                    Averroes          277      1  \n",
       "2         Alfred William Benn          220      0  \n",
       "3         Alfred William Benn          220      0  \n",
       "4                   Confucius          173      2  "
      ]
     },
     "execution_count": 11,
     "metadata": {},
     "output_type": "execute_result"
    }
   ],
   "source": [
    "# shuffle data\n",
    "df = df.sample(frac=1).reset_index(drop=True)\n",
    "df.head()\n"
   ]
  },
  {
   "cell_type": "markdown",
   "metadata": {},
   "source": [
    "## Data Pre-Process"
   ]
  },
  {
   "cell_type": "code",
   "execution_count": 12,
   "metadata": {},
   "outputs": [],
   "source": [
    "import nltk\n",
    "from nltk.stem.porter import PorterStemmer\n",
    "from nltk.tokenize import word_tokenize\n",
    "from nltk.corpus import stopwords\n",
    "from nltk.corpus import wordnet\n",
    "import re\n",
    "from nltk.stem import WordNetLemmatizer\n",
    "from nltk import pos_tag\n",
    "lemmatizer = WordNetLemmatizer()\n",
    "ps = PorterStemmer()\n"
   ]
  },
  {
   "cell_type": "code",
   "execution_count": 13,
   "metadata": {},
   "outputs": [],
   "source": [
    "REPLACE_BY_SPACE_RE = re.compile('[/(){}\\[\\]\\|@,;]')\n",
    "BAD_SYMBOLS_RE = re.compile('[^0-9a-z #+_]')\n",
    "REMOVE_NUM = re.compile('[\\d+]')\n",
    "EMAIL_RE = re.compile('\\b[\\w\\-.]+?@\\w+?\\.\\w{2,4}\\b')\n",
    "PHONE_RE=re.compile('\\b(\\+\\d{1,2}\\s?\\d?[\\-(.]?\\d{3}\\)?[\\s.-]?\\d{3}[\\s.-]?\\d{4})\\b')\n",
    "NUMBER_RE=re.compile('\\d+(\\.\\d+)?')\n",
    "URLS_RE = re.compile('(http[s]?\\S+)|(\\w+\\.[A-Za-z]{2,4}\\S*)')\n",
    "PUNCTUATION_RE = re.compile('[^\\w\\s]')\n",
    "EXTRA_SPACE_RE = re.compile('\\s+')\n",
    "STOPWORDS = set(stopwords.words('english'))\n",
    "\n",
    "def get_simple_pos(tag):\n",
    "\n",
    "\tif tag.startswith(\"J\"):\n",
    "\t\treturn wordnet.ADJ\n",
    "\telif tag.startswith(\"V\"):\n",
    "\t\treturn wordnet.VERB\n",
    "\telif tag.startswith(\"N\"):\n",
    "\t\treturn wordnet.NOUN\n",
    "\telif tag.startswith(\"R\"):\n",
    "\t\treturn wordnet.ADV\n",
    "\telse:\n",
    "\t\treturn wordnet.NOUN\n",
    "\n",
    "def cleanText(msg):\n",
    "\tmsg = REPLACE_BY_SPACE_RE.sub(' ',msg)\n",
    "\tmsg = BAD_SYMBOLS_RE.sub('',msg)\n",
    "\tmsg = EMAIL_RE.sub('',msg)\n",
    "\tmsg = URLS_RE.sub('',msg)\n",
    "\tmsg = PHONE_RE.sub('',msg)\n",
    "\tmsg = NUMBER_RE.sub('',msg)\n",
    "\tmsg = PUNCTUATION_RE.sub('',msg)\n",
    "\tmsg = EXTRA_SPACE_RE.sub(' ',msg)\n",
    "\n",
    "\t# Lower case\n",
    "\tmsg = msg.lower()\n",
    "\n",
    "\t# Tokenize\n",
    "\twords = word_tokenize(msg)\n",
    "\n",
    "\t# Remove Stop Words\n",
    "\twords = [w for w in words if not w in STOPWORDS]\n",
    "\n",
    "\t# Stemming\n",
    "\tstemmed_words = [ps.stem(w) for w in words]\n",
    "\t\n",
    "\t# Lemmatization\n",
    "\t# lemmatized_words = [lemmatizer.lemmatize(w, get_simple_pos(pos_tag([w])[0][1])) for w in words]\n",
    "\t# for w in words:\n",
    "\t# \tpostag = pos_tag([w])\n",
    "\t# \tpos = get_simple_pos(postag[0][1])\n",
    "\t# \tclean_word = lemmatizer.lemmatize(w, pos=pos)\n",
    "\t# \tlemmatized_words.append(clean_word)\n",
    "\n",
    "\t# Join the words back into one string separated by space,\n",
    "\tstemmed_sen = ' '.join(stemmed_words)\n",
    "\n",
    "\treturn stemmed_sen\n"
   ]
  },
  {
   "cell_type": "code",
   "execution_count": 14,
   "metadata": {},
   "outputs": [
    {
     "data": {
      "text/html": [
       "<div>\n",
       "<style scoped>\n",
       "    .dataframe tbody tr th:only-of-type {\n",
       "        vertical-align: middle;\n",
       "    }\n",
       "\n",
       "    .dataframe tbody tr th {\n",
       "        vertical-align: top;\n",
       "    }\n",
       "\n",
       "    .dataframe thead th {\n",
       "        text-align: right;\n",
       "    }\n",
       "</style>\n",
       "<table border=\"1\" class=\"dataframe\">\n",
       "  <thead>\n",
       "    <tr style=\"text-align: right;\">\n",
       "      <th></th>\n",
       "      <th>documents</th>\n",
       "      <th>author</th>\n",
       "      <th>words_count</th>\n",
       "      <th>label</th>\n",
       "      <th>clean_msg</th>\n",
       "    </tr>\n",
       "  </thead>\n",
       "  <tbody>\n",
       "    <tr>\n",
       "      <th>0</th>\n",
       "      <td>in a general way. The shipping-master was in c...</td>\n",
       "      <td>Robert C. (Chamblet) Adams</td>\n",
       "      <td>394</td>\n",
       "      <td>3</td>\n",
       "      <td>gener way shippingmast close allianc polic pla...</td>\n",
       "    </tr>\n",
       "    <tr>\n",
       "      <th>1</th>\n",
       "      <td>explain it to them in detail is innovation, fo...</td>\n",
       "      <td>Averroes</td>\n",
       "      <td>277</td>\n",
       "      <td>1</td>\n",
       "      <td>explain detail innov would like mislead guid r...</td>\n",
       "    </tr>\n",
       "    <tr>\n",
       "      <th>2</th>\n",
       "      <td>in Bruno himself the leaning is distinctly tow...</td>\n",
       "      <td>Alfred William Benn</td>\n",
       "      <td>220</td>\n",
       "      <td>0</td>\n",
       "      <td>runo lean distinctli toward plural uprem onad ...</td>\n",
       "    </tr>\n",
       "    <tr>\n",
       "      <th>3</th>\n",
       "      <td>highest good. But Leibniz did not go so far as...</td>\n",
       "      <td>Alfred William Benn</td>\n",
       "      <td>220</td>\n",
       "      <td>0</td>\n",
       "      <td>highest good ut eibniz go far lato ediat two m...</td>\n",
       "    </tr>\n",
       "    <tr>\n",
       "      <th>4</th>\n",
       "      <td>enough. If for three years gentlemen forsake c...</td>\n",
       "      <td>Confucius</td>\n",
       "      <td>173</td>\n",
       "      <td>2</td>\n",
       "      <td>enough f three year gentlemen forsak courtesi ...</td>\n",
       "    </tr>\n",
       "  </tbody>\n",
       "</table>\n",
       "</div>"
      ],
      "text/plain": [
       "                                           documents  \\\n",
       "0  in a general way. The shipping-master was in c...   \n",
       "1  explain it to them in detail is innovation, fo...   \n",
       "2  in Bruno himself the leaning is distinctly tow...   \n",
       "3  highest good. But Leibniz did not go so far as...   \n",
       "4  enough. If for three years gentlemen forsake c...   \n",
       "\n",
       "                       author  words_count  label  \\\n",
       "0  Robert C. (Chamblet) Adams          394      3   \n",
       "1                    Averroes          277      1   \n",
       "2         Alfred William Benn          220      0   \n",
       "3         Alfred William Benn          220      0   \n",
       "4                   Confucius          173      2   \n",
       "\n",
       "                                           clean_msg  \n",
       "0  gener way shippingmast close allianc polic pla...  \n",
       "1  explain detail innov would like mislead guid r...  \n",
       "2  runo lean distinctli toward plural uprem onad ...  \n",
       "3  highest good ut eibniz go far lato ediat two m...  \n",
       "4  enough f three year gentlemen forsak courtesi ...  "
      ]
     },
     "execution_count": 14,
     "metadata": {},
     "output_type": "execute_result"
    }
   ],
   "source": [
    "df['clean_msg'] = df.documents.apply(cleanText)\n",
    "df.head()"
   ]
  },
  {
   "cell_type": "code",
   "execution_count": 15,
   "metadata": {},
   "outputs": [
    {
     "data": {
      "text/plain": [
       "'in a general way. The shipping-master was in close alliance with the police of the place, and the arrest of the deserters from the S---- was soon reported to him. He thereupon informed the captain that the men must be received on board again, but by mutual agreement a certain sum was paid to the shipping master for each man, and they were reported to the Consul as deserters. The remainder of the crew were soon got rid of, and the rest of the ships followed suit, paying $10 to $15 per man to the shipping-master. My own crew were much attached to their ship and were unwilling to leave. I would not allow them to be oppressed in order to drive them away, and the owners were forced to submit to the expense of maintaining a large crew, besides the loss occasioned by the idleness of the ship. After some time, half of the crew, knowing that they were not wanted, and were only a burden, consented to leave; but the Consul, in reply to the application, held up the three months\\' pay law, and my choice was to keep the men or pay sixty dollars each besides the wages due. In this dilemma the shipping master offered to allow the men to \"desert,\" upon my paying him fourteen dollars apiece, which was to be called \"two weeks\\' board.\" I felt compelled in justice to my owners\\' interest to adopt this plan, and connive at the rascality by which an unjust law was evaded by those entrusted with its enforcement. The matter was arranged so as to do no violence to my conscience in the matter of oath and declaration of desertion. This shipping master, after a short term of service was able to buy a half interest in a large ship, and probably approves of the three-months\\' pay law. The previous Consul is said to have taken away eighty thousand dollars after a few years\\' residence. The owners of the ship I commanded are a firm on whom Dr. Jewell, in the above-mentioned work, has cast severe aspersions, and it is due to them to say that at the close of the voyage, while admitting that a less humane captain would have made a more economical voyage, they thoroughly approved of my principles, and said they did not mind losing a thousand'"
      ]
     },
     "execution_count": 15,
     "metadata": {},
     "output_type": "execute_result"
    }
   ],
   "source": [
    "df['documents'].iloc[0]\n"
   ]
  },
  {
   "cell_type": "code",
   "execution_count": 16,
   "metadata": {},
   "outputs": [
    {
     "data": {
      "text/plain": [
       "'gener way shippingmast close allianc polic place arrest desert soon report e thereupon inform captain men must receiv board mutual agreement certain sum paid ship master man report onsul desert remaind crew soon got rid rest ship follow suit pay per man shippingmast crew much attach ship unwil leav would allow oppress order drive away owner forc submit expens maintain larg crew besid loss occas idl ship fter time half crew know want burden consent leav onsul repli applic held three month pay law choic keep men pay sixti dollar besid wage due n dilemma ship master offer allow men desert upon pay fourteen dollar apiec call two week board felt compel justic owner interest adopt plan conniv rascal unjust law evad entrust enforc matter arrang violenc conscienc matter oath declar desert ship master short term servic abl buy half interest larg ship probabl approv threemonth pay law previou onsul said taken away eighti thousand dollar year resid owner ship command firm r ewel abovement work cast sever aspers due say close voyag admit less human captain would made econom voyag thoroughli approv principl said mind lose thousand'"
      ]
     },
     "execution_count": 16,
     "metadata": {},
     "output_type": "execute_result"
    }
   ],
   "source": [
    "df['clean_msg'].iloc[0]\n"
   ]
  },
  {
   "cell_type": "markdown",
   "metadata": {},
   "source": [
    "## Split the data into training and test sets\n"
   ]
  },
  {
   "cell_type": "code",
   "execution_count": 17,
   "metadata": {},
   "outputs": [
    {
     "name": "stdout",
     "output_type": "stream",
     "text": [
      "(1200,)\n",
      "(1200,)\n",
      "(960,)\n",
      "(240,)\n",
      "(960,)\n",
      "(240,)\n"
     ]
    }
   ],
   "source": [
    "# Split into X/y\n",
    "from sklearn.model_selection import train_test_split, cross_val_score\n",
    "\n",
    "x = df[\"documents\"]\n",
    "y = df[\"label\"]\n",
    "print(x.shape)\n",
    "print(y.shape)\n",
    "x_train, x_test, y_train, y_test = train_test_split(\n",
    "    x, y, test_size=0.2, random_state=0)\n",
    "\n",
    "print(x_train.shape)\n",
    "print(x_test.shape)\n",
    "print(y_train.shape)\n",
    "print(y_test.shape)"
   ]
  },
  {
   "cell_type": "markdown",
   "metadata": {},
   "source": [
    "## Vectorization: Convert text features to numeric\n"
   ]
  },
  {
   "cell_type": "code",
   "execution_count": 18,
   "metadata": {},
   "outputs": [
    {
     "name": "stdout",
     "output_type": "stream",
     "text": [
      "[[0.         0.         0.         ... 0.         0.         0.        ]\n",
      " [0.         0.         0.         ... 0.         0.         0.        ]\n",
      " [0.         0.         0.         ... 0.         0.         0.        ]\n",
      " ...\n",
      " [0.         0.         0.         ... 0.         0.         0.        ]\n",
      " [0.         0.         0.         ... 0.10781064 0.         0.        ]\n",
      " [0.         0.         0.         ... 0.         0.         0.        ]]\n"
     ]
    }
   ],
   "source": [
    "from sklearn.feature_extraction.text import TfidfVectorizer\n",
    "# sublinear_df=True, use a logarithmic form for frequency\n",
    "\n",
    "# cv2 = TfidfVectorizer(ngram_range=(1, 2)) \n",
    "\n",
    "cv2 = TfidfVectorizer(sublinear_tf=True, min_df=10, norm='l2',\n",
    "                      ngram_range=(1, 2), stop_words='english')\n",
    "\n",
    "# min_df is the minimum numbers of documents a word must be present in to be kept\n",
    "# norm is set to l2, to ensure all our feature vectors have a euclidian norm of 1\n",
    "\n",
    "X_traincv = cv2.fit_transform(x_train)\n",
    "x_testcv = cv2.transform(x_test)\n",
    "print(X_traincv.toarray())\n"
   ]
  },
  {
   "cell_type": "markdown",
   "metadata": {},
   "source": [
    "## Train the model"
   ]
  },
  {
   "cell_type": "code",
   "execution_count": 19,
   "metadata": {},
   "outputs": [],
   "source": [
    "from sklearn.naive_bayes import MultinomialNB\n",
    "mnb= MultinomialNB()"
   ]
  },
  {
   "cell_type": "code",
   "execution_count": 20,
   "metadata": {},
   "outputs": [
    {
     "data": {
      "text/plain": [
       "MultinomialNB()"
      ]
     },
     "execution_count": 20,
     "metadata": {},
     "output_type": "execute_result"
    }
   ],
   "source": [
    "mnb.fit(X_traincv, y_train)"
   ]
  },
  {
   "cell_type": "code",
   "execution_count": 21,
   "metadata": {},
   "outputs": [
    {
     "data": {
      "text/plain": [
       "92.08333333333333"
      ]
     },
     "execution_count": 21,
     "metadata": {},
     "output_type": "execute_result"
    }
   ],
   "source": [
    "mnb.score(x_testcv, y_test)*100"
   ]
  },
  {
   "cell_type": "code",
   "execution_count": 22,
   "metadata": {},
   "outputs": [
    {
     "name": "stdout",
     "output_type": "stream",
     "text": [
      "Test Text:\n",
      "pushed universals back to immanence in the Divine mind. For Plato the ideas are thoughts of universal mind; for Aristotle God, or Nature by its thoughts or plans determines the lines of phenomena: thus Plato and Aristotle were more alike than Thomas knew, or Hauréau admits. There was no such thing of course as The Scholastic Philosophy, of which I read again but the other day in a modern work. Scholasticism is the very various teaching of the schools of the XI-XVth centuries; though its general tendency was to search rather into the origin and nature than into the functions of being. The philosophy of the thirteenth century on the whole was eclectic;—though perhaps eclectic by confusion rather than by reconciliation. The rule of authority prevented an appreciation of the relative values of opinions; the recognised authorities were equally true, and had\n"
     ]
    }
   ],
   "source": [
    "print(f\"Test Text:\")\n",
    "print(x_test.iloc[1])"
   ]
  },
  {
   "cell_type": "code",
   "execution_count": 23,
   "metadata": {},
   "outputs": [
    {
     "data": {
      "text/plain": [
       "4"
      ]
     },
     "execution_count": 23,
     "metadata": {},
     "output_type": "execute_result"
    }
   ],
   "source": [
    "actual_label = y_test.iloc[1]\n",
    "actual_label"
   ]
  },
  {
   "cell_type": "code",
   "execution_count": 24,
   "metadata": {},
   "outputs": [
    {
     "data": {
      "text/plain": [
       "array(['Sir Thomas Clifford Allbutt'], dtype=object)"
      ]
     },
     "execution_count": 24,
     "metadata": {},
     "output_type": "execute_result"
    }
   ],
   "source": [
    "labelencoder.inverse_transform([actual_label])"
   ]
  },
  {
   "cell_type": "code",
   "execution_count": 25,
   "metadata": {},
   "outputs": [
    {
     "name": "stdout",
     "output_type": "stream",
     "text": [
      "Predicted Y : 4, author: ['Sir Thomas Clifford Allbutt']\n"
     ]
    }
   ],
   "source": [
    "y_pred = mnb.predict(cv2.transform([x_test.iloc[1]]))\n",
    "print(f\"Predicted Y : {y_pred[0]}, author: {labelencoder.inverse_transform([y_pred[0]])}\")"
   ]
  },
  {
   "cell_type": "markdown",
   "metadata": {},
   "source": [
    "## Hyperparameter tuning: Searching for the ideal model"
   ]
  },
  {
   "cell_type": "code",
   "execution_count": 26,
   "metadata": {},
   "outputs": [
    {
     "name": "stdout",
     "output_type": "stream",
     "text": [
      "Running Model:\u001b[32mKNeighbors\u001b[0m\n",
      "Best Training Score:\u001b[36m89.58%  \u001b[0mBest Test Score:\u001b[36m90.42%  \u001b[0m\n",
      "Best Params:\u001b[33m{'leaf_size': 25, 'n_neighbors': 25, 'weights': 'uniform'}\u001b[0m\n",
      "Running Model:\u001b[32mDecisionTree\u001b[0m\n",
      "Best Training Score:\u001b[36m74.69%  \u001b[0mBest Test Score:\u001b[36m71.25%  \u001b[0m\n",
      "Best Params:\u001b[33m{'criterion': 'entropy', 'max_depth': None, 'max_features': None, 'random_state': 42, 'splitter': 'best'}\u001b[0m\n",
      "Running Model:\u001b[32mMultinomialNB\u001b[0m\n",
      "Best Training Score:\u001b[36m91.46%  \u001b[0mBest Test Score:\u001b[36m92.08%  \u001b[0m\n",
      "Best Params:\u001b[33m{'fit_prior': True}\u001b[0m\n",
      "Running Model:\u001b[32mSVC\u001b[0m\n",
      "Best Training Score:\u001b[36m92.81%  \u001b[0mBest Test Score:\u001b[36m91.67%  \u001b[0m\n",
      "Best Params:\u001b[33m{'fit_intercept': True, 'loss': 'hinge', 'max_iter': 900, 'multi_class': 'ovr', 'random_state': 42}\u001b[0m\n",
      "Running Model:\u001b[32mSVM\u001b[0m\n",
      "Best Training Score:\u001b[36m92.4%  \u001b[0mBest Test Score:\u001b[36m92.08%  \u001b[0m\n",
      "Best Params:\u001b[33m{'C': 1, 'gamma': 1, 'kernel': 'rbf'}\u001b[0m\n",
      "Running Model:\u001b[32mRandomForest\u001b[0m\n",
      "Best Training Score:\u001b[36m90.62%  \u001b[0mBest Test Score:\u001b[36m90.83%  \u001b[0m\n",
      "Best Params:\u001b[33m{'bootstrap': False, 'criterion': 'gini', 'max_depth': 85, 'max_features': 'log2', 'n_estimators': 90, 'random_state': 42}\u001b[0m\n",
      "Running Model:\u001b[32mSGDClassifier\u001b[0m\n",
      "Best Training Score:\u001b[36m92.29%  \u001b[0mBest Test Score:\u001b[36m92.92%  \u001b[0m\n",
      "Best Params:\u001b[33m{'alpha': 0.001, 'early_stopping': True, 'loss': 'hinge', 'max_iter': 1000, 'penalty': 'l2', 'random_state': 42}\u001b[0m\n",
      "\n",
      "Best Model:\u001b[31mSGDClassifier(alpha=0.001, early_stopping=True, random_state=42)\u001b[0m\n"
     ]
    }
   ],
   "source": [
    "from termcolor import cprint\n",
    "from sklearn.ensemble import RandomForestClassifier\n",
    "from sklearn.svm import LinearSVC\n",
    "from sklearn import svm\n",
    "from sklearn.naive_bayes import MultinomialNB\n",
    "from sklearn.linear_model import SGDClassifier\n",
    "from sklearn.tree import DecisionTreeClassifier\n",
    "from sklearn.neighbors import KNeighborsClassifier\n",
    "\n",
    "from sklearn.metrics import accuracy_score\n",
    "from sklearn.model_selection import GridSearchCV\n",
    "\n",
    "# ignore ConvergenceWarnings\n",
    "from  warnings import simplefilter\n",
    "from sklearn.exceptions import ConvergenceWarning\n",
    "simplefilter(\"ignore\", category=ConvergenceWarning)\n",
    "\n",
    "models = [\n",
    "    { \"model_instance\": KNeighborsClassifier(),\n",
    "      \"model_name\": \"KNeighbors\",\n",
    "      \"params\": {\n",
    "          \"n_neighbors\": [25,30,35,45],\n",
    "          \"weights\": ['uniform','distance'],\n",
    "          \"leaf_size\": [25,30,35]\n",
    "        }\n",
    "    },\n",
    "    { \"model_instance\": DecisionTreeClassifier(),\n",
    "      \"model_name\": \"DecisionTree\",\n",
    "      \"params\": {\n",
    "          \"criterion\": ['gini','entropy'],\n",
    "          \"splitter\": ['best','random'],\n",
    "          \"max_depth\": [None,90,95,100],\n",
    "          \"max_features\": [None, \"auto\",\"sqrt\",\"log2\"],\n",
    "          \"random_state\": [42]\n",
    "      }\n",
    "    },\n",
    "    { \"model_instance\": MultinomialNB(),\n",
    "      \"model_name\":\"MultinomialNB\",\n",
    "      \"params\": {\n",
    "          \"fit_prior\": [True, False]\n",
    "      }\n",
    "    },\n",
    "    { \"model_instance\": LinearSVC(),\n",
    "      \"model_name\": \"SVC\",\n",
    "      \"params\": {\n",
    "          \"loss\": ['hinge','squared_hinge'],\n",
    "          \"multi_class\": ['ovr', 'crammer_singer'],\n",
    "          \"fit_intercept\": [True, False],\n",
    "          \"random_state\": [42],\n",
    "          \"max_iter\": [900, 1000, 1100]\n",
    "      }\n",
    "    },\n",
    "    { \"model_instance\": svm.SVC(),\n",
    "      \"model_name\": \"SVM\",\n",
    "      \"params\": {\n",
    "          'C': [0.1,1, 10, 100, 1000], 'gamma': [1,0.1,0.01,0.001,0.0001], 'kernel': ['rbf']\n",
    "      }\n",
    "    },\n",
    "    { \"model_instance\": RandomForestClassifier(),\n",
    "      \"model_name\": \"RandomForest\",\n",
    "      \"params\": {\n",
    "      \"criterion\": ['gini','entropy'],\n",
    "      \"bootstrap\": [True, False],\n",
    "      \"max_depth\": [85,90,95,100],\n",
    "      \"max_features\": ['sqrt','log2'],\n",
    "      \"n_estimators\": [60, 80, 90],\n",
    "      \"random_state\": [42]\n",
    "      }\n",
    "    },\n",
    "    { \"model_instance\": SGDClassifier(),\n",
    "      \"model_name\": \"SGDClassifier\",\n",
    "      \"params\": {\n",
    "          \"loss\": ['hinge','log','perceptron'],\n",
    "          \"penalty\": ['l2', 'l1'],\n",
    "          \"alpha\": [0.0001, 0.0003, 0.0010],\n",
    "          \"early_stopping\": [True],\n",
    "          \"max_iter\": [1000, 1500],\n",
    "          \"random_state\": [42]\n",
    "      }\n",
    "    }\n",
    "]\n",
    "\n",
    "scores = []\n",
    "highest_acc = 0\n",
    "best_model = None\n",
    "\n",
    "for model in models:\n",
    "\n",
    "  # Create a based model\n",
    "  model_instance = model[\"model_instance\"]\n",
    "  model_name = model[\"model_name\"]\n",
    "  print(\"Running Model:\",end=\"\")\n",
    "  cprint(model_name, \"green\")\n",
    "  # Instantiate the grid search model\n",
    "  classifier = GridSearchCV(estimator=model_instance, param_grid=model[\"params\"],\n",
    "                            cv = 10, n_jobs = 1)\n",
    "\n",
    "  # Fit the model\n",
    "  classifier.fit(X_traincv, y_train);\n",
    "\n",
    "  # Make a prediction on the test split to find model accuracy\n",
    "  predicted = classifier.predict(x_testcv)\n",
    "  acc = accuracy_score(predicted, y_test)\n",
    "  # If model have the highest accuracy, it's out best model\n",
    "  if acc > highest_acc:\n",
    "    highest_acc = acc\n",
    "    best_model = classifier\n",
    "\n",
    "  scores.append({\n",
    "    \"model\":model_name,\n",
    "    \"training_best_score\": classifier.best_score_,\n",
    "    \"test_best_score\": acc,\n",
    "    \"best_params\": classifier.best_params_\n",
    "  })\n",
    "\n",
    "  print(\"Best Training Score:\",end=\"\")\n",
    "  cprint(f\"{round(classifier.best_score_*100,2)}%  \", \"cyan\", end=\"\")\n",
    "  print(\"Best Test Score:\",end=\"\")\n",
    "  cprint(f\"{round(acc*100,2)}%  \", \"cyan\")\n",
    "\n",
    "  print(\"Best Params:\",end=\"\")\n",
    "  cprint(classifier.best_params_,\"yellow\")\n",
    "\n",
    "print(\"\\nBest Model:\",end=\"\")\n",
    "cprint(best_model.best_estimator_,\"red\")\n"
   ]
  },
  {
   "cell_type": "code",
   "execution_count": 27,
   "metadata": {},
   "outputs": [
    {
     "data": {
      "text/html": [
       "<div>\n",
       "<style scoped>\n",
       "    .dataframe tbody tr th:only-of-type {\n",
       "        vertical-align: middle;\n",
       "    }\n",
       "\n",
       "    .dataframe tbody tr th {\n",
       "        vertical-align: top;\n",
       "    }\n",
       "\n",
       "    .dataframe thead th {\n",
       "        text-align: right;\n",
       "    }\n",
       "</style>\n",
       "<table border=\"1\" class=\"dataframe\">\n",
       "  <thead>\n",
       "    <tr style=\"text-align: right;\">\n",
       "      <th></th>\n",
       "      <th>model</th>\n",
       "      <th>training_best_score</th>\n",
       "      <th>test_best_score</th>\n",
       "      <th>best_params</th>\n",
       "    </tr>\n",
       "  </thead>\n",
       "  <tbody>\n",
       "    <tr>\n",
       "      <th>0</th>\n",
       "      <td>KNeighbors</td>\n",
       "      <td>0.895833</td>\n",
       "      <td>0.904167</td>\n",
       "      <td>{'leaf_size': 25, 'n_neighbors': 25, 'weights'...</td>\n",
       "    </tr>\n",
       "    <tr>\n",
       "      <th>1</th>\n",
       "      <td>DecisionTree</td>\n",
       "      <td>0.746875</td>\n",
       "      <td>0.712500</td>\n",
       "      <td>{'criterion': 'entropy', 'max_depth': None, 'm...</td>\n",
       "    </tr>\n",
       "    <tr>\n",
       "      <th>2</th>\n",
       "      <td>MultinomialNB</td>\n",
       "      <td>0.914583</td>\n",
       "      <td>0.920833</td>\n",
       "      <td>{'fit_prior': True}</td>\n",
       "    </tr>\n",
       "    <tr>\n",
       "      <th>3</th>\n",
       "      <td>SVC</td>\n",
       "      <td>0.928125</td>\n",
       "      <td>0.916667</td>\n",
       "      <td>{'fit_intercept': True, 'loss': 'hinge', 'max_...</td>\n",
       "    </tr>\n",
       "    <tr>\n",
       "      <th>4</th>\n",
       "      <td>SVM</td>\n",
       "      <td>0.923958</td>\n",
       "      <td>0.920833</td>\n",
       "      <td>{'C': 1, 'gamma': 1, 'kernel': 'rbf'}</td>\n",
       "    </tr>\n",
       "    <tr>\n",
       "      <th>5</th>\n",
       "      <td>RandomForest</td>\n",
       "      <td>0.906250</td>\n",
       "      <td>0.908333</td>\n",
       "      <td>{'bootstrap': False, 'criterion': 'gini', 'max...</td>\n",
       "    </tr>\n",
       "    <tr>\n",
       "      <th>6</th>\n",
       "      <td>SGDClassifier</td>\n",
       "      <td>0.922917</td>\n",
       "      <td>0.929167</td>\n",
       "      <td>{'alpha': 0.001, 'early_stopping': True, 'loss...</td>\n",
       "    </tr>\n",
       "  </tbody>\n",
       "</table>\n",
       "</div>"
      ],
      "text/plain": [
       "           model  training_best_score  test_best_score  \\\n",
       "0     KNeighbors             0.895833         0.904167   \n",
       "1   DecisionTree             0.746875         0.712500   \n",
       "2  MultinomialNB             0.914583         0.920833   \n",
       "3            SVC             0.928125         0.916667   \n",
       "4            SVM             0.923958         0.920833   \n",
       "5   RandomForest             0.906250         0.908333   \n",
       "6  SGDClassifier             0.922917         0.929167   \n",
       "\n",
       "                                         best_params  \n",
       "0  {'leaf_size': 25, 'n_neighbors': 25, 'weights'...  \n",
       "1  {'criterion': 'entropy', 'max_depth': None, 'm...  \n",
       "2                                {'fit_prior': True}  \n",
       "3  {'fit_intercept': True, 'loss': 'hinge', 'max_...  \n",
       "4              {'C': 1, 'gamma': 1, 'kernel': 'rbf'}  \n",
       "5  {'bootstrap': False, 'criterion': 'gini', 'max...  \n",
       "6  {'alpha': 0.001, 'early_stopping': True, 'loss...  "
      ]
     },
     "execution_count": 27,
     "metadata": {},
     "output_type": "execute_result"
    }
   ],
   "source": [
    "d = pd.DataFrame(scores)\n",
    "d\n"
   ]
  },
  {
   "cell_type": "markdown",
   "metadata": {},
   "source": [
    "### Plotting each models performance"
   ]
  },
  {
   "cell_type": "code",
   "execution_count": 45,
   "metadata": {},
   "outputs": [
    {
     "data": {
      "text/plain": [
       "<AxesSubplot:xlabel='model', ylabel='test_best_score'>"
      ]
     },
     "execution_count": 45,
     "metadata": {},
     "output_type": "execute_result"
    },
    {
     "data": {
      "image/png": "[encoded data removed]",
      "text/plain": [
       "<Figure size 648x360 with 1 Axes>"
      ]
     },
     "metadata": {},
     "output_type": "display_data"
    }
   ],
   "source": [
    "import seaborn as sns\n",
    "import matplotlib.pyplot as plt\n",
    "plt.figure(figsize=(9, 5))\n",
    "sns.barplot(x='model', y='test_best_score', data=d, errwidth=0)\n"
   ]
  },
  {
   "cell_type": "markdown",
   "metadata": {},
   "source": [
    "## Evaluating the model and make predictions using the Best Model"
   ]
  },
  {
   "cell_type": "code",
   "execution_count": 29,
   "metadata": {},
   "outputs": [],
   "source": [
    "from sklearn.metrics import accuracy_score, precision_score, recall_score, f1_score\n",
    "from sklearn.metrics import classification_report\n",
    "\n",
    "\n",
    "def evaluate_preds(y_true, y_preds):\n",
    "    \"\"\"\n",
    "    Performs evaluation comparison on y_true labels vs. y_pred labels\n",
    "    on a classification.\n",
    "    \"\"\"\n",
    "    accuracy = accuracy_score(y_true, y_preds)\n",
    "    precision = precision_score(y_true, y_preds, average='micro')\n",
    "    recall = recall_score(y_true, y_preds, average='micro')\n",
    "    f1 = f1_score(y_true, y_preds, average='micro')\n",
    "    metric_dict = {\"accuracy\": round(accuracy, 2),\n",
    "                   \"precision\": round(precision, 2),\n",
    "                   \"recall\": round(recall, 2),\n",
    "                   \"f1\": round(f1, 2)}\n",
    "    print(f\"Acc: {accuracy * 100:.2f}%\")\n",
    "    print(f\"Precision: {precision:.2f}\")\n",
    "    print(f\"Recall: {recall:.2f}\")\n",
    "    print(f\"F1 score: {f1:.2f}\")\n",
    "\n",
    "    return metric_dict\n"
   ]
  },
  {
   "cell_type": "markdown",
   "metadata": {},
   "source": [
    "Now we make predictions using the test data to see how the model performs"
   ]
  },
  {
   "cell_type": "code",
   "execution_count": 30,
   "metadata": {},
   "outputs": [
    {
     "name": "stdout",
     "output_type": "stream",
     "text": [
      "Acc: 92.92%\n",
      "Precision: 0.93\n",
      "Recall: 0.93\n",
      "F1 score: 0.93\n"
     ]
    },
    {
     "data": {
      "text/plain": [
       "{'accuracy': 0.93, 'precision': 0.93, 'recall': 0.93, 'f1': 0.93}"
      ]
     },
     "execution_count": 30,
     "metadata": {},
     "output_type": "execute_result"
    }
   ],
   "source": [
    "predicted = best_model.predict(x_testcv)\n",
    "evaluate_preds(y_test, predicted)\n"
   ]
  },
  {
   "cell_type": "markdown",
   "metadata": {},
   "source": [
    "Classification report"
   ]
  },
  {
   "cell_type": "code",
   "execution_count": 48,
   "metadata": {},
   "outputs": [
    {
     "name": "stdout",
     "output_type": "stream",
     "text": [
      "                             precision    recall  f1-score   support\n",
      "\n",
      " Robert C. (Chamblet) Adams       0.90      0.85      0.88        41\n",
      "                   Averroes       1.00      0.95      0.98        43\n",
      "        Alfred William Benn       1.00      0.89      0.94        44\n",
      "                  Confucius       1.00      0.97      0.99        36\n",
      "Sir Thomas Clifford Allbutt       0.71      0.94      0.81        34\n",
      "               T.J. de Boer       1.00      0.98      0.99        42\n",
      "\n",
      "                   accuracy                           0.93       240\n",
      "                  macro avg       0.93      0.93      0.93       240\n",
      "               weighted avg       0.94      0.93      0.93       240\n",
      "\n"
     ]
    }
   ],
   "source": [
    "from sklearn import metrics\n",
    "print(metrics.classification_report(y_test, predicted,\n",
    "                                    target_names=df['author'].unique()))"
   ]
  },
  {
   "cell_type": "markdown",
   "metadata": {},
   "source": [
    "Confusion Matrix"
   ]
  },
  {
   "cell_type": "code",
   "execution_count": 51,
   "metadata": {},
   "outputs": [
    {
     "data": {
      "text/plain": [
       "array(['Robert C. (Chamblet) Adams', 'Averroes', 'Alfred William Benn',\n",
       "       'Confucius', 'Sir Thomas Clifford Allbutt', 'T.J. de Boer'],\n",
       "      dtype=object)"
      ]
     },
     "execution_count": 51,
     "metadata": {},
     "output_type": "execute_result"
    }
   ],
   "source": [
    "df[\"author\"].unique()\n"
   ]
  },
  {
   "cell_type": "code",
   "execution_count": 31,
   "metadata": {},
   "outputs": [
    {
     "data": {
      "image/png": "[encoded data removed]",
      "text/plain": [
       "<Figure size 576x432 with 2 Axes>"
      ]
     },
     "metadata": {},
     "output_type": "display_data"
    }
   ],
   "source": [
    "from sklearn.metrics import confusion_matrix\n",
    "\n",
    "conf_mat = confusion_matrix(y_test, predicted)\n",
    "fig, ax = plt.subplots(figsize=(8, 6))\n",
    "sns.heatmap(conf_mat, annot=True, fmt='d',\n",
    "            xticklabels=df[\"author\"].unique(), yticklabels=df[\"author\"].unique())\n",
    "plt.ylabel('Actual')\n",
    "plt.xlabel('Predicted')\n",
    "plt.show()\n"
   ]
  }
 ],
 "metadata": {
  "interpreter": {
   "hash": "8cdb09b0bc1c395d296938b19fe7764d972a7ceeffba4d3ad7ff6a3771581719"
  },
  "kernelspec": {
   "display_name": "Python 3.8.8 64-bit ('ProgramData': virtualenv)",
   "language": "python",
   "name": "python3"
  },
  "language_info": {
   "codemirror_mode": {
    "name": "ipython",
    "version": 3
   },
   "file_extension": ".py",
   "mimetype": "text/x-python",
   "name": "python",
   "nbconvert_exporter": "python",
   "pygments_lexer": "ipython3",
   "version": "3.8.8"
  },
  "orig_nbformat": 2
 },
 "nbformat": 4,
 "nbformat_minor": 2
}
